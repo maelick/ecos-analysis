{
 "cells": [
  {
   "cell_type": "code",
   "execution_count": 1,
   "metadata": {
    "collapsed": true
   },
   "outputs": [],
   "source": [
    "import pandas\n",
    "import matplotlib.pyplot as plt\n",
    "import seaborn \n",
    "import gzip\n",
    "\n",
    "%matplotlib inline"
   ]
  },
  {
   "cell_type": "code",
   "execution_count": 7,
   "metadata": {
    "collapsed": false
   },
   "outputs": [],
   "source": [
    "with gzip.GzipFile('../data/exports_cran.csv.gz') as f:\n",
    "    exports = pandas.read_csv(f, usecols=['repository', 'ref', 'export'])\n",
    "with gzip.GzipFile('../data/index_cran.csv.gz') as f: \n",
    "    packages = pandas.read_csv(f, parse_dates=['time'], usecols=['source', 'repository', 'ref', 'time'])"
   ]
  },
  {
   "cell_type": "code",
   "execution_count": 8,
   "metadata": {
    "collapsed": true
   },
   "outputs": [],
   "source": [
    "exports = exports.rename(columns={'repository': 'package', 'ref': 'version', 'export': 'item'})\n",
    "packages = packages.query('source == \"cran\"').rename(columns={'repository': 'package', 'ref': 'version'})"
   ]
  },
  {
   "cell_type": "code",
   "execution_count": 9,
   "metadata": {
    "collapsed": false,
    "scrolled": true
   },
   "outputs": [],
   "source": [
    "packages = (packages\n",
    "    .groupby(by='package')\n",
    "    .time\n",
    "    .agg({'pkg_firstdate': pandas.np.min, 'pkg_lastdate': pandas.np.max})\n",
    "    .merge(packages, how='left', left_index=True, right_on='package')\n",
    "    .drop('source', axis=1)\n",
    ")\n",
    "\n",
    "exports = exports.merge(packages[['package', 'version', 'time']], on=('package', 'version')).sort_values('time')"
   ]
  },
  {
   "cell_type": "code",
   "execution_count": 30,
   "metadata": {
    "collapsed": false
   },
   "outputs": [
    {
     "ename": "KeyboardInterrupt",
     "evalue": "",
     "output_type": "error",
     "traceback": [
      "\u001b[0;31m---------------------------------------------------------------------------\u001b[0m",
      "\u001b[0;31mKeyboardInterrupt\u001b[0m                         Traceback (most recent call last)",
      "\u001b[0;32m<ipython-input-30-4f9af0e23347>\u001b[0m in \u001b[0;36m<module>\u001b[0;34m()\u001b[0m\n\u001b[1;32m      6\u001b[0m     \u001b[0mlast_items\u001b[0m \u001b[0;34m=\u001b[0m \u001b[0mset\u001b[0m\u001b[0;34m(\u001b[0m\u001b[0;34m)\u001b[0m\u001b[0;34m\u001b[0m\u001b[0m\n\u001b[1;32m      7\u001b[0m \u001b[0;34m\u001b[0m\u001b[0m\n\u001b[0;32m----> 8\u001b[0;31m     \u001b[0;32mfor\u001b[0m \u001b[0mversion\u001b[0m\u001b[0;34m,\u001b[0m \u001b[0mversion_group\u001b[0m \u001b[0;32min\u001b[0m \u001b[0mpackage_group\u001b[0m\u001b[0;34m.\u001b[0m\u001b[0mgroupby\u001b[0m\u001b[0;34m(\u001b[0m\u001b[0;34m'time'\u001b[0m\u001b[0;34m)\u001b[0m\u001b[0;34m:\u001b[0m\u001b[0;34m\u001b[0m\u001b[0m\n\u001b[0m\u001b[1;32m      9\u001b[0m         \u001b[0mitems\u001b[0m \u001b[0;34m=\u001b[0m \u001b[0mset\u001b[0m\u001b[0;34m(\u001b[0m\u001b[0mversion_group\u001b[0m\u001b[0;34m.\u001b[0m\u001b[0mitem\u001b[0m\u001b[0;34m)\u001b[0m\u001b[0;34m\u001b[0m\u001b[0m\n\u001b[1;32m     10\u001b[0m         \u001b[0madditions\u001b[0m \u001b[0;34m=\u001b[0m \u001b[0mitems\u001b[0m\u001b[0;34m.\u001b[0m\u001b[0mdifference\u001b[0m\u001b[0;34m(\u001b[0m\u001b[0mlast_items\u001b[0m\u001b[0;34m)\u001b[0m\u001b[0;34m\u001b[0m\u001b[0m\n",
      "\u001b[0;32m/home/alexandre/Documents/Recherche/ecos-analysis/WEA2016/venv/lib/python3.5/site-packages/pandas/core/groupby.py\u001b[0m in \u001b[0;36mget_iterator\u001b[0;34m(self, data, axis)\u001b[0m\n\u001b[1;32m   1483\u001b[0m         \u001b[0msplitter\u001b[0m \u001b[0;34m=\u001b[0m \u001b[0mself\u001b[0m\u001b[0;34m.\u001b[0m\u001b[0m_get_splitter\u001b[0m\u001b[0;34m(\u001b[0m\u001b[0mdata\u001b[0m\u001b[0;34m,\u001b[0m \u001b[0maxis\u001b[0m\u001b[0;34m=\u001b[0m\u001b[0maxis\u001b[0m\u001b[0;34m)\u001b[0m\u001b[0;34m\u001b[0m\u001b[0m\n\u001b[1;32m   1484\u001b[0m         \u001b[0mkeys\u001b[0m \u001b[0;34m=\u001b[0m \u001b[0mself\u001b[0m\u001b[0;34m.\u001b[0m\u001b[0m_get_group_keys\u001b[0m\u001b[0;34m(\u001b[0m\u001b[0;34m)\u001b[0m\u001b[0;34m\u001b[0m\u001b[0m\n\u001b[0;32m-> 1485\u001b[0;31m         \u001b[0;32mfor\u001b[0m \u001b[0mkey\u001b[0m\u001b[0;34m,\u001b[0m \u001b[0;34m(\u001b[0m\u001b[0mi\u001b[0m\u001b[0;34m,\u001b[0m \u001b[0mgroup\u001b[0m\u001b[0;34m)\u001b[0m \u001b[0;32min\u001b[0m \u001b[0mzip\u001b[0m\u001b[0;34m(\u001b[0m\u001b[0mkeys\u001b[0m\u001b[0;34m,\u001b[0m \u001b[0msplitter\u001b[0m\u001b[0;34m)\u001b[0m\u001b[0;34m:\u001b[0m\u001b[0;34m\u001b[0m\u001b[0m\n\u001b[0m\u001b[1;32m   1486\u001b[0m             \u001b[0;32myield\u001b[0m \u001b[0mkey\u001b[0m\u001b[0;34m,\u001b[0m \u001b[0mgroup\u001b[0m\u001b[0;34m\u001b[0m\u001b[0m\n\u001b[1;32m   1487\u001b[0m \u001b[0;34m\u001b[0m\u001b[0m\n",
      "\u001b[0;32m/home/alexandre/Documents/Recherche/ecos-analysis/WEA2016/venv/lib/python3.5/site-packages/pandas/core/groupby.py\u001b[0m in \u001b[0;36m__iter__\u001b[0;34m(self)\u001b[0m\n\u001b[1;32m   3893\u001b[0m             \u001b[0;31m#     raise AssertionError('Start %s must be less than end %s'\u001b[0m\u001b[0;34m\u001b[0m\u001b[0;34m\u001b[0m\u001b[0m\n\u001b[1;32m   3894\u001b[0m             \u001b[0;31m#                          % (str(start), str(end)))\u001b[0m\u001b[0;34m\u001b[0m\u001b[0;34m\u001b[0m\u001b[0m\n\u001b[0;32m-> 3895\u001b[0;31m             \u001b[0;32myield\u001b[0m \u001b[0mi\u001b[0m\u001b[0;34m,\u001b[0m \u001b[0mself\u001b[0m\u001b[0;34m.\u001b[0m\u001b[0m_chop\u001b[0m\u001b[0;34m(\u001b[0m\u001b[0msdata\u001b[0m\u001b[0;34m,\u001b[0m \u001b[0mslice\u001b[0m\u001b[0;34m(\u001b[0m\u001b[0mstart\u001b[0m\u001b[0;34m,\u001b[0m \u001b[0mend\u001b[0m\u001b[0;34m)\u001b[0m\u001b[0;34m)\u001b[0m\u001b[0;34m\u001b[0m\u001b[0m\n\u001b[0m\u001b[1;32m   3896\u001b[0m \u001b[0;34m\u001b[0m\u001b[0m\n\u001b[1;32m   3897\u001b[0m     \u001b[0;32mdef\u001b[0m \u001b[0m_get_sorted_data\u001b[0m\u001b[0;34m(\u001b[0m\u001b[0mself\u001b[0m\u001b[0;34m)\u001b[0m\u001b[0;34m:\u001b[0m\u001b[0;34m\u001b[0m\u001b[0m\n",
      "\u001b[0;32m/home/alexandre/Documents/Recherche/ecos-analysis/WEA2016/venv/lib/python3.5/site-packages/pandas/core/groupby.py\u001b[0m in \u001b[0;36m_chop\u001b[0;34m(self, sdata, slice_obj)\u001b[0m\n\u001b[1;32m   3935\u001b[0m     \u001b[0;32mdef\u001b[0m \u001b[0m_chop\u001b[0m\u001b[0;34m(\u001b[0m\u001b[0mself\u001b[0m\u001b[0;34m,\u001b[0m \u001b[0msdata\u001b[0m\u001b[0;34m,\u001b[0m \u001b[0mslice_obj\u001b[0m\u001b[0;34m)\u001b[0m\u001b[0;34m:\u001b[0m\u001b[0;34m\u001b[0m\u001b[0m\n\u001b[1;32m   3936\u001b[0m         \u001b[0;32mif\u001b[0m \u001b[0mself\u001b[0m\u001b[0;34m.\u001b[0m\u001b[0maxis\u001b[0m \u001b[0;34m==\u001b[0m \u001b[0;36m0\u001b[0m\u001b[0;34m:\u001b[0m\u001b[0;34m\u001b[0m\u001b[0m\n\u001b[0;32m-> 3937\u001b[0;31m             \u001b[0;32mreturn\u001b[0m \u001b[0msdata\u001b[0m\u001b[0;34m.\u001b[0m\u001b[0miloc\u001b[0m\u001b[0;34m[\u001b[0m\u001b[0mslice_obj\u001b[0m\u001b[0;34m]\u001b[0m\u001b[0;34m\u001b[0m\u001b[0m\n\u001b[0m\u001b[1;32m   3938\u001b[0m         \u001b[0;32melse\u001b[0m\u001b[0;34m:\u001b[0m\u001b[0;34m\u001b[0m\u001b[0m\n\u001b[1;32m   3939\u001b[0m             \u001b[0;32mreturn\u001b[0m \u001b[0msdata\u001b[0m\u001b[0;34m.\u001b[0m\u001b[0m_slice\u001b[0m\u001b[0;34m(\u001b[0m\u001b[0mslice_obj\u001b[0m\u001b[0;34m,\u001b[0m \u001b[0maxis\u001b[0m\u001b[0;34m=\u001b[0m\u001b[0;36m1\u001b[0m\u001b[0;34m)\u001b[0m  \u001b[0;31m# ix[:, slice_obj]\u001b[0m\u001b[0;34m\u001b[0m\u001b[0m\n",
      "\u001b[0;32m/home/alexandre/Documents/Recherche/ecos-analysis/WEA2016/venv/lib/python3.5/site-packages/pandas/core/indexing.py\u001b[0m in \u001b[0;36m__getitem__\u001b[0;34m(self, key)\u001b[0m\n\u001b[1;32m   1294\u001b[0m             \u001b[0;32mreturn\u001b[0m \u001b[0mself\u001b[0m\u001b[0;34m.\u001b[0m\u001b[0m_getitem_tuple\u001b[0m\u001b[0;34m(\u001b[0m\u001b[0mkey\u001b[0m\u001b[0;34m)\u001b[0m\u001b[0;34m\u001b[0m\u001b[0m\n\u001b[1;32m   1295\u001b[0m         \u001b[0;32melse\u001b[0m\u001b[0;34m:\u001b[0m\u001b[0;34m\u001b[0m\u001b[0m\n\u001b[0;32m-> 1296\u001b[0;31m             \u001b[0;32mreturn\u001b[0m \u001b[0mself\u001b[0m\u001b[0;34m.\u001b[0m\u001b[0m_getitem_axis\u001b[0m\u001b[0;34m(\u001b[0m\u001b[0mkey\u001b[0m\u001b[0;34m,\u001b[0m \u001b[0maxis\u001b[0m\u001b[0;34m=\u001b[0m\u001b[0;36m0\u001b[0m\u001b[0;34m)\u001b[0m\u001b[0;34m\u001b[0m\u001b[0m\n\u001b[0m\u001b[1;32m   1297\u001b[0m \u001b[0;34m\u001b[0m\u001b[0m\n\u001b[1;32m   1298\u001b[0m     \u001b[0;32mdef\u001b[0m \u001b[0m_getitem_axis\u001b[0m\u001b[0;34m(\u001b[0m\u001b[0mself\u001b[0m\u001b[0;34m,\u001b[0m \u001b[0mkey\u001b[0m\u001b[0;34m,\u001b[0m \u001b[0maxis\u001b[0m\u001b[0;34m=\u001b[0m\u001b[0;36m0\u001b[0m\u001b[0;34m)\u001b[0m\u001b[0;34m:\u001b[0m\u001b[0;34m\u001b[0m\u001b[0m\n",
      "\u001b[0;32m/home/alexandre/Documents/Recherche/ecos-analysis/WEA2016/venv/lib/python3.5/site-packages/pandas/core/indexing.py\u001b[0m in \u001b[0;36m_getitem_axis\u001b[0;34m(self, key, axis)\u001b[0m\n\u001b[1;32m   1585\u001b[0m         \u001b[0;32mif\u001b[0m \u001b[0misinstance\u001b[0m\u001b[0;34m(\u001b[0m\u001b[0mkey\u001b[0m\u001b[0;34m,\u001b[0m \u001b[0mslice\u001b[0m\u001b[0;34m)\u001b[0m\u001b[0;34m:\u001b[0m\u001b[0;34m\u001b[0m\u001b[0m\n\u001b[1;32m   1586\u001b[0m             \u001b[0mself\u001b[0m\u001b[0;34m.\u001b[0m\u001b[0m_has_valid_type\u001b[0m\u001b[0;34m(\u001b[0m\u001b[0mkey\u001b[0m\u001b[0;34m,\u001b[0m \u001b[0maxis\u001b[0m\u001b[0;34m)\u001b[0m\u001b[0;34m\u001b[0m\u001b[0m\n\u001b[0;32m-> 1587\u001b[0;31m             \u001b[0;32mreturn\u001b[0m \u001b[0mself\u001b[0m\u001b[0;34m.\u001b[0m\u001b[0m_get_slice_axis\u001b[0m\u001b[0;34m(\u001b[0m\u001b[0mkey\u001b[0m\u001b[0;34m,\u001b[0m \u001b[0maxis\u001b[0m\u001b[0;34m=\u001b[0m\u001b[0maxis\u001b[0m\u001b[0;34m)\u001b[0m\u001b[0;34m\u001b[0m\u001b[0m\n\u001b[0m\u001b[1;32m   1588\u001b[0m \u001b[0;34m\u001b[0m\u001b[0m\n\u001b[1;32m   1589\u001b[0m         \u001b[0;32melif\u001b[0m \u001b[0mis_bool_indexer\u001b[0m\u001b[0;34m(\u001b[0m\u001b[0mkey\u001b[0m\u001b[0;34m)\u001b[0m\u001b[0;34m:\u001b[0m\u001b[0;34m\u001b[0m\u001b[0m\n",
      "\u001b[0;32m/home/alexandre/Documents/Recherche/ecos-analysis/WEA2016/venv/lib/python3.5/site-packages/pandas/core/indexing.py\u001b[0m in \u001b[0;36m_get_slice_axis\u001b[0;34m(self, slice_obj, axis)\u001b[0m\n\u001b[1;32m   1577\u001b[0m         \u001b[0mslice_obj\u001b[0m \u001b[0;34m=\u001b[0m \u001b[0mself\u001b[0m\u001b[0;34m.\u001b[0m\u001b[0m_convert_slice_indexer\u001b[0m\u001b[0;34m(\u001b[0m\u001b[0mslice_obj\u001b[0m\u001b[0;34m,\u001b[0m \u001b[0maxis\u001b[0m\u001b[0;34m)\u001b[0m\u001b[0;34m\u001b[0m\u001b[0m\n\u001b[1;32m   1578\u001b[0m         \u001b[0;32mif\u001b[0m \u001b[0misinstance\u001b[0m\u001b[0;34m(\u001b[0m\u001b[0mslice_obj\u001b[0m\u001b[0;34m,\u001b[0m \u001b[0mslice\u001b[0m\u001b[0;34m)\u001b[0m\u001b[0;34m:\u001b[0m\u001b[0;34m\u001b[0m\u001b[0m\n\u001b[0;32m-> 1579\u001b[0;31m             \u001b[0;32mreturn\u001b[0m \u001b[0mself\u001b[0m\u001b[0;34m.\u001b[0m\u001b[0m_slice\u001b[0m\u001b[0;34m(\u001b[0m\u001b[0mslice_obj\u001b[0m\u001b[0;34m,\u001b[0m \u001b[0maxis\u001b[0m\u001b[0;34m=\u001b[0m\u001b[0maxis\u001b[0m\u001b[0;34m,\u001b[0m \u001b[0mkind\u001b[0m\u001b[0;34m=\u001b[0m\u001b[0;34m'iloc'\u001b[0m\u001b[0;34m)\u001b[0m\u001b[0;34m\u001b[0m\u001b[0m\n\u001b[0m\u001b[1;32m   1580\u001b[0m         \u001b[0;32melse\u001b[0m\u001b[0;34m:\u001b[0m\u001b[0;34m\u001b[0m\u001b[0m\n\u001b[1;32m   1581\u001b[0m             \u001b[0;32mreturn\u001b[0m \u001b[0mself\u001b[0m\u001b[0;34m.\u001b[0m\u001b[0mobj\u001b[0m\u001b[0;34m.\u001b[0m\u001b[0mtake\u001b[0m\u001b[0;34m(\u001b[0m\u001b[0mslice_obj\u001b[0m\u001b[0;34m,\u001b[0m \u001b[0maxis\u001b[0m\u001b[0;34m=\u001b[0m\u001b[0maxis\u001b[0m\u001b[0;34m,\u001b[0m \u001b[0mconvert\u001b[0m\u001b[0;34m=\u001b[0m\u001b[0;32mFalse\u001b[0m\u001b[0;34m)\u001b[0m\u001b[0;34m\u001b[0m\u001b[0m\n",
      "\u001b[0;32m/home/alexandre/Documents/Recherche/ecos-analysis/WEA2016/venv/lib/python3.5/site-packages/pandas/core/indexing.py\u001b[0m in \u001b[0;36m_slice\u001b[0;34m(self, obj, axis, kind)\u001b[0m\n\u001b[1;32m     97\u001b[0m \u001b[0;34m\u001b[0m\u001b[0m\n\u001b[1;32m     98\u001b[0m     \u001b[0;32mdef\u001b[0m \u001b[0m_slice\u001b[0m\u001b[0;34m(\u001b[0m\u001b[0mself\u001b[0m\u001b[0;34m,\u001b[0m \u001b[0mobj\u001b[0m\u001b[0;34m,\u001b[0m \u001b[0maxis\u001b[0m\u001b[0;34m=\u001b[0m\u001b[0;36m0\u001b[0m\u001b[0;34m,\u001b[0m \u001b[0mkind\u001b[0m\u001b[0;34m=\u001b[0m\u001b[0;32mNone\u001b[0m\u001b[0;34m)\u001b[0m\u001b[0;34m:\u001b[0m\u001b[0;34m\u001b[0m\u001b[0m\n\u001b[0;32m---> 99\u001b[0;31m         \u001b[0;32mreturn\u001b[0m \u001b[0mself\u001b[0m\u001b[0;34m.\u001b[0m\u001b[0mobj\u001b[0m\u001b[0;34m.\u001b[0m\u001b[0m_slice\u001b[0m\u001b[0;34m(\u001b[0m\u001b[0mobj\u001b[0m\u001b[0;34m,\u001b[0m \u001b[0maxis\u001b[0m\u001b[0;34m=\u001b[0m\u001b[0maxis\u001b[0m\u001b[0;34m,\u001b[0m \u001b[0mkind\u001b[0m\u001b[0;34m=\u001b[0m\u001b[0mkind\u001b[0m\u001b[0;34m)\u001b[0m\u001b[0;34m\u001b[0m\u001b[0m\n\u001b[0m\u001b[1;32m    100\u001b[0m \u001b[0;34m\u001b[0m\u001b[0m\n\u001b[1;32m    101\u001b[0m     \u001b[0;32mdef\u001b[0m \u001b[0m_get_setitem_indexer\u001b[0m\u001b[0;34m(\u001b[0m\u001b[0mself\u001b[0m\u001b[0;34m,\u001b[0m \u001b[0mkey\u001b[0m\u001b[0;34m)\u001b[0m\u001b[0;34m:\u001b[0m\u001b[0;34m\u001b[0m\u001b[0m\n",
      "\u001b[0;32m/home/alexandre/Documents/Recherche/ecos-analysis/WEA2016/venv/lib/python3.5/site-packages/pandas/core/generic.py\u001b[0m in \u001b[0;36m_slice\u001b[0;34m(self, slobj, axis, kind)\u001b[0m\n\u001b[1;32m   1452\u001b[0m         \"\"\"\n\u001b[1;32m   1453\u001b[0m         \u001b[0maxis\u001b[0m \u001b[0;34m=\u001b[0m \u001b[0mself\u001b[0m\u001b[0;34m.\u001b[0m\u001b[0m_get_block_manager_axis\u001b[0m\u001b[0;34m(\u001b[0m\u001b[0maxis\u001b[0m\u001b[0;34m)\u001b[0m\u001b[0;34m\u001b[0m\u001b[0m\n\u001b[0;32m-> 1454\u001b[0;31m         \u001b[0mresult\u001b[0m \u001b[0;34m=\u001b[0m \u001b[0mself\u001b[0m\u001b[0;34m.\u001b[0m\u001b[0m_constructor\u001b[0m\u001b[0;34m(\u001b[0m\u001b[0mself\u001b[0m\u001b[0;34m.\u001b[0m\u001b[0m_data\u001b[0m\u001b[0;34m.\u001b[0m\u001b[0mget_slice\u001b[0m\u001b[0;34m(\u001b[0m\u001b[0mslobj\u001b[0m\u001b[0;34m,\u001b[0m \u001b[0maxis\u001b[0m\u001b[0;34m=\u001b[0m\u001b[0maxis\u001b[0m\u001b[0;34m)\u001b[0m\u001b[0;34m)\u001b[0m\u001b[0;34m\u001b[0m\u001b[0m\n\u001b[0m\u001b[1;32m   1455\u001b[0m         \u001b[0mresult\u001b[0m \u001b[0;34m=\u001b[0m \u001b[0mresult\u001b[0m\u001b[0;34m.\u001b[0m\u001b[0m__finalize__\u001b[0m\u001b[0;34m(\u001b[0m\u001b[0mself\u001b[0m\u001b[0;34m)\u001b[0m\u001b[0;34m\u001b[0m\u001b[0m\n\u001b[1;32m   1456\u001b[0m \u001b[0;34m\u001b[0m\u001b[0m\n",
      "\u001b[0;32m/home/alexandre/Documents/Recherche/ecos-analysis/WEA2016/venv/lib/python3.5/site-packages/pandas/core/frame.py\u001b[0m in \u001b[0;36m__init__\u001b[0;34m(self, data, index, columns, dtype, copy)\u001b[0m\n\u001b[1;32m    303\u001b[0m                 \u001b[0;32mraise\u001b[0m \u001b[0mPandasError\u001b[0m\u001b[0;34m(\u001b[0m\u001b[0;34m'DataFrame constructor not properly called!'\u001b[0m\u001b[0;34m)\u001b[0m\u001b[0;34m\u001b[0m\u001b[0m\n\u001b[1;32m    304\u001b[0m \u001b[0;34m\u001b[0m\u001b[0m\n\u001b[0;32m--> 305\u001b[0;31m         \u001b[0mNDFrame\u001b[0m\u001b[0;34m.\u001b[0m\u001b[0m__init__\u001b[0m\u001b[0;34m(\u001b[0m\u001b[0mself\u001b[0m\u001b[0;34m,\u001b[0m \u001b[0mmgr\u001b[0m\u001b[0;34m,\u001b[0m \u001b[0mfastpath\u001b[0m\u001b[0;34m=\u001b[0m\u001b[0;32mTrue\u001b[0m\u001b[0;34m)\u001b[0m\u001b[0;34m\u001b[0m\u001b[0m\n\u001b[0m\u001b[1;32m    306\u001b[0m \u001b[0;34m\u001b[0m\u001b[0m\n\u001b[1;32m    307\u001b[0m     \u001b[0;32mdef\u001b[0m \u001b[0m_init_dict\u001b[0m\u001b[0;34m(\u001b[0m\u001b[0mself\u001b[0m\u001b[0;34m,\u001b[0m \u001b[0mdata\u001b[0m\u001b[0;34m,\u001b[0m \u001b[0mindex\u001b[0m\u001b[0;34m,\u001b[0m \u001b[0mcolumns\u001b[0m\u001b[0;34m,\u001b[0m \u001b[0mdtype\u001b[0m\u001b[0;34m=\u001b[0m\u001b[0;32mNone\u001b[0m\u001b[0;34m)\u001b[0m\u001b[0;34m:\u001b[0m\u001b[0;34m\u001b[0m\u001b[0m\n",
      "\u001b[0;31mKeyboardInterrupt\u001b[0m: "
     ]
    }
   ],
   "source": [
    "by_item = {}\n",
    "by_version = {}\n",
    "\n",
    "for package, package_group in exports.groupby('package'):\n",
    "    first_version = True\n",
    "    last_items = set()\n",
    "        \n",
    "    for version, version_group in package_group.groupby('time'):        \n",
    "        items = set(version_group.item)    \n",
    "        additions = items.difference(last_items)\n",
    "        deletions = last_items.difference(items)\n",
    "        last_items = set(items)\n",
    "        \n",
    "        for item in items:\n",
    "            by_item.setdefault((package, item), {'deleted_in': pandas.NaT})\n",
    "        for item in additions:\n",
    "            by_item[(package, item)]['added_in'] = version\n",
    "        for item in deletions:\n",
    "            by_item[(package, item)]['deleted_in'] = version\n",
    "    \n",
    "        by_version[(package, version)] = {'items': len(items), \n",
    "                                          'additions': len(additions), \n",
    "                                          'deletions': len(deletions)}"
   ]
  },
  {
   "cell_type": "code",
   "execution_count": 29,
   "metadata": {
    "collapsed": false
   },
   "outputs": [],
   "source": [
    "df_by_item = pandas.DataFrame.from_dict(by_item, orient='index')\n",
    "df_by_version = pandas.DataFrame.from_dict(by_version, orient='index')"
   ]
  },
  {
   "cell_type": "code",
   "execution_count": 26,
   "metadata": {
    "collapsed": false
   },
   "outputs": [
    {
     "data": {
      "text/html": [
       "<div>\n",
       "<table border=\"1\" class=\"dataframe\">\n",
       "  <thead>\n",
       "    <tr style=\"text-align: right;\">\n",
       "      <th></th>\n",
       "      <th></th>\n",
       "      <th>deleted_in</th>\n",
       "      <th>added_in</th>\n",
       "    </tr>\n",
       "  </thead>\n",
       "  <tbody>\n",
       "    <tr>\n",
       "      <th rowspan=\"2\" valign=\"top\">ACEt</th>\n",
       "      <th>AtCtEp</th>\n",
       "      <td>1.5.3</td>\n",
       "      <td>1.3</td>\n",
       "    </tr>\n",
       "    <tr>\n",
       "      <th>AtEtp</th>\n",
       "      <td>1.5.3</td>\n",
       "      <td>1.3</td>\n",
       "    </tr>\n",
       "    <tr>\n",
       "      <th rowspan=\"2\" valign=\"top\">ADaCGH</th>\n",
       "      <th>pSegmentHaarSeg</th>\n",
       "      <td>1.3-4</td>\n",
       "      <td>1.5-3</td>\n",
       "    </tr>\n",
       "    <tr>\n",
       "      <th>tempdir2</th>\n",
       "      <td>1.3-4</td>\n",
       "      <td>1.5-3</td>\n",
       "    </tr>\n",
       "    <tr>\n",
       "      <th>AER</th>\n",
       "      <th>nobs.survreg</th>\n",
       "      <td>1.2-0</td>\n",
       "      <td>1.1-9</td>\n",
       "    </tr>\n",
       "    <tr>\n",
       "      <th>AGSDest</th>\n",
       "      <th>AGSTobj</th>\n",
       "      <td>2.2</td>\n",
       "      <td>1.0</td>\n",
       "    </tr>\n",
       "    <tr>\n",
       "      <th rowspan=\"24\" valign=\"top\">AICcmodavg</th>\n",
       "      <th>AICc.clm</th>\n",
       "      <td>2.0-1</td>\n",
       "      <td>2.00</td>\n",
       "    </tr>\n",
       "    <tr>\n",
       "      <th>AICc.clmm</th>\n",
       "      <td>2.0-1</td>\n",
       "      <td>2.00</td>\n",
       "    </tr>\n",
       "    <tr>\n",
       "      <th>AICc.coxph</th>\n",
       "      <td>2.0-1</td>\n",
       "      <td>2.00</td>\n",
       "    </tr>\n",
       "    <tr>\n",
       "      <th>AICc.glm</th>\n",
       "      <td>2.0-1</td>\n",
       "      <td>2.00</td>\n",
       "    </tr>\n",
       "    <tr>\n",
       "      <th>AICc.gls</th>\n",
       "      <td>2.0-1</td>\n",
       "      <td>2.00</td>\n",
       "    </tr>\n",
       "    <tr>\n",
       "      <th>AICc.lme</th>\n",
       "      <td>2.0-1</td>\n",
       "      <td>2.00</td>\n",
       "    </tr>\n",
       "    <tr>\n",
       "      <th>AICc.mer</th>\n",
       "      <td>2.0-1</td>\n",
       "      <td>2.00</td>\n",
       "    </tr>\n",
       "    <tr>\n",
       "      <th>AICc.merMod</th>\n",
       "      <td>2.0-1</td>\n",
       "      <td>2.00</td>\n",
       "    </tr>\n",
       "    <tr>\n",
       "      <th>AICc.nlme</th>\n",
       "      <td>2.0-1</td>\n",
       "      <td>2.00</td>\n",
       "    </tr>\n",
       "    <tr>\n",
       "      <th>AICc.nls</th>\n",
       "      <td>2.0-1</td>\n",
       "      <td>2.00</td>\n",
       "    </tr>\n",
       "    <tr>\n",
       "      <th>AICc.polr</th>\n",
       "      <td>2.0-1</td>\n",
       "      <td>2.00</td>\n",
       "    </tr>\n",
       "    <tr>\n",
       "      <th>AICc.rlm</th>\n",
       "      <td>2.0-1</td>\n",
       "      <td>2.00</td>\n",
       "    </tr>\n",
       "    <tr>\n",
       "      <th>AICcCustom</th>\n",
       "      <td>2.00</td>\n",
       "      <td>2.0-1</td>\n",
       "    </tr>\n",
       "    <tr>\n",
       "      <th>DIC.bugs</th>\n",
       "      <td>2.0-1</td>\n",
       "      <td>2.00</td>\n",
       "    </tr>\n",
       "    <tr>\n",
       "      <th>DIC.rjags</th>\n",
       "      <td>2.0-1</td>\n",
       "      <td>2.00</td>\n",
       "    </tr>\n",
       "    <tr>\n",
       "      <th>aictabCustom</th>\n",
       "      <td>2.00</td>\n",
       "      <td>2.0-1</td>\n",
       "    </tr>\n",
       "    <tr>\n",
       "      <th>countDist</th>\n",
       "      <td>2.00</td>\n",
       "      <td>2.0-4</td>\n",
       "    </tr>\n",
       "    <tr>\n",
       "      <th>countHist</th>\n",
       "      <td>2.00</td>\n",
       "      <td>2.0-4</td>\n",
       "    </tr>\n",
       "    <tr>\n",
       "      <th>covDiag</th>\n",
       "      <td>2.00</td>\n",
       "      <td>2.0-4</td>\n",
       "    </tr>\n",
       "    <tr>\n",
       "      <th>detHist</th>\n",
       "      <td>2.00</td>\n",
       "      <td>2.0-4</td>\n",
       "    </tr>\n",
       "    <tr>\n",
       "      <th>extractCN</th>\n",
       "      <td>2.00</td>\n",
       "      <td>2.0-1</td>\n",
       "    </tr>\n",
       "    <tr>\n",
       "      <th>extractSE.mer</th>\n",
       "      <td>2.0-1</td>\n",
       "      <td>2.00</td>\n",
       "    </tr>\n",
       "    <tr>\n",
       "      <th>extractSE.merMod</th>\n",
       "      <td>2.0-1</td>\n",
       "      <td>2.00</td>\n",
       "    </tr>\n",
       "    <tr>\n",
       "      <th>modavgCustom</th>\n",
       "      <td>2.00</td>\n",
       "      <td>2.0-1</td>\n",
       "    </tr>\n",
       "    <tr>\n",
       "      <th>...</th>\n",
       "      <th>...</th>\n",
       "      <td>...</td>\n",
       "      <td>...</td>\n",
       "    </tr>\n",
       "    <tr>\n",
       "      <th rowspan=\"3\" valign=\"top\">zendeskR</th>\n",
       "      <th>getOrganizations</th>\n",
       "      <td>0.3</td>\n",
       "      <td>0.1</td>\n",
       "    </tr>\n",
       "    <tr>\n",
       "      <th>getTickets</th>\n",
       "      <td>0.3</td>\n",
       "      <td>0.1</td>\n",
       "    </tr>\n",
       "    <tr>\n",
       "      <th>getTicketsForOrganization</th>\n",
       "      <td>0.4</td>\n",
       "      <td>0.3</td>\n",
       "    </tr>\n",
       "    <tr>\n",
       "      <th>zic</th>\n",
       "      <th>zic.ssvs</th>\n",
       "      <td>0.7.5</td>\n",
       "      <td>0.5-2</td>\n",
       "    </tr>\n",
       "    <tr>\n",
       "      <th rowspan=\"3\" valign=\"top\">zipfR</th>\n",
       "      <th>plot.spc</th>\n",
       "      <td>0.6-6</td>\n",
       "      <td>0.6-0</td>\n",
       "    </tr>\n",
       "    <tr>\n",
       "      <th>plot.vgc</th>\n",
       "      <td>0.6-6</td>\n",
       "      <td>0.6-0</td>\n",
       "    </tr>\n",
       "    <tr>\n",
       "      <th>zipfR.legend</th>\n",
       "      <td>0.6-6</td>\n",
       "      <td>0.6-0</td>\n",
       "    </tr>\n",
       "    <tr>\n",
       "      <th rowspan=\"22\" valign=\"top\">zoo</th>\n",
       "      <th>as.Date.numeric</th>\n",
       "      <td>1.7-2</td>\n",
       "      <td>1.7-5</td>\n",
       "    </tr>\n",
       "    <tr>\n",
       "      <th>as.Date.ts</th>\n",
       "      <td>1.7-2</td>\n",
       "      <td>1.7-5</td>\n",
       "    </tr>\n",
       "    <tr>\n",
       "      <th>as.Date.yearmon</th>\n",
       "      <td>1.7-2</td>\n",
       "      <td>1.7-5</td>\n",
       "    </tr>\n",
       "    <tr>\n",
       "      <th>as.Date.yearqtr</th>\n",
       "      <td>1.7-2</td>\n",
       "      <td>1.7-5</td>\n",
       "    </tr>\n",
       "    <tr>\n",
       "      <th>as.yearqtr.yearqtr</th>\n",
       "      <td>1.7-10</td>\n",
       "      <td>1.7-2</td>\n",
       "    </tr>\n",
       "    <tr>\n",
       "      <th>autoplot.zoo</th>\n",
       "      <td>1.7-2</td>\n",
       "      <td>1.7-9</td>\n",
       "    </tr>\n",
       "    <tr>\n",
       "      <th>facet_free</th>\n",
       "      <td>1.7-2</td>\n",
       "      <td>1.7-9</td>\n",
       "    </tr>\n",
       "    <tr>\n",
       "      <th>fortify.zoo</th>\n",
       "      <td>1.7-2</td>\n",
       "      <td>1.7-9</td>\n",
       "    </tr>\n",
       "    <tr>\n",
       "      <th>panel.arrows.its</th>\n",
       "      <td>1.6-3</td>\n",
       "      <td>1.2-0</td>\n",
       "    </tr>\n",
       "    <tr>\n",
       "      <th>panel.arrows.tis</th>\n",
       "      <td>1.6-3</td>\n",
       "      <td>1.5-7</td>\n",
       "    </tr>\n",
       "    <tr>\n",
       "      <th>panel.arrows.ts</th>\n",
       "      <td>1.6-3</td>\n",
       "      <td>1.2-0</td>\n",
       "    </tr>\n",
       "    <tr>\n",
       "      <th>panel.arrows.zoo</th>\n",
       "      <td>1.6-3</td>\n",
       "      <td>1.2-0</td>\n",
       "    </tr>\n",
       "    <tr>\n",
       "      <th>rapply</th>\n",
       "      <td>1.4-0</td>\n",
       "      <td>1.1-0</td>\n",
       "    </tr>\n",
       "    <tr>\n",
       "      <th>rollsum</th>\n",
       "      <td>1.7-2</td>\n",
       "      <td>1.7-8</td>\n",
       "    </tr>\n",
       "    <tr>\n",
       "      <th>rollsum.default</th>\n",
       "      <td>1.7-2</td>\n",
       "      <td>1.7-8</td>\n",
       "    </tr>\n",
       "    <tr>\n",
       "      <th>rollsumr</th>\n",
       "      <td>1.7-2</td>\n",
       "      <td>1.7-8</td>\n",
       "    </tr>\n",
       "    <tr>\n",
       "      <th>scale_x_yearmon</th>\n",
       "      <td>1.7-2</td>\n",
       "      <td>1.7-10</td>\n",
       "    </tr>\n",
       "    <tr>\n",
       "      <th>scale_x_yearqtr</th>\n",
       "      <td>1.7-2</td>\n",
       "      <td>1.7-10</td>\n",
       "    </tr>\n",
       "    <tr>\n",
       "      <th>scale_y_yearmon</th>\n",
       "      <td>1.7-2</td>\n",
       "      <td>1.7-10</td>\n",
       "    </tr>\n",
       "    <tr>\n",
       "      <th>scale_y_yearqtr</th>\n",
       "      <td>1.7-2</td>\n",
       "      <td>1.7-10</td>\n",
       "    </tr>\n",
       "    <tr>\n",
       "      <th>yearmon_trans</th>\n",
       "      <td>1.7-2</td>\n",
       "      <td>1.7-10</td>\n",
       "    </tr>\n",
       "    <tr>\n",
       "      <th>yearqtr_trans</th>\n",
       "      <td>1.7-2</td>\n",
       "      <td>1.7-10</td>\n",
       "    </tr>\n",
       "    <tr>\n",
       "      <th>ztable</th>\n",
       "      <th>myhtmlHead</th>\n",
       "      <td>0.1.3</td>\n",
       "      <td>0.1.0</td>\n",
       "    </tr>\n",
       "  </tbody>\n",
       "</table>\n",
       "<p>33803 rows × 2 columns</p>\n",
       "</div>"
      ],
      "text/plain": [
       "                                     deleted_in added_in\n",
       "ACEt       AtCtEp                         1.5.3      1.3\n",
       "           AtEtp                          1.5.3      1.3\n",
       "ADaCGH     pSegmentHaarSeg                1.3-4    1.5-3\n",
       "           tempdir2                       1.3-4    1.5-3\n",
       "AER        nobs.survreg                   1.2-0    1.1-9\n",
       "AGSDest    AGSTobj                          2.2      1.0\n",
       "AICcmodavg AICc.clm                       2.0-1     2.00\n",
       "           AICc.clmm                      2.0-1     2.00\n",
       "           AICc.coxph                     2.0-1     2.00\n",
       "           AICc.glm                       2.0-1     2.00\n",
       "           AICc.gls                       2.0-1     2.00\n",
       "           AICc.lme                       2.0-1     2.00\n",
       "           AICc.mer                       2.0-1     2.00\n",
       "           AICc.merMod                    2.0-1     2.00\n",
       "           AICc.nlme                      2.0-1     2.00\n",
       "           AICc.nls                       2.0-1     2.00\n",
       "           AICc.polr                      2.0-1     2.00\n",
       "           AICc.rlm                       2.0-1     2.00\n",
       "           AICcCustom                      2.00    2.0-1\n",
       "           DIC.bugs                       2.0-1     2.00\n",
       "           DIC.rjags                      2.0-1     2.00\n",
       "           aictabCustom                    2.00    2.0-1\n",
       "           countDist                       2.00    2.0-4\n",
       "           countHist                       2.00    2.0-4\n",
       "           covDiag                         2.00    2.0-4\n",
       "           detHist                         2.00    2.0-4\n",
       "           extractCN                       2.00    2.0-1\n",
       "           extractSE.mer                  2.0-1     2.00\n",
       "           extractSE.merMod               2.0-1     2.00\n",
       "           modavgCustom                    2.00    2.0-1\n",
       "...                                         ...      ...\n",
       "zendeskR   getOrganizations                 0.3      0.1\n",
       "           getTickets                       0.3      0.1\n",
       "           getTicketsForOrganization        0.4      0.3\n",
       "zic        zic.ssvs                       0.7.5    0.5-2\n",
       "zipfR      plot.spc                       0.6-6    0.6-0\n",
       "           plot.vgc                       0.6-6    0.6-0\n",
       "           zipfR.legend                   0.6-6    0.6-0\n",
       "zoo        as.Date.numeric                1.7-2    1.7-5\n",
       "           as.Date.ts                     1.7-2    1.7-5\n",
       "           as.Date.yearmon                1.7-2    1.7-5\n",
       "           as.Date.yearqtr                1.7-2    1.7-5\n",
       "           as.yearqtr.yearqtr            1.7-10    1.7-2\n",
       "           autoplot.zoo                   1.7-2    1.7-9\n",
       "           facet_free                     1.7-2    1.7-9\n",
       "           fortify.zoo                    1.7-2    1.7-9\n",
       "           panel.arrows.its               1.6-3    1.2-0\n",
       "           panel.arrows.tis               1.6-3    1.5-7\n",
       "           panel.arrows.ts                1.6-3    1.2-0\n",
       "           panel.arrows.zoo               1.6-3    1.2-0\n",
       "           rapply                         1.4-0    1.1-0\n",
       "           rollsum                        1.7-2    1.7-8\n",
       "           rollsum.default                1.7-2    1.7-8\n",
       "           rollsumr                       1.7-2    1.7-8\n",
       "           scale_x_yearmon                1.7-2   1.7-10\n",
       "           scale_x_yearqtr                1.7-2   1.7-10\n",
       "           scale_y_yearmon                1.7-2   1.7-10\n",
       "           scale_y_yearqtr                1.7-2   1.7-10\n",
       "           yearmon_trans                  1.7-2   1.7-10\n",
       "           yearqtr_trans                  1.7-2   1.7-10\n",
       "ztable     myhtmlHead                     0.1.3    0.1.0\n",
       "\n",
       "[33803 rows x 2 columns]"
      ]
     },
     "execution_count": 26,
     "metadata": {},
     "output_type": "execute_result"
    }
   ],
   "source": [
    "df_by_item.dropna()"
   ]
  },
  {
   "cell_type": "markdown",
   "metadata": {},
   "source": [
    "# API changes"
   ]
  },
  {
   "cell_type": "code",
   "execution_count": null,
   "metadata": {
    "collapsed": false
   },
   "outputs": [],
   "source": []
  },
  {
   "cell_type": "markdown",
   "metadata": {},
   "source": [
    "## Changes distribution by packages and by versions"
   ]
  },
  {
   "cell_type": "code",
   "execution_count": null,
   "metadata": {
    "collapsed": false
   },
   "outputs": [],
   "source": []
  },
  {
   "cell_type": "markdown",
   "metadata": {},
   "source": [
    "##  Changes by dates"
   ]
  },
  {
   "cell_type": "code",
   "execution_count": null,
   "metadata": {
    "collapsed": false
   },
   "outputs": [],
   "source": []
  },
  {
   "cell_type": "markdown",
   "metadata": {},
   "source": [
    "## Changes by ages"
   ]
  },
  {
   "cell_type": "code",
   "execution_count": null,
   "metadata": {
    "collapsed": true
   },
   "outputs": [],
   "source": []
  },
  {
   "cell_type": "markdown",
   "metadata": {},
   "source": [
    "# API changes correlation"
   ]
  },
  {
   "cell_type": "code",
   "execution_count": null,
   "metadata": {
    "collapsed": true
   },
   "outputs": [],
   "source": []
  },
  {
   "cell_type": "markdown",
   "metadata": {},
   "source": [
    "## For packages"
   ]
  },
  {
   "cell_type": "code",
   "execution_count": null,
   "metadata": {
    "collapsed": true
   },
   "outputs": [],
   "source": []
  },
  {
   "cell_type": "markdown",
   "metadata": {},
   "source": [
    "## For versions"
   ]
  },
  {
   "cell_type": "code",
   "execution_count": null,
   "metadata": {
    "collapsed": true
   },
   "outputs": [],
   "source": []
  },
  {
   "cell_type": "markdown",
   "metadata": {},
   "source": [
    "# Survival analysis"
   ]
  },
  {
   "cell_type": "code",
   "execution_count": null,
   "metadata": {
    "collapsed": true
   },
   "outputs": [],
   "source": []
  },
  {
   "cell_type": "markdown",
   "metadata": {},
   "source": [
    "## Deletions since introduction"
   ]
  },
  {
   "cell_type": "code",
   "execution_count": null,
   "metadata": {
    "collapsed": true
   },
   "outputs": [],
   "source": []
  }
 ],
 "metadata": {
  "kernelspec": {
   "display_name": "Python 3",
   "language": "python",
   "name": "python3"
  },
  "language_info": {
   "codemirror_mode": {
    "name": "ipython",
    "version": 3
   },
   "file_extension": ".py",
   "mimetype": "text/x-python",
   "name": "python",
   "nbconvert_exporter": "python",
   "pygments_lexer": "ipython3",
   "version": "3.5.1"
  }
 },
 "nbformat": 4,
 "nbformat_minor": 0
}
