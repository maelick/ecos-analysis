{
 "cells": [
  {
   "cell_type": "code",
   "execution_count": 19,
   "metadata": {
    "collapsed": false
   },
   "outputs": [],
   "source": [
    "import matplotlib\n",
    "import seaborn\n",
    "import pandas\n",
    "import networkx\n",
    "import tqdm\n",
    "import gzip\n",
    "import igraph\n",
    "\n",
    "from collections import Counter, OrderedDict\n",
    "\n",
    "%matplotlib inline"
   ]
  },
  {
   "cell_type": "code",
   "execution_count": 20,
   "metadata": {
    "collapsed": false
   },
   "outputs": [],
   "source": [
    "ecosystems = ['pypi', 'npm', 'cran']\n",
    "\n",
    "COLORS = {ecos: seaborn.color_palette()[i] for i, ecos in enumerate(ecosystems)}\n",
    "FIG_SIZE = (6, 3)\n",
    "FIG_SIZE_WIDE = (10, 3)\n",
    "SHOW_TITLE = True\n",
    "\n",
    "def savefig(fig, name):\n",
    "    # Uncomment next line to disable export\n",
    "    # return\n",
    "    return fig.savefig('../figures/{}.pdf'.format(name), bbox_inches='tight')"
   ]
  },
  {
   "cell_type": "code",
   "execution_count": 21,
   "metadata": {
    "collapsed": false
   },
   "outputs": [],
   "source": [
    "graphs = OrderedDict()\n",
    "\n",
    "for ecos in ecosystems:\n",
    "    with gzip.GzipFile('../../{}/data/packages.csv.gz'.format(ecos)) as f:\n",
    "        packages = pandas.read_csv(f, index_col=[0,1])\n",
    "    with gzip.GzipFile('../../{}/data/deps.csv.gz'.format(ecos)) as f:\n",
    "        deps = pandas.read_csv(f)\n",
    "\n",
    "    # Take latest version of each package\n",
    "    packages = packages.sort_values('time').groupby(level=0, sort=False).tail(1)\n",
    "    deps = packages.merge(deps, how='inner', left_index=True, right_on=['package', 'version']).dropna()\n",
    "\n",
    "    # Filter out dependencies that are not registered packages\n",
    "    deps = packages.reset_index().merge(deps, how='inner', left_on='package', right_on='dependency', suffixes=('_2', ''))\n",
    "    \n",
    "    # Construct graph\n",
    "    graph = igraph.Graph(directed=True)\n",
    "    graph.add_vertices(packages.index.get_level_values('package'))\n",
    "    edges = [(row.package, row.dependency) for row in deps[['package', 'dependency']].itertuples()]\n",
    "    graph.add_edges(edges)\n",
    "    \n",
    "    graphs[ecos] = graph\n",
    "    "
   ]
  },
  {
   "cell_type": "markdown",
   "metadata": {},
   "source": [
    "## Packages and Dependencies"
   ]
  },
  {
   "cell_type": "code",
   "execution_count": 22,
   "metadata": {
    "collapsed": false
   },
   "outputs": [
    {
     "data": {
      "text/html": [
       "<div>\n",
       "<table border=\"1\" class=\"dataframe\">\n",
       "  <thead>\n",
       "    <tr style=\"text-align: right;\">\n",
       "      <th></th>\n",
       "      <th>dependencies</th>\n",
       "      <th>pkg_with_deps</th>\n",
       "      <th>pkg_non_isolated</th>\n",
       "      <th>pkg_with_rev_deps</th>\n",
       "      <th>packages</th>\n",
       "      <th>pkg_isolated</th>\n",
       "    </tr>\n",
       "  </thead>\n",
       "  <tbody>\n",
       "    <tr>\n",
       "      <th>cran</th>\n",
       "      <td>3770</td>\n",
       "      <td>1921</td>\n",
       "      <td>2449</td>\n",
       "      <td>872</td>\n",
       "      <td>9568</td>\n",
       "      <td>7119</td>\n",
       "    </tr>\n",
       "    <tr>\n",
       "      <th>npm</th>\n",
       "      <td>725450</td>\n",
       "      <td>185228</td>\n",
       "      <td>207364</td>\n",
       "      <td>66129</td>\n",
       "      <td>317160</td>\n",
       "      <td>109796</td>\n",
       "    </tr>\n",
       "    <tr>\n",
       "      <th>pypi</th>\n",
       "      <td>10063</td>\n",
       "      <td>3344</td>\n",
       "      <td>4785</td>\n",
       "      <td>1739</td>\n",
       "      <td>82134</td>\n",
       "      <td>77349</td>\n",
       "    </tr>\n",
       "  </tbody>\n",
       "</table>\n",
       "</div>"
      ],
      "text/plain": [
       "      dependencies  pkg_with_deps  pkg_non_isolated  pkg_with_rev_deps  \\\n",
       "cran          3770           1921              2449                872   \n",
       "npm         725450         185228            207364              66129   \n",
       "pypi         10063           3344              4785               1739   \n",
       "\n",
       "      packages  pkg_isolated  \n",
       "cran      9568          7119  \n",
       "npm     317160        109796  \n",
       "pypi     82134         77349  "
      ]
     },
     "execution_count": 22,
     "metadata": {},
     "output_type": "execute_result"
    }
   ],
   "source": [
    "data = {ecos: {} for ecos in graphs.keys()}\n",
    "for ecos, graph in graphs.items():\n",
    "    data[ecos]['packages'] = graph.vcount()\n",
    "    data[ecos]['dependencies'] = graph.ecount()\n",
    "    data[ecos]['pkg_with_deps'] = len([True for d in graph.outdegree() if d > 0])\n",
    "    data[ecos]['pkg_with_rev_deps'] = len([True for d in graph.indegree() if d > 0])\n",
    "    data[ecos]['pkg_non_isolated'] = len([True for d in graph.degree() if d > 0])\n",
    "    data[ecos]['pkg_isolated'] = len([True for d in graph.degree() if d == 0])\n",
    "df = pandas.DataFrame.from_dict(data, orient='index')\n",
    "df"
   ]
  },
  {
   "cell_type": "code",
   "execution_count": 23,
   "metadata": {
    "collapsed": false
   },
   "outputs": [
    {
     "data": {
      "image/png": "[encoded data removed]",
      "text/plain": [
       "<matplotlib.figure.Figure at 0x7fc9002d2c88>"
      ]
     },
     "metadata": {},
     "output_type": "display_data"
    }
   ],
   "source": [
    "df['with_deps'] = df['pkg_with_deps'] / df['packages']\n",
    "df['with_rev_deps'] = df['pkg_with_rev_deps'] / df['packages']\n",
    "df['isolated'] = df['pkg_isolated'] / df['packages']\n",
    "ax = df[['with_deps', 'with_rev_deps', 'isolated']].plot.bar(title='Proportion of packages', color=seaborn.color_palette()[3:])\n",
    "\n",
    "if not SHOW_TITLE:\n",
    "    ax.set_title('')\n",
    "ax.figure.set_size_inches(FIG_SIZE)\n",
    "savefig(ax.figure, 'pkg_overview')"
   ]
  },
  {
   "cell_type": "code",
   "execution_count": 24,
   "metadata": {
    "collapsed": false
   },
   "outputs": [
    {
     "data": {
      "image/png": "[encoded data removed]",
      "text/plain": [
       "<matplotlib.figure.Figure at 0x7fc8f4603470>"
      ]
     },
     "metadata": {},
     "output_type": "display_data"
    },
    {
     "data": {
      "image/png": "[encoded data removed]",
      "text/plain": [
       "<matplotlib.figure.Figure at 0x7fc9020e3978>"
      ]
     },
     "metadata": {},
     "output_type": "display_data"
    }
   ],
   "source": [
    "data_in = []\n",
    "data_in_p = []\n",
    "data_out = []\n",
    "data_out_p = []\n",
    "\n",
    "for ecos, graph in graphs.items():\n",
    "    n = graph.vcount()\n",
    "    for d in graph.outdegree():\n",
    "        if d > 0:\n",
    "            data_out.append((ecos, d))\n",
    "            data_out_p.append((ecos, 100 * d / n))\n",
    "            \n",
    "    for d in graph.indegree():\n",
    "        if d > 0:\n",
    "            data_in.append((ecos, d))\n",
    "            data_in_p.append((ecos, 100 * d / n))\n",
    "\n",
    "fig, axes = matplotlib.pyplot.subplots(ncols=2, sharey=True, sharex=True)            \n",
    "if SHOW_TITLE:\n",
    "    fig.suptitle('Distribution of the number of (reverse) dependencies')\n",
    "\n",
    "ax = seaborn.boxplot(0, 1, data=pandas.DataFrame.from_records(data_out), ax=axes[0])\n",
    "ax.set_ylim(0, 10)\n",
    "ax.set_xlabel('')\n",
    "ax.set_ylabel('# deps')\n",
    "ax.set_title('Dependencies (non-zero)')\n",
    "\n",
    "ax = seaborn.boxplot(0, 1, data=pandas.DataFrame.from_records(data_in), ax=axes[1])\n",
    "ax.set_ylim(0, 10)\n",
    "ax.set_xlabel('')\n",
    "ax.set_ylabel('# rev deps')\n",
    "ax.set_title('Reverse dependencies (non-zero)')\n",
    "\n",
    "fig.set_size_inches(FIG_SIZE)\n",
    "savefig(fig, 'distr_deps')\n",
    "\n",
    "\n",
    "\n",
    "fig, axes = matplotlib.pyplot.subplots(ncols=2, sharey=True, sharex=True)            \n",
    "if SHOW_TITLE:\n",
    "    fig.suptitle('Distribution of the proportion of (reverse) dependencies wrt. total packages')\n",
    "\n",
    "ax = seaborn.boxplot(0, 1, data=pandas.DataFrame.from_records(data_out_p), ax=axes[0])\n",
    "ax.set_ylim(0, 0.05)\n",
    "ax.set_xlabel('')\n",
    "ax.set_ylabel('%')\n",
    "ax.set_title('Dependencies (non-zero)')\n",
    "\n",
    "ax = seaborn.boxplot(0, 1, data=pandas.DataFrame.from_records(data_in_p), ax=axes[1])\n",
    "ax.set_ylim(0, 0.05)\n",
    "ax.set_xlabel('')\n",
    "ax.set_ylabel('%')\n",
    "ax.set_title('Reverse dependencies (non-zero)')\n",
    "\n",
    "fig.set_size_inches(FIG_SIZE)\n",
    "savefig(fig, 'distr_deps_relative')"
   ]
  },
  {
   "cell_type": "code",
   "execution_count": 25,
   "metadata": {
    "collapsed": false
   },
   "outputs": [
    {
     "name": "stdout",
     "output_type": "stream",
     "text": [
      "Most required packages\n",
      "pypi : requests (593), numpy (526), six (435), pytest (259), coverage (245), scipy (221), matplotlib (179), pytest-cov (158), check-manifest (154), mock (144), \n",
      "npm : lodash (23306), request (14571), async (14089), underscore (11976), commander (9409), express (9365), chalk (8964), debug (8463), bluebird (7261), mkdirp (6326), \n",
      "cran : Rcpp (468), ggplot2 (126), httr (84), dplyr (74), rJava (62), Matrix (55), stringr (51), data.table (49), jsonlite (43), plyr (42), \n",
      "\n",
      "Most dependent packages\n",
      "pypi : invenio-records-rest (50), invenio-migrator (49), invenio-openaire (48), invenio-previewer (47), invenio-communities (46), gnocchi (43), invenio-logging (40), cameo (40), invenio-files-rest (39), jsonresolver (38), \n",
      "npm : mikolalysenko-hoarders (389), terrible-lodash (309), smasher (130), lodash-modularized (129), compute.io (122), bb-lp-cli (115), smashing-dev-tool (114), brainfock (114), cordova-plugin-require-bluetoothle (112), files-and-folders-server (110), \n",
      "cran : radiant (19), AFM (18), SSDM (15), btergm (14), SurvRank (13), Luminescence (13), toaster (13), hyfo (12), spocc (12), CorReg (11), \n"
     ]
    }
   ],
   "source": [
    "print('Most required packages')\n",
    "for ecos, graph in graphs.items():\n",
    "    print(ecos, ':', end=' ')\n",
    "    for vertex, degree in sorted(zip(graph.vs, graph.indegree()), key=lambda x: x[1], reverse=True)[:10]:\n",
    "        print('{} ({})'.format(vertex['name'], degree), end=', ')\n",
    "    print()\n",
    "\n",
    "print()\n",
    "\n",
    "print('Most dependent packages')\n",
    "for ecos, graph in graphs.items():\n",
    "    print(ecos, ':', end=' ')\n",
    "    for vertex, degree in sorted(zip(graph.vs, graph.outdegree()), key=lambda x: x[1], reverse=True)[:10]:\n",
    "        print('{} ({})'.format(vertex['name'], degree), end=', ')\n",
    "    print()"
   ]
  },
  {
   "cell_type": "markdown",
   "metadata": {},
   "source": [
    "## Connected components"
   ]
  },
  {
   "cell_type": "code",
   "execution_count": 26,
   "metadata": {
    "collapsed": false
   },
   "outputs": [
    {
     "name": "stdout",
     "output_type": "stream",
     "text": [
      "Number of (weakly) connected components by component size\n"
     ]
    },
    {
     "data": {
      "text/html": [
       "<div>\n",
       "<table border=\"1\" class=\"dataframe\">\n",
       "  <thead>\n",
       "    <tr style=\"text-align: right;\">\n",
       "      <th></th>\n",
       "      <th>1</th>\n",
       "      <th>2</th>\n",
       "      <th>3</th>\n",
       "      <th>4</th>\n",
       "      <th>5</th>\n",
       "      <th>6</th>\n",
       "      <th>7</th>\n",
       "      <th>8</th>\n",
       "      <th>9</th>\n",
       "      <th>10</th>\n",
       "      <th>...</th>\n",
       "      <th>27</th>\n",
       "      <th>28</th>\n",
       "      <th>32</th>\n",
       "      <th>35</th>\n",
       "      <th>36</th>\n",
       "      <th>41</th>\n",
       "      <th>106</th>\n",
       "      <th>2126</th>\n",
       "      <th>4349</th>\n",
       "      <th>201593</th>\n",
       "    </tr>\n",
       "  </thead>\n",
       "  <tbody>\n",
       "    <tr>\n",
       "      <th>cran</th>\n",
       "      <td>7119.0</td>\n",
       "      <td>76.0</td>\n",
       "      <td>30.0</td>\n",
       "      <td>8.0</td>\n",
       "      <td>1.0</td>\n",
       "      <td>2.0</td>\n",
       "      <td>2.0</td>\n",
       "      <td>0.0</td>\n",
       "      <td>2.0</td>\n",
       "      <td>0.0</td>\n",
       "      <td>...</td>\n",
       "      <td>0.0</td>\n",
       "      <td>0.0</td>\n",
       "      <td>0.0</td>\n",
       "      <td>0.0</td>\n",
       "      <td>0.0</td>\n",
       "      <td>0.0</td>\n",
       "      <td>0.0</td>\n",
       "      <td>1.0</td>\n",
       "      <td>0.0</td>\n",
       "      <td>0.0</td>\n",
       "    </tr>\n",
       "    <tr>\n",
       "      <th>npm</th>\n",
       "      <td>109810.0</td>\n",
       "      <td>1486.0</td>\n",
       "      <td>296.0</td>\n",
       "      <td>119.0</td>\n",
       "      <td>40.0</td>\n",
       "      <td>32.0</td>\n",
       "      <td>9.0</td>\n",
       "      <td>11.0</td>\n",
       "      <td>11.0</td>\n",
       "      <td>1.0</td>\n",
       "      <td>...</td>\n",
       "      <td>1.0</td>\n",
       "      <td>2.0</td>\n",
       "      <td>1.0</td>\n",
       "      <td>1.0</td>\n",
       "      <td>1.0</td>\n",
       "      <td>1.0</td>\n",
       "      <td>1.0</td>\n",
       "      <td>0.0</td>\n",
       "      <td>0.0</td>\n",
       "      <td>1.0</td>\n",
       "    </tr>\n",
       "    <tr>\n",
       "      <th>pypi</th>\n",
       "      <td>77349.0</td>\n",
       "      <td>140.0</td>\n",
       "      <td>17.0</td>\n",
       "      <td>4.0</td>\n",
       "      <td>3.0</td>\n",
       "      <td>3.0</td>\n",
       "      <td>1.0</td>\n",
       "      <td>2.0</td>\n",
       "      <td>1.0</td>\n",
       "      <td>0.0</td>\n",
       "      <td>...</td>\n",
       "      <td>0.0</td>\n",
       "      <td>0.0</td>\n",
       "      <td>0.0</td>\n",
       "      <td>0.0</td>\n",
       "      <td>0.0</td>\n",
       "      <td>0.0</td>\n",
       "      <td>0.0</td>\n",
       "      <td>0.0</td>\n",
       "      <td>1.0</td>\n",
       "      <td>0.0</td>\n",
       "    </tr>\n",
       "  </tbody>\n",
       "</table>\n",
       "<p>3 rows × 32 columns</p>\n",
       "</div>"
      ],
      "text/plain": [
       "        1       2       3       4       5       6       7       8       \\\n",
       "cran    7119.0    76.0    30.0     8.0     1.0     2.0     2.0     0.0   \n",
       "npm   109810.0  1486.0   296.0   119.0    40.0    32.0     9.0    11.0   \n",
       "pypi   77349.0   140.0    17.0     4.0     3.0     3.0     1.0     2.0   \n",
       "\n",
       "      9       10       ...    27      28      32      35      36      41      \\\n",
       "cran     2.0     0.0   ...       0.0     0.0     0.0     0.0     0.0     0.0   \n",
       "npm     11.0     1.0   ...       1.0     2.0     1.0     1.0     1.0     1.0   \n",
       "pypi     1.0     0.0   ...       0.0     0.0     0.0     0.0     0.0     0.0   \n",
       "\n",
       "      106     2126    4349    201593  \n",
       "cran     0.0     1.0     0.0     0.0  \n",
       "npm      1.0     0.0     0.0     1.0  \n",
       "pypi     0.0     0.0     1.0     0.0  \n",
       "\n",
       "[3 rows x 32 columns]"
      ]
     },
     "execution_count": 26,
     "metadata": {},
     "output_type": "execute_result"
    }
   ],
   "source": [
    "data = {ecos: {} for ecos in graphs.keys()}\n",
    "for ecos, graph in graphs.items():\n",
    "    for component, size in Counter(len(component) for component in graph.components(mode=igraph.WEAK)).items():\n",
    "        data[ecos][component] = size\n",
    "df = pandas.DataFrame.from_dict(data)\n",
    "print('Number of (weakly) connected components by component size')\n",
    "df.T.fillna(0)"
   ]
  },
  {
   "cell_type": "code",
   "execution_count": 27,
   "metadata": {
    "collapsed": false
   },
   "outputs": [
    {
     "data": {
      "image/png": "[encoded data removed]",
      "text/plain": [
       "<matplotlib.figure.Figure at 0x7fc900101710>"
      ]
     },
     "metadata": {},
     "output_type": "display_data"
    }
   ],
   "source": [
    "d = df.reset_index().rename(columns={'index': 'component'})\n",
    "d = pandas.melt(d, id_vars='component', value_vars=['cran', 'npm', 'pypi'], var_name='ecosystem', value_name='size').dropna()\n",
    "\n",
    "ax = None\n",
    "for i, ecos in enumerate(graphs.keys()):\n",
    "    kwargs = {\n",
    "        'x': 'component', \n",
    "        'y': 'size',\n",
    "        'label': ecos,\n",
    "        'logx': True,\n",
    "        'logy': True,\n",
    "        's': 30,\n",
    "        'color': COLORS[ecos]\n",
    "    }\n",
    "    if ax:\n",
    "        kwargs['ax'] = ax\n",
    "        \n",
    "    ax = d.query('ecosystem == \"{}\"'.format(ecos)).plot.scatter(**kwargs)\n",
    "ax.set_xlabel('Size of the component')\n",
    "ax.set_ylabel('Number of components')\n",
    "ax.set_xlim(left=0)\n",
    "ax.set_ylim(bottom=0)\n",
    "\n",
    "if SHOW_TITLE:\n",
    "    ax.set_title('Number of (weakly) connected components by component size')\n",
    "\n",
    "ax.figure.set_size_inches(FIG_SIZE)\n",
    "savefig(ax.figure, 'weakly_components')"
   ]
  },
  {
   "cell_type": "code",
   "execution_count": 28,
   "metadata": {
    "collapsed": false
   },
   "outputs": [
    {
     "name": "stderr",
     "output_type": "stream",
     "text": [
      "pypi: 100%|██████████| 77522/77522 [00:09<00:00, 8150.49it/s] \n",
      "npm: 100%|██████████| 111852/111852 [00:42<00:00, 2627.16it/s]\n",
      "cran: 100%|██████████| 7241/7241 [00:00<00:00, 9774.60it/s]\n"
     ]
    }
   ],
   "source": [
    "data = []\n",
    "for ecos, graph in graphs.items():\n",
    "    clusters = graph.clusters(mode=igraph.WEAK)\n",
    "    \n",
    "    for component in tqdm.tqdm(clusters, desc=ecos):\n",
    "        subgraph = graph.subgraph(component)\n",
    "        n = subgraph.vcount()\n",
    "        \n",
    "        if 1 < n < 200000:\n",
    "            n_paths = 0\n",
    "            sum_paths = 0\n",
    "            for paths in subgraph.shortest_paths_dijkstra(mode=igraph.ALL):\n",
    "                n_paths += len(paths)\n",
    "                sum_paths += sum(paths)\n",
    "            \n",
    "            data.append((ecos, n, sum_paths / n_paths))\n",
    "\n",
    "# NPM's largest component was ignored during the computation here above\n",
    "# because it takes a while to compute its aspl. The result was previously \n",
    "# computed, and is now hard-coded here:\n",
    "data.append(('npm', 201593, 4.1))            "
   ]
  },
  {
   "cell_type": "code",
   "execution_count": 29,
   "metadata": {
    "collapsed": false
   },
   "outputs": [
    {
     "data": {
      "text/html": [
       "<div>\n",
       "<table border=\"1\" class=\"dataframe\">\n",
       "  <thead>\n",
       "    <tr style=\"text-align: right;\">\n",
       "      <th></th>\n",
       "      <th>ecosystem</th>\n",
       "      <th>component</th>\n",
       "      <th>aspl</th>\n",
       "    </tr>\n",
       "  </thead>\n",
       "  <tbody>\n",
       "    <tr>\n",
       "      <th>2214</th>\n",
       "      <td>cran</td>\n",
       "      <td>2126</td>\n",
       "      <td>4.769485</td>\n",
       "    </tr>\n",
       "    <tr>\n",
       "      <th>2273</th>\n",
       "      <td>cran</td>\n",
       "      <td>9</td>\n",
       "      <td>2.098765</td>\n",
       "    </tr>\n",
       "    <tr>\n",
       "      <th>2278</th>\n",
       "      <td>cran</td>\n",
       "      <td>9</td>\n",
       "      <td>1.950617</td>\n",
       "    </tr>\n",
       "    <tr>\n",
       "      <th>2242</th>\n",
       "      <td>cran</td>\n",
       "      <td>7</td>\n",
       "      <td>1.795918</td>\n",
       "    </tr>\n",
       "    <tr>\n",
       "      <th>2256</th>\n",
       "      <td>cran</td>\n",
       "      <td>7</td>\n",
       "      <td>1.224490</td>\n",
       "    </tr>\n",
       "    <tr>\n",
       "      <th>2336</th>\n",
       "      <td>npm</td>\n",
       "      <td>201593</td>\n",
       "      <td>4.100000</td>\n",
       "    </tr>\n",
       "    <tr>\n",
       "      <th>782</th>\n",
       "      <td>npm</td>\n",
       "      <td>106</td>\n",
       "      <td>2.580100</td>\n",
       "    </tr>\n",
       "    <tr>\n",
       "      <th>917</th>\n",
       "      <td>npm</td>\n",
       "      <td>41</td>\n",
       "      <td>2.057109</td>\n",
       "    </tr>\n",
       "    <tr>\n",
       "      <th>1771</th>\n",
       "      <td>npm</td>\n",
       "      <td>36</td>\n",
       "      <td>2.155864</td>\n",
       "    </tr>\n",
       "    <tr>\n",
       "      <th>1141</th>\n",
       "      <td>npm</td>\n",
       "      <td>35</td>\n",
       "      <td>2.894694</td>\n",
       "    </tr>\n",
       "    <tr>\n",
       "      <th>0</th>\n",
       "      <td>pypi</td>\n",
       "      <td>4349</td>\n",
       "      <td>4.522041</td>\n",
       "    </tr>\n",
       "    <tr>\n",
       "      <th>124</th>\n",
       "      <td>pypi</td>\n",
       "      <td>24</td>\n",
       "      <td>1.909722</td>\n",
       "    </tr>\n",
       "    <tr>\n",
       "      <th>12</th>\n",
       "      <td>pypi</td>\n",
       "      <td>9</td>\n",
       "      <td>2.172840</td>\n",
       "    </tr>\n",
       "    <tr>\n",
       "      <th>3</th>\n",
       "      <td>pypi</td>\n",
       "      <td>8</td>\n",
       "      <td>1.875000</td>\n",
       "    </tr>\n",
       "    <tr>\n",
       "      <th>138</th>\n",
       "      <td>pypi</td>\n",
       "      <td>8</td>\n",
       "      <td>1.687500</td>\n",
       "    </tr>\n",
       "  </tbody>\n",
       "</table>\n",
       "</div>"
      ],
      "text/plain": [
       "     ecosystem  component      aspl\n",
       "2214      cran       2126  4.769485\n",
       "2273      cran          9  2.098765\n",
       "2278      cran          9  1.950617\n",
       "2242      cran          7  1.795918\n",
       "2256      cran          7  1.224490\n",
       "2336       npm     201593  4.100000\n",
       "782        npm        106  2.580100\n",
       "917        npm         41  2.057109\n",
       "1771       npm         36  2.155864\n",
       "1141       npm         35  2.894694\n",
       "0         pypi       4349  4.522041\n",
       "124       pypi         24  1.909722\n",
       "12        pypi          9  2.172840\n",
       "3         pypi          8  1.875000\n",
       "138       pypi          8  1.687500"
      ]
     },
     "execution_count": 29,
     "metadata": {},
     "output_type": "execute_result"
    }
   ],
   "source": [
    "df = pandas.DataFrame.from_records(data, columns=['ecosystem', 'component', 'aspl'])\n",
    "df.sort_values('component', ascending=False).groupby('ecosystem').head(5).sort_values('ecosystem')"
   ]
  },
  {
   "cell_type": "markdown",
   "metadata": {
    "collapsed": false
   },
   "source": [
    "ax = seaborn.stripplot('ecosystem', 'aspl', data=df, jitter=0.3, \n",
    "                      order=COLORS.keys(), palette=list(COLORS.values()))\n",
    "ax.set_title('Average shortest path length for each\\nweakly connected component (size > 1)')"
   ]
  },
  {
   "cell_type": "markdown",
   "metadata": {},
   "source": [
    "## Hubs and Authorities"
   ]
  },
  {
   "cell_type": "code",
   "execution_count": 30,
   "metadata": {
    "collapsed": false
   },
   "outputs": [
    {
     "data": {
      "image/png": "[encoded data removed]",
      "text/plain": [
       "<matplotlib.figure.Figure at 0x7fc8f3c59d30>"
      ]
     },
     "metadata": {},
     "output_type": "display_data"
    },
    {
     "data": {
      "image/png": "[encoded data removed]",
      "text/plain": [
       "<matplotlib.figure.Figure at 0x7fc8f3b8e278>"
      ]
     },
     "metadata": {},
     "output_type": "display_data"
    }
   ],
   "source": [
    "fig_hubs, ax_hubs = matplotlib.pyplot.subplots(ncols=3, sharey=True)\n",
    "fig_hubs.set_size_inches(FIG_SIZE_WIDE)\n",
    "\n",
    "fig_auth, ax_authorities = matplotlib.pyplot.subplots(ncols=3)\n",
    "fig_auth.set_size_inches(FIG_SIZE_WIDE)\n",
    "\n",
    "for i, (ecos, graph) in enumerate(graphs.items()):\n",
    "    hubs, authorities = graph.hub_score(), graph.authority_score()\n",
    "    hubs, authorities = pandas.Series(hubs), pandas.Series(authorities)\n",
    "    hubs.plot.hist(label=ecos, ax=ax_hubs[i], bins=25, logy=True, color=COLORS[ecos])\n",
    "    authorities.plot.hist(label=ecos, ax=ax_authorities[i], bins=25, logy=True, color=COLORS[ecos])\n",
    "    if SHOW_TITLE:\n",
    "        ax_hubs[i].set_title('Hubs for {}'.format(ecos))\n",
    "        ax_authorities[i].set_title('Authorities for {}'.format(ecos))\n",
    "    \n",
    "savefig(fig_hubs, 'hubs')\n",
    "savefig(fig_auth, 'auths')"
   ]
  },
  {
   "cell_type": "markdown",
   "metadata": {},
   "source": [
    "## Pagerank"
   ]
  },
  {
   "cell_type": "code",
   "execution_count": 31,
   "metadata": {
    "collapsed": false
   },
   "outputs": [
    {
     "data": {
      "image/png": "[encoded data removed]",
      "text/plain": [
       "<matplotlib.figure.Figure at 0x7fc8f372a6a0>"
      ]
     },
     "metadata": {},
     "output_type": "display_data"
    }
   ],
   "source": [
    "fig, axes = matplotlib.pyplot.subplots(ncols=3, sharey=True)\n",
    "fig.set_size_inches(FIG_SIZE_WIDE)\n",
    "\n",
    "for i, (ecos, graph) in enumerate(graphs.items()):\n",
    "    pagerank = graph.pagerank()\n",
    "    pandas.Series(pagerank).plot.hist(label=ecos, ax=axes[i], bins=25, logy=True, color=COLORS[ecos])\n",
    "    if SHOW_TITLE:\n",
    "        axes[i].set_title(ecos)\n",
    "    axes[i].set_xlabel('Pagerank value')\n",
    "    \n",
    "savefig(fig, 'pagerank')"
   ]
  }
 ],
 "metadata": {
  "kernelspec": {
   "display_name": "Python 3",
   "language": "python",
   "name": "python3"
  },
  "language_info": {
   "codemirror_mode": {
    "name": "ipython",
    "version": 3
   },
   "file_extension": ".py",
   "mimetype": "text/x-python",
   "name": "python",
   "nbconvert_exporter": "python",
   "pygments_lexer": "ipython3",
   "version": "3.5.1"
  }
 },
 "nbformat": 4,
 "nbformat_minor": 1
}
