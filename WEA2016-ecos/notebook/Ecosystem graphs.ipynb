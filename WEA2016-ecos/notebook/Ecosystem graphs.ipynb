{
 "cells": [
  {
   "cell_type": "code",
   "execution_count": 7,
   "metadata": {
    "collapsed": false
   },
   "outputs": [],
   "source": [
    "import matplotlib\n",
    "import seaborn\n",
    "import pandas\n",
    "import networkx\n",
    "import tqdm\n",
    "import gzip\n",
    "import igraph\n",
    "import itertools\n",
    "\n",
    "import statsmodels\n",
    "import scipy.stats\n",
    "\n",
    "from collections import Counter, OrderedDict\n",
    "\n",
    "%matplotlib inline"
   ]
  },
  {
   "cell_type": "code",
   "execution_count": 8,
   "metadata": {
    "collapsed": false
   },
   "outputs": [],
   "source": [
    "ecosystems = ['cran', 'pypi', 'npm']\n",
    "\n",
    "COLORS = {ecos: seaborn.color_palette()[i] for i, ecos in enumerate(ecosystems)}\n",
    "FIG_SIZE = (6, 3)\n",
    "FIG_SIZE_WIDE = (10, 3)\n",
    "SHOW_TITLE = False\n",
    "\n",
    "def savefig(fig, name):\n",
    "    # Uncomment next line to disable export\n",
    "    # return\n",
    "    return fig.savefig('../figures/{}.pdf'.format(name), bbox_inches='tight')"
   ]
  },
  {
   "cell_type": "code",
   "execution_count": 9,
   "metadata": {
    "collapsed": false
   },
   "outputs": [
    {
     "name": "stdout",
     "output_type": "stream",
     "text": [
      "File b'../../cran/data/sizes.csv' does not exist\n",
      "cran\n",
      "9568 packages, 57530 versions and 203265 dependencies\n",
      "from 1997-10-08 19:56:17 to 2016-04-26 20:52:26\n",
      "9337 dependencies kept\n",
      "versions from 1997-10-08 19:56:17 to 2016-04-26 20:52:26\n",
      "\n",
      "pypi\n",
      "82134 packages, 508373 versions and 154833 dependencies\n",
      "from 2005-03-21 15:59:25 to 2016-06-25 00:11:15\n",
      "19172 dependencies kept\n",
      "versions from 2005-04-18 14:47:04 to 2016-06-25 00:11:15\n",
      "\n",
      "npm\n",
      "317159 packages, 1927750 versions and 7692501 dependencies\n",
      "from 1970-01-01 00:00:00 to 2016-06-28 14:35:28.717000\n",
      "729059 dependencies kept\n",
      "versions from 2010-12-19 09:45:59.546000 to 2016-06-28 14:35:28.717000\n",
      "\n"
     ]
    }
   ],
   "source": [
    "graphs = OrderedDict()\n",
    "df_all_packages = OrderedDict()\n",
    "df_packages = OrderedDict()\n",
    "df_all_deps = OrderedDict()\n",
    "df_deps = OrderedDict()\n",
    "df_sizes = OrderedDict()\n",
    "\n",
    "for ecos in ecosystems:\n",
    "    with gzip.GzipFile('../../{}/data/packages.csv.gz'.format(ecos)) as f:\n",
    "        packages = pandas.read_csv(f, index_col=[0,1], parse_dates=['time'])\n",
    "    with gzip.GzipFile('../../{}/data/deps.csv.gz'.format(ecos)) as f:\n",
    "        deps = pandas.read_csv(f)\n",
    "\n",
    "    try:\n",
    "        sizes = pandas.read_csv('../../{}/data/sizes.csv'.format(ecos), index_col=['package', 'version'])\n",
    "    except OSError as e:\n",
    "        print(e)\n",
    "        sizes = pandas.DataFrame([], columns=['package', 'version', 'size']).set_index(['package', 'version'])\n",
    "        \n",
    "    print(ecos)\n",
    "    print(len(packages.groupby(level=0)), \n",
    "          'packages,',\n",
    "          len(packages), 'versions and',\n",
    "          len(deps), 'dependencies')\n",
    "    print('from', min(packages.time), 'to', max(packages.time))\n",
    "        \n",
    "    df_all_packages[ecos] = packages\n",
    "    df_all_deps[ecos] = deps\n",
    "    df_sizes[ecos] = sizes\n",
    "    \n",
    "    # Take latest version of each package\n",
    "    packages = packages.dropna().sort_values('time').groupby(level=0, sort=False).tail(1)\n",
    "    deps = packages.merge(deps, how='inner', left_index=True, right_on=['package', 'version']).dropna()\n",
    "\n",
    "    # Merge size info\n",
    "    packages = packages.merge(sizes, how='left', left_index=True, right_index=True)\n",
    "    \n",
    "    print(len(deps), 'dependencies kept')\n",
    "    print('versions from', packages.time.min(), 'to', packages.time.max())\n",
    "    print()\n",
    "    \n",
    "    # Filter out dependencies that are not registered packages\n",
    "    deps = packages.reset_index().merge(deps, how='inner', left_on='package', right_on='dependency', suffixes=('_2', ''))\n",
    "    \n",
    "    df_packages[ecos] = packages\n",
    "    df_deps[ecos] = deps\n",
    "    \n",
    "    # Construct graph\n",
    "    graph = igraph.Graph(directed=True)\n",
    "    graph.add_vertices(packages.index.get_level_values('package'))\n",
    "    graph.vs['time'] = packages['time']\n",
    "    graph.vs['version'] = packages.index.get_level_values('version')\n",
    "    graph.vs['size'] = packages['size']\n",
    "    \n",
    "    edges = [(row.package, row.dependency) for row in deps[['package', 'dependency']].itertuples()]\n",
    "    graph.add_edges(edges)\n",
    "    \n",
    "    graphs[ecos] = graph\n",
    "    "
   ]
  },
  {
   "cell_type": "markdown",
   "metadata": {},
   "source": [
    "\"\"\" Uncomment this cell to get a list (in npm-download.txt) of package/version names from NPM. \n",
    "This cell helps us to compute the list of packages we need to download in order to get their size. \"\"\"\n",
    "\n",
    "df = df_packages['npm']\n",
    "df = df.reset_index()[['package', 'version']]\n",
    "url = 'https://registry.npmjs.org/{package}/-/{package}-{version}.tgz'\n",
    "with open('npm-download.txt', 'w') as f:\n",
    "    for t in df.itertuples():\n",
    "        f.write(url.format(package=t.package, version=t.version) + '\\n')"
   ]
  },
  {
   "cell_type": "markdown",
   "metadata": {},
   "source": [
    "## Overview"
   ]
  },
  {
   "cell_type": "code",
   "execution_count": 10,
   "metadata": {
    "collapsed": false
   },
   "outputs": [
    {
     "name": "stdout",
     "output_type": "stream",
     "text": [
      "cran\n",
      "Updates in 2014: 7250\n",
      "New packages in 2014: 1378\n",
      "Updates in 2015: 8140\n",
      "New packages in 2015: 1660\n",
      "Updates in 2016: 3076\n",
      "New packages in 2016: 631\n",
      "pypi\n",
      "Updates in 2014: 91785\n",
      "New packages in 2014: 13564\n",
      "Updates in 2015: 131072\n",
      "New packages in 2015: 17818\n",
      "Updates in 2016: 83905\n",
      "New packages in 2016: 10787\n",
      "npm\n",
      "Updates in 2014: 403907\n",
      "New packages in 2014: 69043\n",
      "Updates in 2015: 711317\n",
      "New packages in 2015: 113613\n",
      "Updates in 2016: 541192\n",
      "New packages in 2016: 82293\n"
     ]
    }
   ],
   "source": [
    "for ecos, df in df_all_packages.items():\n",
    "    print(ecos)\n",
    "    for year in [2014, 2015, 2016]:\n",
    "        selected = df[df['time'].dt.year == year]\n",
    "        print('Updates in {}: {}'.format(year, len(selected)))\n",
    "        \n",
    "        selected = df.groupby(level=0).min()\n",
    "        selected = selected[selected['time'].dt.year == year]\n",
    "        print('New packages in {}: {}'.format(year, len(selected)))"
   ]
  },
  {
   "cell_type": "code",
   "execution_count": 11,
   "metadata": {
    "collapsed": false
   },
   "outputs": [
    {
     "data": {
      "image/png": "[encoded data removed]",
      "text/plain": [
       "<matplotlib.figure.Figure at 0x7f9ce12feb38>"
      ]
     },
     "metadata": {},
     "output_type": "display_data"
    },
    {
     "data": {
      "image/png": "[encoded data removed]",
      "text/plain": [
       "<matplotlib.figure.Figure at 0x7f9ce12fecf8>"
      ]
     },
     "metadata": {},
     "output_type": "display_data"
    }
   ],
   "source": [
    "fig_v, ax_v = matplotlib.pyplot.subplots()\n",
    "fig_p, ax_p = matplotlib.pyplot.subplots()\n",
    "\n",
    "fig_v.set_size_inches(FIG_SIZE)\n",
    "fig_p.set_size_inches(FIG_SIZE)\n",
    "\n",
    "if SHOW_TITLE:\n",
    "    ax_v.set_title('New versions by month (log scale)')\n",
    "    ax_p.set_title('New packages by month (log scale)')\n",
    "\n",
    "for ecos, all_packages in df_all_packages.items():\n",
    "    df1 = (all_packages\n",
    "            .set_index('time')\n",
    "            .assign(n=1)\n",
    "            .resample('1M')\n",
    "            .sum()\n",
    "            .fillna(0)\n",
    "            .rename(columns={'n': ecos})\n",
    "          )\n",
    "    df1.plot(ax=ax_v, logy=True)\n",
    "    \n",
    "    df2 = (all_packages\n",
    "            .groupby(level=0)\n",
    "            .min()\n",
    "            .set_index('time')\n",
    "            .assign(n=1)\n",
    "            .resample('1M')\n",
    "            .sum()\n",
    "            .fillna(0)\n",
    "            .rename(columns={'n': ecos})\n",
    "          )\n",
    "    df2.plot(ax=ax_p, logy=True)\n",
    "\n",
    "ax_v.set_xlim(pandas.to_datetime('2000-01-01'))\n",
    "ax_p.set_xlim(pandas.to_datetime('2000-01-01'))\n",
    "\n",
    "savefig(fig_v, 'evol_versions')\n",
    "savefig(fig_p, 'evol_packages')"
   ]
  },
  {
   "cell_type": "code",
   "execution_count": 16,
   "metadata": {
    "collapsed": false
   },
   "outputs": [
    {
     "name": "stdout",
     "output_type": "stream",
     "text": [
      "cran\n",
      "                            OLS Regression Results                            \n",
      "==============================================================================\n",
      "Dep. Variable:                   cran   R-squared:                       0.976\n",
      "Model:                            OLS   Adj. R-squared:                  0.976\n",
      "Method:                 Least Squares   F-statistic:                     9135.\n",
      "Date:                Fri, 19 Aug 2016   Prob (F-statistic):          2.41e-182\n",
      "Time:                        12:18:41   Log-Likelihood:                 20.344\n",
      "No. Observations:                 223   AIC:                            -38.69\n",
      "Df Residuals:                     222   BIC:                            -35.28\n",
      "Df Model:                           1                                         \n",
      "Covariance Type:            nonrobust                                         \n",
      "==============================================================================\n",
      "                 coef    std err          t      P>|t|      [95.0% Conf. Int.]\n",
      "------------------------------------------------------------------------------\n",
      "index          0.0004    3.8e-06     95.577      0.000         0.000     0.000\n",
      "==============================================================================\n",
      "Omnibus:                       53.287   Durbin-Watson:                   1.260\n",
      "Prob(Omnibus):                  0.000   Jarque-Bera (JB):              130.707\n",
      "Skew:                           1.073   Prob(JB):                     4.14e-29\n",
      "Kurtosis:                       6.076   Cond. No.                         1.00\n",
      "==============================================================================\n",
      "\n",
      "Warnings:\n",
      "[1] Standard Errors assume that the covariance matrix of the errors is correctly specified.\n",
      "\n",
      "pypi\n",
      "                            OLS Regression Results                            \n",
      "==============================================================================\n",
      "Dep. Variable:                   pypi   R-squared:                       0.926\n",
      "Model:                            OLS   Adj. R-squared:                  0.925\n",
      "Method:                 Least Squares   F-statistic:                     1683.\n",
      "Date:                Fri, 19 Aug 2016   Prob (F-statistic):           4.31e-78\n",
      "Time:                        12:18:41   Log-Likelihood:                -140.24\n",
      "No. Observations:                 136   AIC:                             282.5\n",
      "Df Residuals:                     135   BIC:                             285.4\n",
      "Df Model:                           1                                         \n",
      "Covariance Type:            nonrobust                                         \n",
      "==============================================================================\n",
      "                 coef    std err          t      P>|t|      [95.0% Conf. Int.]\n",
      "------------------------------------------------------------------------------\n",
      "index          0.0010   2.46e-05     41.019      0.000         0.001     0.001\n",
      "==============================================================================\n",
      "Omnibus:                       33.653   Durbin-Watson:                   0.029\n",
      "Prob(Omnibus):                  0.000   Jarque-Bera (JB):                9.972\n",
      "Skew:                          -0.384   Prob(JB):                      0.00683\n",
      "Kurtosis:                       1.918   Cond. No.                         1.00\n",
      "==============================================================================\n",
      "\n",
      "Warnings:\n",
      "[1] Standard Errors assume that the covariance matrix of the errors is correctly specified.\n",
      "\n",
      "npm\n",
      "                            OLS Regression Results                            \n",
      "==============================================================================\n",
      "Dep. Variable:                    npm   R-squared:                       0.315\n",
      "Model:                            OLS   Adj. R-squared:                  0.314\n",
      "Method:                 Least Squares   F-statistic:                     256.6\n",
      "Date:                Fri, 19 Aug 2016   Prob (F-statistic):           8.93e-48\n",
      "Time:                        12:18:42   Log-Likelihood:                -786.95\n",
      "No. Observations:                 558   AIC:                             1576.\n",
      "Df Residuals:                     557   BIC:                             1580.\n",
      "Df Model:                           1                                         \n",
      "Covariance Type:            nonrobust                                         \n",
      "==============================================================================\n",
      "                 coef    std err          t      P>|t|      [95.0% Conf. Int.]\n",
      "------------------------------------------------------------------------------\n",
      "index       6.872e-05   4.29e-06     16.018      0.000      6.03e-05  7.71e-05\n",
      "==============================================================================\n",
      "Omnibus:                      231.336   Durbin-Watson:                   0.006\n",
      "Prob(Omnibus):                  0.000   Jarque-Bera (JB):              673.722\n",
      "Skew:                           2.107   Prob(JB):                    5.05e-147\n",
      "Kurtosis:                       6.350   Cond. No.                         1.00\n",
      "==============================================================================\n",
      "\n",
      "Warnings:\n",
      "[1] Standard Errors assume that the covariance matrix of the errors is correctly specified.\n",
      "\n"
     ]
    }
   ],
   "source": [
    "from statsmodels import regression\n",
    "\n",
    "for ecos, all_packages in df_all_packages.items():\n",
    "    df = (all_packages\n",
    "            .groupby(level=0)\n",
    "            .min()\n",
    "            .set_index('time')\n",
    "            .assign(n=1)\n",
    "            .resample('1M')\n",
    "            .sum()\n",
    "            .fillna(0)\n",
    "            .rename(columns={'n': ecos})\n",
    "          )\n",
    "    df.index = (df.index - df.index.min()).days\n",
    "    df[ecos] = pandas.np.log10(df[ecos])\n",
    "    df = df.replace(-pandas.np.inf, pandas.np.nan).fillna(0).reset_index()\n",
    "    \n",
    "    model = regression.linear_model.OLS(df[ecos], df['index'])\n",
    "    results = model.fit()\n",
    "    print(ecos)\n",
    "    print(results.summary())\n",
    "    print()\n"
   ]
  },
  {
   "cell_type": "markdown",
   "metadata": {},
   "source": [
    "## Packages and Dependencies"
   ]
  },
  {
   "cell_type": "code",
   "execution_count": 17,
   "metadata": {
    "collapsed": false
   },
   "outputs": [
    {
     "data": {
      "text/html": [
       "<div>\n",
       "<table border=\"1\" class=\"dataframe\">\n",
       "  <thead>\n",
       "    <tr style=\"text-align: right;\">\n",
       "      <th></th>\n",
       "      <th>dependencies</th>\n",
       "      <th>pkg_with_rev_deps</th>\n",
       "      <th>avg_deps_by_pkg</th>\n",
       "      <th>pkg_non_isolated</th>\n",
       "      <th>pkg_isolated</th>\n",
       "      <th>packages</th>\n",
       "      <th>pkg_with_deps</th>\n",
       "    </tr>\n",
       "  </thead>\n",
       "  <tbody>\n",
       "    <tr>\n",
       "      <th>cran</th>\n",
       "      <td>3770</td>\n",
       "      <td>872</td>\n",
       "      <td>0.394022</td>\n",
       "      <td>2449</td>\n",
       "      <td>7119</td>\n",
       "      <td>9568</td>\n",
       "      <td>1921</td>\n",
       "    </tr>\n",
       "    <tr>\n",
       "      <th>npm</th>\n",
       "      <td>725450</td>\n",
       "      <td>66129</td>\n",
       "      <td>2.287331</td>\n",
       "      <td>207364</td>\n",
       "      <td>109796</td>\n",
       "      <td>317160</td>\n",
       "      <td>185228</td>\n",
       "    </tr>\n",
       "    <tr>\n",
       "      <th>pypi</th>\n",
       "      <td>13758</td>\n",
       "      <td>2063</td>\n",
       "      <td>0.185856</td>\n",
       "      <td>5860</td>\n",
       "      <td>68165</td>\n",
       "      <td>74025</td>\n",
       "      <td>4288</td>\n",
       "    </tr>\n",
       "  </tbody>\n",
       "</table>\n",
       "</div>"
      ],
      "text/plain": [
       "      dependencies  pkg_with_rev_deps  avg_deps_by_pkg  pkg_non_isolated  \\\n",
       "cran          3770                872         0.394022              2449   \n",
       "npm         725450              66129         2.287331            207364   \n",
       "pypi         13758               2063         0.185856              5860   \n",
       "\n",
       "      pkg_isolated  packages  pkg_with_deps  \n",
       "cran          7119      9568           1921  \n",
       "npm         109796    317160         185228  \n",
       "pypi         68165     74025           4288  "
      ]
     },
     "execution_count": 17,
     "metadata": {},
     "output_type": "execute_result"
    }
   ],
   "source": [
    "data = {ecos: {} for ecos in graphs.keys()}\n",
    "for ecos, graph in graphs.items():\n",
    "    data[ecos]['packages'] = graph.vcount()\n",
    "    data[ecos]['dependencies'] = graph.ecount()\n",
    "    data[ecos]['avg_deps_by_pkg'] = graph.ecount() / graph.vcount()\n",
    "    data[ecos]['pkg_with_deps'] = len([True for d in graph.outdegree() if d > 0])\n",
    "    data[ecos]['pkg_with_rev_deps'] = len([True for d in graph.indegree() if d > 0])\n",
    "    data[ecos]['pkg_non_isolated'] = len([True for d in graph.degree() if d > 0])\n",
    "    data[ecos]['pkg_isolated'] = len([True for d in graph.degree() if d == 0])\n",
    "df = pandas.DataFrame.from_dict(data, orient='index')\n",
    "df"
   ]
  },
  {
   "cell_type": "code",
   "execution_count": 18,
   "metadata": {
    "collapsed": false
   },
   "outputs": [
    {
     "data": {
      "image/png": "[encoded data removed]",
      "text/plain": [
       "<matplotlib.figure.Figure at 0x7f9cd8bf7128>"
      ]
     },
     "metadata": {},
     "output_type": "display_data"
    }
   ],
   "source": [
    "df['with_deps'] = df['pkg_with_deps'] / df['packages']\n",
    "df['with_rev_deps'] = df['pkg_with_rev_deps'] / df['packages']\n",
    "df['isolated'] = df['pkg_isolated'] / df['packages']\n",
    "\n",
    "data = pandas.melt(\n",
    "    df[['with_deps', 'with_rev_deps', 'isolated']]\n",
    "      .reset_index()\n",
    "      .rename(columns={'index': 'ecosystem', 'with_deps': 'with dependencies', 'with_rev_deps': 'with reverse dependencies'}),\n",
    "    id_vars='ecosystem', \n",
    "    value_vars=['with dependencies', 'with reverse dependencies', 'isolated'], \n",
    "    var_name='kind', \n",
    "    value_name='value')\n",
    "\n",
    "ax = seaborn.barplot(hue='ecosystem', y='value', x='kind', data=data, hue_order=graphs.keys())\n",
    "ax.set_xlabel('')\n",
    "ax.set_ylabel('proportion')\n",
    "ax.legend(title=None, loc='upper left')\n",
    "\n",
    "if SHOW_TITLE:\n",
    "    ax.set_title('Proportion of packages by kind of dependencies')\n",
    "ax.figure.set_size_inches(FIG_SIZE)\n",
    "\n",
    "savefig(ax.figure, 'pkg_overview')"
   ]
  },
  {
   "cell_type": "code",
   "execution_count": 19,
   "metadata": {
    "collapsed": false
   },
   "outputs": [
    {
     "data": {
      "text/html": [
       "<div>\n",
       "<table border=\"1\" class=\"dataframe\">\n",
       "  <thead>\n",
       "    <tr style=\"text-align: right;\">\n",
       "      <th></th>\n",
       "      <th>dependencies</th>\n",
       "      <th>pkg_with_rev_deps</th>\n",
       "      <th>avg_deps_by_pkg</th>\n",
       "      <th>pkg_non_isolated</th>\n",
       "      <th>pkg_isolated</th>\n",
       "      <th>packages</th>\n",
       "      <th>pkg_with_deps</th>\n",
       "      <th>with_deps</th>\n",
       "      <th>with_rev_deps</th>\n",
       "      <th>isolated</th>\n",
       "    </tr>\n",
       "  </thead>\n",
       "  <tbody>\n",
       "    <tr>\n",
       "      <th>cran</th>\n",
       "      <td>3770</td>\n",
       "      <td>872</td>\n",
       "      <td>0.394022</td>\n",
       "      <td>2449</td>\n",
       "      <td>7119</td>\n",
       "      <td>9568</td>\n",
       "      <td>1921</td>\n",
       "      <td>0.200773</td>\n",
       "      <td>0.091137</td>\n",
       "      <td>0.744043</td>\n",
       "    </tr>\n",
       "    <tr>\n",
       "      <th>npm</th>\n",
       "      <td>725450</td>\n",
       "      <td>66129</td>\n",
       "      <td>2.287331</td>\n",
       "      <td>207364</td>\n",
       "      <td>109796</td>\n",
       "      <td>317160</td>\n",
       "      <td>185228</td>\n",
       "      <td>0.584021</td>\n",
       "      <td>0.208504</td>\n",
       "      <td>0.346185</td>\n",
       "    </tr>\n",
       "    <tr>\n",
       "      <th>pypi</th>\n",
       "      <td>13758</td>\n",
       "      <td>2063</td>\n",
       "      <td>0.185856</td>\n",
       "      <td>5860</td>\n",
       "      <td>68165</td>\n",
       "      <td>74025</td>\n",
       "      <td>4288</td>\n",
       "      <td>0.057926</td>\n",
       "      <td>0.027869</td>\n",
       "      <td>0.920838</td>\n",
       "    </tr>\n",
       "  </tbody>\n",
       "</table>\n",
       "</div>"
      ],
      "text/plain": [
       "      dependencies  pkg_with_rev_deps  avg_deps_by_pkg  pkg_non_isolated  \\\n",
       "cran          3770                872         0.394022              2449   \n",
       "npm         725450              66129         2.287331            207364   \n",
       "pypi         13758               2063         0.185856              5860   \n",
       "\n",
       "      pkg_isolated  packages  pkg_with_deps  with_deps  with_rev_deps  \\\n",
       "cran          7119      9568           1921   0.200773       0.091137   \n",
       "npm         109796    317160         185228   0.584021       0.208504   \n",
       "pypi         68165     74025           4288   0.057926       0.027869   \n",
       "\n",
       "      isolated  \n",
       "cran  0.744043  \n",
       "npm   0.346185  \n",
       "pypi  0.920838  "
      ]
     },
     "execution_count": 19,
     "metadata": {},
     "output_type": "execute_result"
    }
   ],
   "source": [
    "df"
   ]
  },
  {
   "cell_type": "code",
   "execution_count": 20,
   "metadata": {
    "collapsed": false
   },
   "outputs": [
    {
     "data": {
      "image/png": "[encoded data removed]",
      "text/plain": [
       "<matplotlib.figure.Figure at 0x7f9cd8b20d68>"
      ]
     },
     "metadata": {},
     "output_type": "display_data"
    },
    {
     "data": {
      "image/png": "[encoded data removed]",
      "text/plain": [
       "<matplotlib.figure.Figure at 0x7f9cd6490fd0>"
      ]
     },
     "metadata": {},
     "output_type": "display_data"
    }
   ],
   "source": [
    "data_in = []\n",
    "data_in_p = []\n",
    "data_out = []\n",
    "data_out_p = []\n",
    "\n",
    "for ecos, graph in graphs.items():\n",
    "    n = graph.vcount()\n",
    "    for d in graph.outdegree():\n",
    "        if d > 0:\n",
    "            data_out.append((ecos, d))\n",
    "            data_out_p.append((ecos, 100 * d / n))\n",
    "            \n",
    "    for d in graph.indegree():\n",
    "        if d > 0:\n",
    "            data_in.append((ecos, d))\n",
    "            data_in_p.append((ecos, 100 * d / n))\n",
    "\n",
    "fig, axes = matplotlib.pyplot.subplots(ncols=2, sharey=True, sharex=True)            \n",
    "\n",
    "ax = seaborn.boxplot(0, 1, data=pandas.DataFrame.from_records(data_out), ax=axes[0])\n",
    "ax.set_ylim(0, 10)\n",
    "ax.set_xlabel('')\n",
    "ax.set_ylabel('# deps')\n",
    "ax.set_title('Dependencies (non-zero)')\n",
    "\n",
    "ax = seaborn.boxplot(0, 1, data=pandas.DataFrame.from_records(data_in), ax=axes[1])\n",
    "ax.set_ylim(0, 10)\n",
    "ax.set_xlabel('')\n",
    "ax.set_ylabel('# rev deps')\n",
    "ax.set_title('Reverse dependencies (non-zero)')\n",
    "\n",
    "fig.set_size_inches(FIG_SIZE)\n",
    "savefig(fig, 'distr_deps')\n",
    "\n",
    "\n",
    "\n",
    "fig, axes = matplotlib.pyplot.subplots(ncols=2, sharey=True, sharex=True)            \n",
    "\n",
    "ax = seaborn.boxplot(0, 1, data=pandas.DataFrame.from_records(data_out_p), ax=axes[0])\n",
    "ax.set_ylim(0, 0.05)\n",
    "ax.set_xlabel('')\n",
    "ax.set_ylabel('%')\n",
    "ax.set_title('Dependencies (non-zero)')\n",
    "\n",
    "ax = seaborn.boxplot(0, 1, data=pandas.DataFrame.from_records(data_in_p), ax=axes[1])\n",
    "ax.set_ylim(0, 0.05)\n",
    "ax.set_xlabel('')\n",
    "ax.set_ylabel('%')\n",
    "ax.set_title('Reverse dependencies (non-zero)')\n",
    "\n",
    "fig.set_size_inches(FIG_SIZE)\n",
    "savefig(fig, 'distr_deps_relative')"
   ]
  },
  {
   "cell_type": "code",
   "execution_count": 21,
   "metadata": {
    "collapsed": false
   },
   "outputs": [
    {
     "name": "stdout",
     "output_type": "stream",
     "text": [
      "Most required packages\n",
      "cran : Rcpp (468), ggplot2 (126), httr (84), dplyr (74), rJava (62), Matrix (55), stringr (51), data.table (49), jsonlite (43), plyr (42), \n",
      "pypi : requests (795), numpy (673), six (637), pytest (319), coverage (290), scipy (282), matplotlib (226), pbr (219), pytest-cov (194), mock (193), \n",
      "npm : lodash (23306), request (14571), async (14089), underscore (11976), commander (9409), express (9365), chalk (8964), debug (8463), bluebird (7261), mkdirp (6326), \n",
      "\n",
      "Most dependent packages\n",
      "cran : radiant (19), AFM (18), SSDM (15), btergm (14), SurvRank (13), Luminescence (13), toaster (13), hyfo (12), spocc (12), CorReg (11), \n",
      "pypi : sentry (98), invenio-records-rest (50), invenio-migrator (49), invenio-openaire (48), invenio-previewer (47), invenio-communities (46), gnocchi (43), invenio-logging (40), cameo (40), invenio-files-rest (39), \n",
      "npm : mikolalysenko-hoarders (389), terrible-lodash (309), smasher (130), lodash-modularized (129), compute.io (122), bb-lp-cli (115), smashing-dev-tool (114), brainfock (114), cordova-plugin-require-bluetoothle (112), files-and-folders-server (110), \n"
     ]
    }
   ],
   "source": [
    "print('Most required packages')\n",
    "for ecos, graph in graphs.items():\n",
    "    print(ecos, ':', end=' ')\n",
    "    for vertex, degree in sorted(zip(graph.vs, graph.indegree()), key=lambda x: x[1], reverse=True)[:10]:\n",
    "        print('{} ({})'.format(vertex['name'], degree), end=', ')\n",
    "    print()\n",
    "\n",
    "print()\n",
    "\n",
    "print('Most dependent packages')\n",
    "for ecos, graph in graphs.items():\n",
    "    print(ecos, ':', end=' ')\n",
    "    for vertex, degree in sorted(zip(graph.vs, graph.outdegree()), key=lambda x: x[1], reverse=True)[:10]:\n",
    "        print('{} ({})'.format(vertex['name'], degree), end=', ')\n",
    "    print()"
   ]
  },
  {
   "cell_type": "markdown",
   "metadata": {},
   "source": [
    "### Dependencies and transitive dependencies"
   ]
  },
  {
   "cell_type": "code",
   "execution_count": 22,
   "metadata": {
    "collapsed": true
   },
   "outputs": [],
   "source": [
    "data = []\n",
    "\n",
    "for ecos, graph in graphs.items():\n",
    "    nodes = graph.vs\n",
    "    for node in nodes: \n",
    "        deps = graph.degree(node, mode=igraph.OUT)\n",
    "        tran_deps = -1  # Ignore source\n",
    "        for target in graph.bfsiter(node):\n",
    "            tran_deps += 1\n",
    "        node['transitive_deps'] = tran_deps\n",
    "        data.append((ecos, node['name'], deps, tran_deps))"
   ]
  },
  {
   "cell_type": "code",
   "execution_count": 23,
   "metadata": {
    "collapsed": false
   },
   "outputs": [
    {
     "data": {
      "image/png": "[encoded data removed]",
      "text/plain": [
       "<matplotlib.figure.Figure at 0x7f9cd8bf15c0>"
      ]
     },
     "metadata": {},
     "output_type": "display_data"
    }
   ],
   "source": [
    "df = pandas.DataFrame(data, columns=['ecosystem', 'package', 'dependencies', 'transitive dependencies'])\n",
    "df = pandas.melt(df, \n",
    "                 id_vars=['ecosystem', 'package'], \n",
    "                 value_vars=['dependencies', 'transitive dependencies'],\n",
    "                 var_name='kind',\n",
    "                 value_name='value'\n",
    "                 ).query('value > 0')\n",
    "ax = seaborn.boxplot(x='kind', y='value', hue='ecosystem', data=df)\n",
    "ax.set_yscale('log')\n",
    "ax.set_xlabel('')\n",
    "ax.set_ylabel('number')\n",
    "ax.figure.set_size_inches(FIG_SIZE)\n",
    "\n",
    "if SHOW_TITLE:\n",
    "    ax.set_title('Number of (transitive) dependencies')\n",
    "    \n",
    "savefig(ax.figure, 'deps_distribution')"
   ]
  },
  {
   "cell_type": "code",
   "execution_count": 24,
   "metadata": {
    "collapsed": false
   },
   "outputs": [
    {
     "name": "stdout",
     "output_type": "stream",
     "text": [
      "dependencies\n",
      "Mann-Whitney-u for cran<pypi : 403835561.500000 (p-value: 1.000000)\n",
      "Mann-Whitney-u for cran<npm : 870507584.500000 (p-value: 0.000000)\n",
      "Mann-Whitney-u for pypi<cran : 304435638.500000 (p-value: 0.000000)\n",
      "Mann-Whitney-u for pypi<npm : 5501304903.500000 (p-value: 0.000000)\n",
      "Mann-Whitney-u for npm<cran : 2164079295.500000 (p-value: 1.000000)\n",
      "Mann-Whitney-u for npm<pypi : 17976464096.500000 (p-value: 1.000000)\n",
      "\n",
      "transitive dependencies\n",
      "Mann-Whitney-u for cran<pypi : 404434405.500000 (p-value: 1.000000)\n",
      "Mann-Whitney-u for cran<npm : 828300013.000000 (p-value: 0.000000)\n",
      "Mann-Whitney-u for pypi<cran : 303836794.500000 (p-value: 0.000000)\n",
      "Mann-Whitney-u for pypi<npm : 5343194725.000000 (p-value: 0.000000)\n",
      "Mann-Whitney-u for npm<cran : 2206286867.000000 (p-value: 1.000000)\n",
      "Mann-Whitney-u for npm<pypi : 18134574275.000000 (p-value: 1.000000)\n",
      "\n"
     ]
    }
   ],
   "source": [
    "df = pandas.DataFrame(data, columns=['ecosystem', 'package', 'dependencies', 'transitive dependencies'])\n",
    "\n",
    "for kind in ['dependencies', 'transitive dependencies']:\n",
    "    print(kind)\n",
    "    for ecos1, ecos2 in itertools.permutations(graphs.keys(), 2):\n",
    "        temp1 = df.query('ecosystem == \"%s\"' % ecos1)[kind]\n",
    "        temp2 = df.query('ecosystem == \"%s\"' % ecos2)[kind]\n",
    "    \n",
    "        score, p_value = scipy.stats.mannwhitneyu(temp1, temp2, alternative='less')\n",
    "        print('Mann-Whitney-u for {}<{} : {:f} (p-value: {:f})'.format(ecos1, ecos2, score, p_value))\n",
    "        \n",
    "        # score, p_value = scipy.stats.kruskal(temp1, temp2)\n",
    "        # print('Kruskal-Wallis H-test for {}!={} : {:f} (p-value: {:f})'.format(ecos1, ecos2, score, p_value))\n",
    "        \n",
    "    print()"
   ]
  },
  {
   "cell_type": "markdown",
   "metadata": {},
   "source": [
    "### Reverse dependencies and transitive reverse dependencies"
   ]
  },
  {
   "cell_type": "code",
   "execution_count": 25,
   "metadata": {
    "collapsed": true
   },
   "outputs": [],
   "source": [
    "data = []\n",
    "\n",
    "for ecos, graph in graphs.items():\n",
    "    nodes = graph.vs\n",
    "    for node in nodes: \n",
    "        deps = graph.degree(node, mode=igraph.IN)\n",
    "        tran_deps = -1  # Ignore source\n",
    "        for target in graph.bfsiter(node, mode=igraph.IN):\n",
    "            tran_deps += 1\n",
    "        node['transitive_rev_deps'] = tran_deps\n",
    "        data.append((ecos, node['name'], deps, tran_deps))"
   ]
  },
  {
   "cell_type": "code",
   "execution_count": 26,
   "metadata": {
    "collapsed": false
   },
   "outputs": [
    {
     "data": {
      "image/png": "[encoded data removed]",
      "text/plain": [
       "<matplotlib.figure.Figure at 0x7f9cd4029860>"
      ]
     },
     "metadata": {},
     "output_type": "display_data"
    }
   ],
   "source": [
    "df = pandas.DataFrame(data, columns=['ecosystem', 'package', 'reverse dependencies', 'transitive reverse dependencies'])\n",
    "df = pandas.melt(df, \n",
    "                 id_vars=['ecosystem', 'package'], \n",
    "                 value_vars=['reverse dependencies', 'transitive reverse dependencies'],\n",
    "                 var_name='kind',\n",
    "                 value_name='value'\n",
    "                 ).query('value > 0')\n",
    "ax = seaborn.boxplot(x='kind', y='value', hue='ecosystem', data=df)\n",
    "ax.set_yscale('log')\n",
    "ax.set_xlabel('')\n",
    "ax.set_ylabel('number')\n",
    "ax.figure.set_size_inches(FIG_SIZE)\n",
    "\n",
    "if SHOW_TITLE:\n",
    "    ax.set_title('Number of (transitive) reverse dependencies')\n",
    "    \n",
    "savefig(ax.figure, 'rev_deps_distribution')"
   ]
  },
  {
   "cell_type": "code",
   "execution_count": 27,
   "metadata": {
    "collapsed": false
   },
   "outputs": [
    {
     "data": {
      "image/png": "[encoded data removed]",
      "text/plain": [
       "<matplotlib.figure.Figure at 0x7f9cdb334f28>"
      ]
     },
     "metadata": {},
     "output_type": "display_data"
    }
   ],
   "source": [
    "tmp = (df.query('kind == \"reverse dependencies\"')\n",
    "  [['ecosystem', 'value']]\n",
    "  .assign(n=1)\n",
    "  .groupby(['ecosystem', 'value']).count()\n",
    ")\n",
    "\n",
    "bins = [1, 100, 500, 1000, pandas.np.inf]\n",
    "\n",
    "tmp = (tmp.reset_index()\n",
    "  .groupby(['ecosystem', pandas.cut(tmp.reset_index()['value'], bins, right=False)])\n",
    "  .sum()\n",
    "  [['n']]\n",
    "  .fillna(0)\n",
    "  .reset_index()\n",
    "  #.pivot(index='value', columns='ecosystem', values='n')\n",
    ")\n",
    "\n",
    "ax = seaborn.barplot('value', 'n', 'ecosystem', tmp.sort_index(), hue_order=ecosystems)\n",
    "ax.set_yscale('log')\n",
    "ax.set_xlabel('Number of transitive reverse dependencies')\n",
    "ax.set_ylabel('Number of packages')\n",
    "if SHOW_TITLE:\n",
    "    ax.set_title('Fragility of the ecosystem')\n",
    "\n",
    "ax.figure.set_size_inches(FIG_SIZE)\n",
    "savefig(ax.figure, 'fragility')"
   ]
  },
  {
   "cell_type": "code",
   "execution_count": 28,
   "metadata": {
    "collapsed": false
   },
   "outputs": [
    {
     "data": {
      "text/html": [
       "<div>\n",
       "<table border=\"1\" class=\"dataframe\">\n",
       "  <thead>\n",
       "    <tr style=\"text-align: right;\">\n",
       "      <th></th>\n",
       "      <th>ecosystem</th>\n",
       "      <th>value</th>\n",
       "      <th>n</th>\n",
       "    </tr>\n",
       "  </thead>\n",
       "  <tbody>\n",
       "    <tr>\n",
       "      <th>0</th>\n",
       "      <td>cran</td>\n",
       "      <td>[1, 100)</td>\n",
       "      <td>870.0</td>\n",
       "    </tr>\n",
       "    <tr>\n",
       "      <th>1</th>\n",
       "      <td>cran</td>\n",
       "      <td>[100, 500)</td>\n",
       "      <td>2.0</td>\n",
       "    </tr>\n",
       "    <tr>\n",
       "      <th>3</th>\n",
       "      <td>cran</td>\n",
       "      <td>[1000, inf)</td>\n",
       "      <td>0.0</td>\n",
       "    </tr>\n",
       "    <tr>\n",
       "      <th>2</th>\n",
       "      <td>cran</td>\n",
       "      <td>[500, 1000)</td>\n",
       "      <td>0.0</td>\n",
       "    </tr>\n",
       "    <tr>\n",
       "      <th>4</th>\n",
       "      <td>npm</td>\n",
       "      <td>[1, 100)</td>\n",
       "      <td>65337.0</td>\n",
       "    </tr>\n",
       "    <tr>\n",
       "      <th>5</th>\n",
       "      <td>npm</td>\n",
       "      <td>[100, 500)</td>\n",
       "      <td>632.0</td>\n",
       "    </tr>\n",
       "    <tr>\n",
       "      <th>7</th>\n",
       "      <td>npm</td>\n",
       "      <td>[1000, inf)</td>\n",
       "      <td>83.0</td>\n",
       "    </tr>\n",
       "    <tr>\n",
       "      <th>6</th>\n",
       "      <td>npm</td>\n",
       "      <td>[500, 1000)</td>\n",
       "      <td>77.0</td>\n",
       "    </tr>\n",
       "    <tr>\n",
       "      <th>8</th>\n",
       "      <td>pypi</td>\n",
       "      <td>[1, 100)</td>\n",
       "      <td>2041.0</td>\n",
       "    </tr>\n",
       "    <tr>\n",
       "      <th>9</th>\n",
       "      <td>pypi</td>\n",
       "      <td>[100, 500)</td>\n",
       "      <td>19.0</td>\n",
       "    </tr>\n",
       "    <tr>\n",
       "      <th>11</th>\n",
       "      <td>pypi</td>\n",
       "      <td>[1000, inf)</td>\n",
       "      <td>0.0</td>\n",
       "    </tr>\n",
       "    <tr>\n",
       "      <th>10</th>\n",
       "      <td>pypi</td>\n",
       "      <td>[500, 1000)</td>\n",
       "      <td>3.0</td>\n",
       "    </tr>\n",
       "  </tbody>\n",
       "</table>\n",
       "</div>"
      ],
      "text/plain": [
       "   ecosystem        value        n\n",
       "0       cran     [1, 100)    870.0\n",
       "1       cran   [100, 500)      2.0\n",
       "3       cran  [1000, inf)      0.0\n",
       "2       cran  [500, 1000)      0.0\n",
       "4        npm     [1, 100)  65337.0\n",
       "5        npm   [100, 500)    632.0\n",
       "7        npm  [1000, inf)     83.0\n",
       "6        npm  [500, 1000)     77.0\n",
       "8       pypi     [1, 100)   2041.0\n",
       "9       pypi   [100, 500)     19.0\n",
       "11      pypi  [1000, inf)      0.0\n",
       "10      pypi  [500, 1000)      3.0"
      ]
     },
     "execution_count": 28,
     "metadata": {},
     "output_type": "execute_result"
    }
   ],
   "source": [
    "tmp.sort_values(['ecosystem', 'value'])"
   ]
  },
  {
   "cell_type": "markdown",
   "metadata": {},
   "source": [
    "# Package size"
   ]
  },
  {
   "cell_type": "code",
   "execution_count": 29,
   "metadata": {
    "collapsed": false
   },
   "outputs": [
    {
     "data": {
      "text/plain": [
       "(0.0025634765625, 15)"
      ]
     },
     "execution_count": 29,
     "metadata": {},
     "output_type": "execute_result"
    },
    {
     "data": {
      "image/png": "[encoded data removed]",
      "text/plain": [
       "<matplotlib.figure.Figure at 0x7f9cda54cbe0>"
      ]
     },
     "metadata": {},
     "output_type": "display_data"
    }
   ],
   "source": [
    "data = []\n",
    "for ecos, graph in graphs.items():\n",
    "    for node in graph.vs:\n",
    "        size = node['size']\n",
    "        if size != pandas.np.nan:\n",
    "            data.append((ecos, node['name'], node['size'] / 8 / 1024))\n",
    "            \n",
    "df = pandas.DataFrame(data, columns=['ecosystem', 'package', 'size'])\n",
    "ax = seaborn.boxplot('ecosystem', 'size', data=df)\n",
    "ax.set_yscale('log')\n",
    "ax.set_ylim(0, 15)"
   ]
  },
  {
   "cell_type": "code",
   "execution_count": 30,
   "metadata": {
    "collapsed": false
   },
   "outputs": [
    {
     "data": {
      "image/png": "[encoded data removed]",
      "text/plain": [
       "<matplotlib.figure.Figure at 0x7f9cd9de96d8>"
      ]
     },
     "metadata": {},
     "output_type": "display_data"
    },
    {
     "data": {
      "image/png": "[encoded data removed]",
      "text/plain": [
       "<matplotlib.figure.Figure at 0x7f9ccda45710>"
      ]
     },
     "metadata": {},
     "output_type": "display_data"
    },
    {
     "data": {
      "image/png": "[encoded data removed]",
      "text/plain": [
       "<matplotlib.figure.Figure at 0x7f9cd40ce9e8>"
      ]
     },
     "metadata": {},
     "output_type": "display_data"
    }
   ],
   "source": [
    "for ecos, graph in graphs.items():\n",
    "    data = list(zip(graph.vs['name'], graph.vs['size'], graph.vs['transitive_deps'], graph.vs['transitive_rev_deps']))\n",
    "    df = pandas.DataFrame(data, columns=['package', 'size', 'tran_deps', 'rev_tran_deps'])\n",
    "    df['size'] = df['size'] / 8 / 1024\n",
    "    \n",
    "    fig, (ax_l, ax_r) = matplotlib.pyplot.subplots(ncols=2, sharey=True)\n",
    "    \n",
    "    df.plot.scatter('tran_deps', 'size', ax=ax_l)\n",
    "    df.plot.scatter('rev_tran_deps', 'size', ax=ax_r)\n",
    "    \n",
    "    for ax in (ax_l, ax_r):\n",
    "        ax.set_title(ecos)"
   ]
  },
  {
   "cell_type": "markdown",
   "metadata": {},
   "source": [
    "## Connected components"
   ]
  },
  {
   "cell_type": "code",
   "execution_count": 31,
   "metadata": {
    "collapsed": false
   },
   "outputs": [
    {
     "name": "stdout",
     "output_type": "stream",
     "text": [
      "Number of (weakly) connected components by component size\n"
     ]
    },
    {
     "data": {
      "text/html": [
       "<div>\n",
       "<table border=\"1\" class=\"dataframe\">\n",
       "  <thead>\n",
       "    <tr style=\"text-align: right;\">\n",
       "      <th></th>\n",
       "      <th>1</th>\n",
       "      <th>2</th>\n",
       "      <th>3</th>\n",
       "      <th>4</th>\n",
       "      <th>5</th>\n",
       "      <th>6</th>\n",
       "      <th>7</th>\n",
       "      <th>8</th>\n",
       "      <th>9</th>\n",
       "      <th>10</th>\n",
       "      <th>...</th>\n",
       "      <th>27</th>\n",
       "      <th>28</th>\n",
       "      <th>32</th>\n",
       "      <th>35</th>\n",
       "      <th>36</th>\n",
       "      <th>41</th>\n",
       "      <th>106</th>\n",
       "      <th>2126</th>\n",
       "      <th>5434</th>\n",
       "      <th>201593</th>\n",
       "    </tr>\n",
       "  </thead>\n",
       "  <tbody>\n",
       "    <tr>\n",
       "      <th>cran</th>\n",
       "      <td>7119.0</td>\n",
       "      <td>76.0</td>\n",
       "      <td>30.0</td>\n",
       "      <td>8.0</td>\n",
       "      <td>1.0</td>\n",
       "      <td>2.0</td>\n",
       "      <td>2.0</td>\n",
       "      <td>0.0</td>\n",
       "      <td>2.0</td>\n",
       "      <td>0.0</td>\n",
       "      <td>...</td>\n",
       "      <td>0.0</td>\n",
       "      <td>0.0</td>\n",
       "      <td>0.0</td>\n",
       "      <td>0.0</td>\n",
       "      <td>0.0</td>\n",
       "      <td>0.0</td>\n",
       "      <td>0.0</td>\n",
       "      <td>1.0</td>\n",
       "      <td>0.0</td>\n",
       "      <td>0.0</td>\n",
       "    </tr>\n",
       "    <tr>\n",
       "      <th>npm</th>\n",
       "      <td>109810.0</td>\n",
       "      <td>1486.0</td>\n",
       "      <td>296.0</td>\n",
       "      <td>119.0</td>\n",
       "      <td>40.0</td>\n",
       "      <td>32.0</td>\n",
       "      <td>9.0</td>\n",
       "      <td>11.0</td>\n",
       "      <td>11.0</td>\n",
       "      <td>1.0</td>\n",
       "      <td>...</td>\n",
       "      <td>1.0</td>\n",
       "      <td>2.0</td>\n",
       "      <td>1.0</td>\n",
       "      <td>1.0</td>\n",
       "      <td>1.0</td>\n",
       "      <td>1.0</td>\n",
       "      <td>1.0</td>\n",
       "      <td>0.0</td>\n",
       "      <td>0.0</td>\n",
       "      <td>1.0</td>\n",
       "    </tr>\n",
       "    <tr>\n",
       "      <th>pypi</th>\n",
       "      <td>68166.0</td>\n",
       "      <td>140.0</td>\n",
       "      <td>14.0</td>\n",
       "      <td>6.0</td>\n",
       "      <td>2.0</td>\n",
       "      <td>3.0</td>\n",
       "      <td>2.0</td>\n",
       "      <td>0.0</td>\n",
       "      <td>1.0</td>\n",
       "      <td>0.0</td>\n",
       "      <td>...</td>\n",
       "      <td>0.0</td>\n",
       "      <td>1.0</td>\n",
       "      <td>0.0</td>\n",
       "      <td>0.0</td>\n",
       "      <td>0.0</td>\n",
       "      <td>0.0</td>\n",
       "      <td>0.0</td>\n",
       "      <td>0.0</td>\n",
       "      <td>1.0</td>\n",
       "      <td>0.0</td>\n",
       "    </tr>\n",
       "  </tbody>\n",
       "</table>\n",
       "<p>3 rows × 31 columns</p>\n",
       "</div>"
      ],
      "text/plain": [
       "        1       2       3       4       5       6       7       8       \\\n",
       "cran    7119.0    76.0    30.0     8.0     1.0     2.0     2.0     0.0   \n",
       "npm   109810.0  1486.0   296.0   119.0    40.0    32.0     9.0    11.0   \n",
       "pypi   68166.0   140.0    14.0     6.0     2.0     3.0     2.0     0.0   \n",
       "\n",
       "      9       10       ...    27      28      32      35      36      41      \\\n",
       "cran     2.0     0.0   ...       0.0     0.0     0.0     0.0     0.0     0.0   \n",
       "npm     11.0     1.0   ...       1.0     2.0     1.0     1.0     1.0     1.0   \n",
       "pypi     1.0     0.0   ...       0.0     1.0     0.0     0.0     0.0     0.0   \n",
       "\n",
       "      106     2126    5434    201593  \n",
       "cran     0.0     1.0     0.0     0.0  \n",
       "npm      1.0     0.0     0.0     1.0  \n",
       "pypi     0.0     0.0     1.0     0.0  \n",
       "\n",
       "[3 rows x 31 columns]"
      ]
     },
     "execution_count": 31,
     "metadata": {},
     "output_type": "execute_result"
    }
   ],
   "source": [
    "data = {ecos: {} for ecos in graphs.keys()}\n",
    "for ecos, graph in graphs.items():\n",
    "    for component, size in Counter(len(component) for component in graph.components(mode=igraph.WEAK)).items():\n",
    "        data[ecos][component] = size\n",
    "df = pandas.DataFrame.from_dict(data)\n",
    "print('Number of (weakly) connected components by component size')\n",
    "df.T.fillna(0)"
   ]
  },
  {
   "cell_type": "code",
   "execution_count": 32,
   "metadata": {
    "collapsed": false
   },
   "outputs": [
    {
     "data": {
      "image/png": "[encoded data removed]",
      "text/plain": [
       "<matplotlib.figure.Figure at 0x7f9cd61a6e80>"
      ]
     },
     "metadata": {},
     "output_type": "display_data"
    }
   ],
   "source": [
    "d = df.reset_index().rename(columns={'index': 'component'})\n",
    "d = pandas.melt(d, id_vars='component', value_vars=['cran', 'npm', 'pypi'], var_name='ecosystem', value_name='size').dropna()\n",
    "\n",
    "ax = None\n",
    "for i, ecos in enumerate(graphs.keys()):\n",
    "    kwargs = {\n",
    "        'x': 'component', \n",
    "        'y': 'size',\n",
    "        'label': ecos,\n",
    "        'logx': True,\n",
    "        'logy': True,\n",
    "        's': 40,\n",
    "        'color': COLORS[ecos]\n",
    "    }\n",
    "    if ax:\n",
    "        kwargs['ax'] = ax\n",
    "        \n",
    "    ax = d.query('ecosystem == \"{}\"'.format(ecos)).plot.scatter(**kwargs)\n",
    "ax.set_xlabel('Size of the component')\n",
    "ax.set_ylabel('Number of components')\n",
    "ax.set_xlim(left=0)\n",
    "ax.set_ylim(bottom=0)\n",
    "\n",
    "if SHOW_TITLE:\n",
    "    ax.set_title('Number of (weakly) connected components by component size')\n",
    "\n",
    "ax.figure.set_size_inches(FIG_SIZE)\n",
    "savefig(ax.figure, 'weakly_components')"
   ]
  },
  {
   "cell_type": "markdown",
   "metadata": {},
   "source": [
    "g = graphs['npm']\n",
    "clusters = g.clusters(mode=igraph.WEAK)\n",
    "for component in clusters:\n",
    "    if len(component) == 106:\n",
    "        break\n",
    "subgraph = g.subgraph(component)\n",
    "n = 0\n",
    "for line in subgraph.get_adjacency():\n",
    "    #    print(''.join((str(x) for x in line)))\n",
    "    n += line[-1]\n",
    "list(g['name'] for g in subgraph.vs)"
   ]
  },
  {
   "cell_type": "code",
   "execution_count": 33,
   "metadata": {
    "collapsed": false
   },
   "outputs": [
    {
     "name": "stderr",
     "output_type": "stream",
     "text": [
      "cran: 100%|██████████| 7241/7241 [00:00<00:00, 11056.46it/s]\n",
      "pypi: 100%|██████████| 68336/68336 [00:09<00:00, 7048.23it/s] \n",
      "npm: 100%|██████████| 111852/111852 [00:50<00:00, 2209.28it/s]\n"
     ]
    }
   ],
   "source": [
    "data_aspl = []\n",
    "for ecos, graph in graphs.items():\n",
    "    clusters = graph.clusters(mode=igraph.WEAK)\n",
    "    \n",
    "    for component in tqdm.tqdm(clusters, desc=ecos):\n",
    "        subgraph = graph.subgraph(component)\n",
    "        n = subgraph.vcount()\n",
    "        \n",
    "        if 1 < n < 200000:\n",
    "            n_paths = 0\n",
    "            sum_paths = 0\n",
    "            for paths in subgraph.shortest_paths_dijkstra(mode=igraph.ALL):\n",
    "                n_paths += len(paths)\n",
    "                sum_paths += sum(paths)\n",
    "            \n",
    "            data_aspl.append((ecos, n, sum_paths / n_paths))\n",
    "\n",
    "# NPM's largest component was ignored during the computation here above\n",
    "# because it takes a while to compute its aspl. The result was previously \n",
    "# computed, and is now hard-coded here:\n",
    "data_aspl.append(('npm', 201593, 4.1))            "
   ]
  },
  {
   "cell_type": "code",
   "execution_count": 34,
   "metadata": {
    "collapsed": false
   },
   "outputs": [
    {
     "data": {
      "text/html": [
       "<div>\n",
       "<table border=\"1\" class=\"dataframe\">\n",
       "  <thead>\n",
       "    <tr style=\"text-align: right;\">\n",
       "      <th></th>\n",
       "      <th>ecosystem</th>\n",
       "      <th>component</th>\n",
       "      <th>aspl</th>\n",
       "    </tr>\n",
       "  </thead>\n",
       "  <tbody>\n",
       "    <tr>\n",
       "      <th>0</th>\n",
       "      <td>cran</td>\n",
       "      <td>2126</td>\n",
       "      <td>4.769485</td>\n",
       "    </tr>\n",
       "    <tr>\n",
       "      <th>64</th>\n",
       "      <td>cran</td>\n",
       "      <td>9</td>\n",
       "      <td>1.950617</td>\n",
       "    </tr>\n",
       "    <tr>\n",
       "      <th>59</th>\n",
       "      <td>cran</td>\n",
       "      <td>9</td>\n",
       "      <td>2.098765</td>\n",
       "    </tr>\n",
       "    <tr>\n",
       "      <th>28</th>\n",
       "      <td>cran</td>\n",
       "      <td>7</td>\n",
       "      <td>1.795918</td>\n",
       "    </tr>\n",
       "    <tr>\n",
       "      <th>42</th>\n",
       "      <td>cran</td>\n",
       "      <td>7</td>\n",
       "      <td>1.224490</td>\n",
       "    </tr>\n",
       "    <tr>\n",
       "      <th>2333</th>\n",
       "      <td>npm</td>\n",
       "      <td>201593</td>\n",
       "      <td>4.100000</td>\n",
       "    </tr>\n",
       "    <tr>\n",
       "      <th>901</th>\n",
       "      <td>npm</td>\n",
       "      <td>106</td>\n",
       "      <td>2.580100</td>\n",
       "    </tr>\n",
       "    <tr>\n",
       "      <th>1036</th>\n",
       "      <td>npm</td>\n",
       "      <td>41</td>\n",
       "      <td>2.057109</td>\n",
       "    </tr>\n",
       "    <tr>\n",
       "      <th>1890</th>\n",
       "      <td>npm</td>\n",
       "      <td>36</td>\n",
       "      <td>2.155864</td>\n",
       "    </tr>\n",
       "    <tr>\n",
       "      <th>1260</th>\n",
       "      <td>npm</td>\n",
       "      <td>35</td>\n",
       "      <td>2.894694</td>\n",
       "    </tr>\n",
       "    <tr>\n",
       "      <th>122</th>\n",
       "      <td>pypi</td>\n",
       "      <td>5434</td>\n",
       "      <td>4.318231</td>\n",
       "    </tr>\n",
       "    <tr>\n",
       "      <th>241</th>\n",
       "      <td>pypi</td>\n",
       "      <td>28</td>\n",
       "      <td>1.987245</td>\n",
       "    </tr>\n",
       "    <tr>\n",
       "      <th>136</th>\n",
       "      <td>pypi</td>\n",
       "      <td>9</td>\n",
       "      <td>2.172840</td>\n",
       "    </tr>\n",
       "    <tr>\n",
       "      <th>126</th>\n",
       "      <td>pypi</td>\n",
       "      <td>7</td>\n",
       "      <td>1.551020</td>\n",
       "    </tr>\n",
       "    <tr>\n",
       "      <th>248</th>\n",
       "      <td>pypi</td>\n",
       "      <td>7</td>\n",
       "      <td>1.469388</td>\n",
       "    </tr>\n",
       "  </tbody>\n",
       "</table>\n",
       "</div>"
      ],
      "text/plain": [
       "     ecosystem  component      aspl\n",
       "0         cran       2126  4.769485\n",
       "64        cran          9  1.950617\n",
       "59        cran          9  2.098765\n",
       "28        cran          7  1.795918\n",
       "42        cran          7  1.224490\n",
       "2333       npm     201593  4.100000\n",
       "901        npm        106  2.580100\n",
       "1036       npm         41  2.057109\n",
       "1890       npm         36  2.155864\n",
       "1260       npm         35  2.894694\n",
       "122       pypi       5434  4.318231\n",
       "241       pypi         28  1.987245\n",
       "136       pypi          9  2.172840\n",
       "126       pypi          7  1.551020\n",
       "248       pypi          7  1.469388"
      ]
     },
     "execution_count": 34,
     "metadata": {},
     "output_type": "execute_result"
    }
   ],
   "source": [
    "df = pandas.DataFrame.from_records(data_aspl, columns=['ecosystem', 'component', 'aspl'])\n",
    "df.sort_values('component', ascending=False).groupby('ecosystem').head(5).sort_values('ecosystem')"
   ]
  },
  {
   "cell_type": "code",
   "execution_count": 35,
   "metadata": {
    "collapsed": false
   },
   "outputs": [
    {
     "data": {
      "text/plain": [
       "<matplotlib.text.Text at 0x7f9cd8db31d0>"
      ]
     },
     "execution_count": 35,
     "metadata": {},
     "output_type": "execute_result"
    },
    {
     "data": {
      "image/png": "[encoded data removed]",
      "text/plain": [
       "<matplotlib.figure.Figure at 0x7f9cd8ea5ef0>"
      ]
     },
     "metadata": {},
     "output_type": "display_data"
    }
   ],
   "source": [
    "ax = seaborn.stripplot('ecosystem', 'aspl', data=df, jitter=0.3)\n",
    "ax.set_title('Average shortest path length for each\\nweakly connected component (size > 1)')"
   ]
  },
  {
   "cell_type": "markdown",
   "metadata": {},
   "source": [
    "## Hubs and Authorities"
   ]
  },
  {
   "cell_type": "code",
   "execution_count": 36,
   "metadata": {
    "collapsed": false
   },
   "outputs": [
    {
     "data": {
      "image/png": "[encoded data removed]",
      "text/plain": [
       "<matplotlib.figure.Figure at 0x7f9cd8b080b8>"
      ]
     },
     "metadata": {},
     "output_type": "display_data"
    },
    {
     "data": {
      "image/png": "[encoded data removed]",
      "text/plain": [
       "<matplotlib.figure.Figure at 0x7f9cd8dd7080>"
      ]
     },
     "metadata": {},
     "output_type": "display_data"
    }
   ],
   "source": [
    "fig_hubs, ax_hubs = matplotlib.pyplot.subplots(ncols=3, sharey=True)\n",
    "fig_hubs.set_size_inches(FIG_SIZE_WIDE)\n",
    "\n",
    "fig_auth, ax_authorities = matplotlib.pyplot.subplots(ncols=3, sharey=True)\n",
    "fig_auth.set_size_inches(FIG_SIZE_WIDE)\n",
    "\n",
    "for i, (ecos, graph) in enumerate(graphs.items()):\n",
    "    hubs, authorities = graph.hub_score(), graph.authority_score()\n",
    "    hubs, authorities = pandas.Series(hubs), pandas.Series(authorities)\n",
    "    hubs.plot.hist(label=ecos, ax=ax_hubs[i], bins=25, logy=True, color=COLORS[ecos])\n",
    "    authorities.plot.hist(label=ecos, ax=ax_authorities[i], bins=25, logy=True, color=COLORS[ecos])\n",
    "    if SHOW_TITLE:\n",
    "        ax_hubs[i].set_title('Hubs for {}'.format(ecos))\n",
    "        ax_authorities[i].set_title('Authorities for {}'.format(ecos))\n",
    "    \n",
    "savefig(fig_hubs, 'hubs')\n",
    "savefig(fig_auth, 'auths')"
   ]
  },
  {
   "cell_type": "markdown",
   "metadata": {},
   "source": [
    "## Pagerank"
   ]
  },
  {
   "cell_type": "code",
   "execution_count": 37,
   "metadata": {
    "collapsed": false
   },
   "outputs": [
    {
     "data": {
      "image/png": "[encoded data removed]",
      "text/plain": [
       "<matplotlib.figure.Figure at 0x7f9cd53ac940>"
      ]
     },
     "metadata": {},
     "output_type": "display_data"
    }
   ],
   "source": [
    "fig, axes = matplotlib.pyplot.subplots(ncols=3, sharey=True)\n",
    "fig.set_size_inches(FIG_SIZE_WIDE)\n",
    "\n",
    "for i, (ecos, graph) in enumerate(graphs.items()):\n",
    "    pagerank = graph.pagerank()\n",
    "    pandas.Series(pagerank).plot.hist(label=ecos, ax=axes[i], bins=25, logy=True, color=COLORS[ecos])\n",
    "    if SHOW_TITLE:\n",
    "        axes[i].set_title(ecos)\n",
    "    axes[i].set_xlabel('Pagerank value')\n",
    "    \n",
    "savefig(fig, 'pagerank')"
   ]
  }
 ],
 "metadata": {
  "kernelspec": {
   "display_name": "Python 3",
   "language": "python",
   "name": "python3"
  },
  "language_info": {
   "codemirror_mode": {
    "name": "ipython",
    "version": 3
   },
   "file_extension": ".py",
   "mimetype": "text/x-python",
   "name": "python",
   "nbconvert_exporter": "python",
   "pygments_lexer": "ipython3",
   "version": "3.5.1"
  }
 },
 "nbformat": 4,
 "nbformat_minor": 1
}
