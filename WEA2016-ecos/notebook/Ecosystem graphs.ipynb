{
 "cells": [
  {
   "cell_type": "code",
   "execution_count": 1,
   "metadata": {
    "collapsed": false
   },
   "outputs": [],
   "source": [
    "import matplotlib\n",
    "import seaborn\n",
    "import pandas\n",
    "import networkx\n",
    "import tqdm\n",
    "import gzip\n",
    "import igraph\n",
    "\n",
    "from collections import Counter\n",
    "\n",
    "%matplotlib inline"
   ]
  },
  {
   "cell_type": "code",
   "execution_count": 2,
   "metadata": {
    "collapsed": false
   },
   "outputs": [],
   "source": [
    "ecosystems = ['pypi', 'npm', 'cran']\n",
    "\n",
    "COLORS = {ecos: seaborn.color_palette()[i] for i, ecos in enumerate(ecosystems)}"
   ]
  },
  {
   "cell_type": "code",
   "execution_count": 3,
   "metadata": {
    "collapsed": true
   },
   "outputs": [],
   "source": [
    "def igraph_to_networkx(graph):\n",
    "    ngraph = networkx.DiGraph() if graph.is_directed() else networkx.Graph()\n",
    "    nodes = graph.vs['name']\n",
    "    edges = ((nodes[source], nodes[target]) for source, target in graph.get_edgelist())\n",
    "    ngraph.add_nodes_from(nodes)\n",
    "    ngraph.add_edges_from(edges)\n",
    "    return ngraph"
   ]
  },
  {
   "cell_type": "code",
   "execution_count": 4,
   "metadata": {
    "collapsed": false
   },
   "outputs": [],
   "source": [
    "graphs = {}\n",
    "\n",
    "for ecos in ecosystems:\n",
    "    with gzip.GzipFile('../../{}/data/packages.csv.gz'.format(ecos)) as f:\n",
    "        packages = pandas.read_csv(f, index_col=[0,1])\n",
    "    with gzip.GzipFile('../../{}/data/deps.csv.gz'.format(ecos)) as f:\n",
    "        deps = pandas.read_csv(f)\n",
    "\n",
    "    # Take latest version of each package\n",
    "    packages = packages.sort_values('time').groupby(level=0, sort=False).tail(1)\n",
    "    deps = packages.merge(deps, how='inner', left_index=True, right_on=['package', 'version']).dropna()\n",
    "\n",
    "    # Filter out dependencies that are not registered packages\n",
    "    deps = packages.reset_index().merge(deps, how='inner', left_on='package', right_on='dependency', suffixes=('_2', ''))\n",
    "    \n",
    "    # Construct graph\n",
    "    graph = igraph.Graph(directed=True)\n",
    "    graph.add_vertices(packages.index.get_level_values('package'))\n",
    "    edges = [(row.package, row.dependency) for row in deps[['package', 'dependency']].itertuples()]\n",
    "    graph.add_edges(edges)\n",
    "    \n",
    "    graphs[ecos] = graph\n",
    "    "
   ]
  },
  {
   "cell_type": "markdown",
   "metadata": {},
   "source": [
    "## Packages and Dependencies"
   ]
  },
  {
   "cell_type": "code",
   "execution_count": 5,
   "metadata": {
    "collapsed": false
   },
   "outputs": [
    {
     "data": {
      "text/html": [
       "<div>\n",
       "<table border=\"1\" class=\"dataframe\">\n",
       "  <thead>\n",
       "    <tr style=\"text-align: right;\">\n",
       "      <th></th>\n",
       "      <th>packages</th>\n",
       "      <th>pkg_isolated</th>\n",
       "      <th>pkg_non_isolated</th>\n",
       "      <th>pkg_with_deps</th>\n",
       "      <th>pkg_with_rev_deps</th>\n",
       "      <th>dependencies</th>\n",
       "    </tr>\n",
       "  </thead>\n",
       "  <tbody>\n",
       "    <tr>\n",
       "      <th>cran</th>\n",
       "      <td>9568</td>\n",
       "      <td>7119</td>\n",
       "      <td>2449</td>\n",
       "      <td>1921</td>\n",
       "      <td>872</td>\n",
       "      <td>3770</td>\n",
       "    </tr>\n",
       "    <tr>\n",
       "      <th>npm</th>\n",
       "      <td>317160</td>\n",
       "      <td>109796</td>\n",
       "      <td>207364</td>\n",
       "      <td>185228</td>\n",
       "      <td>66129</td>\n",
       "      <td>725450</td>\n",
       "    </tr>\n",
       "    <tr>\n",
       "      <th>pypi</th>\n",
       "      <td>82134</td>\n",
       "      <td>77349</td>\n",
       "      <td>4785</td>\n",
       "      <td>3344</td>\n",
       "      <td>1739</td>\n",
       "      <td>10063</td>\n",
       "    </tr>\n",
       "  </tbody>\n",
       "</table>\n",
       "</div>"
      ],
      "text/plain": [
       "      packages  pkg_isolated  pkg_non_isolated  pkg_with_deps  \\\n",
       "cran      9568          7119              2449           1921   \n",
       "npm     317160        109796            207364         185228   \n",
       "pypi     82134         77349              4785           3344   \n",
       "\n",
       "      pkg_with_rev_deps  dependencies  \n",
       "cran                872          3770  \n",
       "npm               66129        725450  \n",
       "pypi               1739         10063  "
      ]
     },
     "execution_count": 5,
     "metadata": {},
     "output_type": "execute_result"
    }
   ],
   "source": [
    "data = {ecos: {} for ecos in graphs.keys()}\n",
    "for ecos, graph in graphs.items():\n",
    "    data[ecos]['packages'] = graph.vcount()\n",
    "    data[ecos]['dependencies'] = graph.ecount()\n",
    "    data[ecos]['pkg_with_deps'] = len([True for d in graph.outdegree() if d > 0])\n",
    "    data[ecos]['pkg_with_rev_deps'] = len([True for d in graph.indegree() if d > 0])\n",
    "    data[ecos]['pkg_non_isolated'] = len([True for d in graph.degree() if d > 0])\n",
    "    data[ecos]['pkg_isolated'] = len([True for d in graph.degree() if d == 0])\n",
    "df = pandas.DataFrame.from_dict(data, orient='index')\n",
    "df"
   ]
  },
  {
   "cell_type": "code",
   "execution_count": 6,
   "metadata": {
    "collapsed": false
   },
   "outputs": [
    {
     "data": {
      "text/plain": [
       "<matplotlib.axes._subplots.AxesSubplot at 0x7fd08e549978>"
      ]
     },
     "execution_count": 6,
     "metadata": {},
     "output_type": "execute_result"
    },
    {
     "data": {
      "image/png": "[encoded data removed]",
      "text/plain": [
       "<matplotlib.figure.Figure at 0x7fd0920ef048>"
      ]
     },
     "metadata": {},
     "output_type": "display_data"
    }
   ],
   "source": [
    "df['with_deps'] = df['pkg_with_deps'] / df['packages']\n",
    "df['with_rev_deps'] = df['pkg_with_rev_deps'] / df['packages']\n",
    "df['isolated'] = df['pkg_isolated'] / df['packages']\n",
    "df[['with_deps', 'with_rev_deps', 'isolated']].plot.bar(title='Proportion of packages', color=seaborn.color_palette()[3:])"
   ]
  },
  {
   "cell_type": "code",
   "execution_count": 7,
   "metadata": {
    "collapsed": false
   },
   "outputs": [
    {
     "data": {
      "text/plain": [
       "<matplotlib.text.Text at 0x7fd08fa98c18>"
      ]
     },
     "execution_count": 7,
     "metadata": {},
     "output_type": "execute_result"
    },
    {
     "data": {
      "image/png": "[encoded data removed]",
      "text/plain": [
       "<matplotlib.figure.Figure at 0x7fd08fdf8b70>"
      ]
     },
     "metadata": {},
     "output_type": "display_data"
    },
    {
     "data": {
      "image/png": "[encoded data removed]",
      "text/plain": [
       "<matplotlib.figure.Figure at 0x7fd0910acfd0>"
      ]
     },
     "metadata": {},
     "output_type": "display_data"
    }
   ],
   "source": [
    "data_in = []\n",
    "data_in_p = []\n",
    "data_out = []\n",
    "data_out_p = []\n",
    "\n",
    "for ecos, graph in graphs.items():\n",
    "    n = graph.vcount()\n",
    "    for d in graph.outdegree():\n",
    "        if d > 0:\n",
    "            data_out.append((ecos, d))\n",
    "            data_out_p.append((ecos, 100 * d / n))\n",
    "            \n",
    "    for d in graph.indegree():\n",
    "        if d > 0:\n",
    "            data_in.append((ecos, d))\n",
    "            data_in_p.append((ecos, 100 * d / n))\n",
    "\n",
    "fig, axes = matplotlib.pyplot.subplots(ncols=2, sharey=True, sharex=True)            \n",
    "fig.suptitle('Distribution of the number of (reverse) dependencies')\n",
    "\n",
    "ax = seaborn.boxplot(0, 1, data=pandas.DataFrame.from_records(data_out), ax=axes[0])\n",
    "ax.set_ylim(0, 10)\n",
    "ax.set_xlabel('')\n",
    "ax.set_ylabel('# deps')\n",
    "ax.set_title('Dependencies (non-zero)')\n",
    "\n",
    "ax = seaborn.boxplot(0, 1, data=pandas.DataFrame.from_records(data_in), ax=axes[1])\n",
    "ax.set_ylim(0, 10)\n",
    "ax.set_xlabel('')\n",
    "ax.set_ylabel('# rev deps')\n",
    "ax.set_title('Reverse dependencies (non-zero)')\n",
    "\n",
    "\n",
    "fig, axes = matplotlib.pyplot.subplots(ncols=2, sharey=True, sharex=True)            \n",
    "fig.suptitle('Distribution of the proportion of (reverse) dependencies wrt. total packages')\n",
    "\n",
    "ax = seaborn.boxplot(0, 1, data=pandas.DataFrame.from_records(data_out_p), ax=axes[0])\n",
    "ax.set_ylim(0, 0.05)\n",
    "ax.set_xlabel('')\n",
    "ax.set_ylabel('%')\n",
    "ax.set_title('Dependencies (non-zero)')\n",
    "\n",
    "ax = seaborn.boxplot(0, 1, data=pandas.DataFrame.from_records(data_in_p), ax=axes[1])\n",
    "ax.set_ylim(0, 0.05)\n",
    "ax.set_xlabel('')\n",
    "ax.set_ylabel('%')\n",
    "ax.set_title('Reverse dependencies (non-zero)')"
   ]
  },
  {
   "cell_type": "code",
   "execution_count": 8,
   "metadata": {
    "collapsed": false
   },
   "outputs": [
    {
     "name": "stdout",
     "output_type": "stream",
     "text": [
      "Most required packages\n",
      "npm : lodash (23306), request (14571), async (14089), underscore (11976), commander (9409), express (9365), chalk (8964), debug (8463), bluebird (7261), mkdirp (6326), \n",
      "pypi : requests (593), numpy (526), six (435), pytest (259), coverage (245), scipy (221), matplotlib (179), pytest-cov (158), check-manifest (154), mock (144), \n",
      "cran : Rcpp (468), ggplot2 (126), httr (84), dplyr (74), rJava (62), Matrix (55), stringr (51), data.table (49), jsonlite (43), plyr (42), \n",
      "\n",
      "Most dependent packages\n",
      "npm : mikolalysenko-hoarders (389), terrible-lodash (309), smasher (130), lodash-modularized (129), compute.io (122), bb-lp-cli (115), smashing-dev-tool (114), brainfock (114), cordova-plugin-require-bluetoothle (112), files-and-folders-server (110), \n",
      "pypi : invenio-records-rest (50), invenio-migrator (49), invenio-openaire (48), invenio-previewer (47), invenio-communities (46), gnocchi (43), invenio-logging (40), cameo (40), invenio-files-rest (39), jsonresolver (38), \n",
      "cran : radiant (19), AFM (18), SSDM (15), btergm (14), SurvRank (13), Luminescence (13), toaster (13), hyfo (12), spocc (12), CorReg (11), \n"
     ]
    }
   ],
   "source": [
    "print('Most required packages')\n",
    "for ecos, graph in graphs.items():\n",
    "    print(ecos, ':', end=' ')\n",
    "    for vertex, degree in sorted(zip(graph.vs, graph.indegree()), key=lambda x: x[1], reverse=True)[:10]:\n",
    "        print('{} ({})'.format(vertex['name'], degree), end=', ')\n",
    "    print()\n",
    "\n",
    "print()\n",
    "\n",
    "print('Most dependent packages')\n",
    "for ecos, graph in graphs.items():\n",
    "    print(ecos, ':', end=' ')\n",
    "    for vertex, degree in sorted(zip(graph.vs, graph.outdegree()), key=lambda x: x[1], reverse=True)[:10]:\n",
    "        print('{} ({})'.format(vertex['name'], degree), end=', ')\n",
    "    print()"
   ]
  },
  {
   "cell_type": "markdown",
   "metadata": {},
   "source": [
    "## Connected components"
   ]
  },
  {
   "cell_type": "code",
   "execution_count": 9,
   "metadata": {
    "collapsed": false
   },
   "outputs": [
    {
     "name": "stdout",
     "output_type": "stream",
     "text": [
      "Number of (weakly) connected components by component size\n"
     ]
    },
    {
     "data": {
      "text/html": [
       "<div>\n",
       "<table border=\"1\" class=\"dataframe\">\n",
       "  <thead>\n",
       "    <tr style=\"text-align: right;\">\n",
       "      <th></th>\n",
       "      <th>1</th>\n",
       "      <th>2</th>\n",
       "      <th>3</th>\n",
       "      <th>4</th>\n",
       "      <th>5</th>\n",
       "      <th>6</th>\n",
       "      <th>7</th>\n",
       "      <th>8</th>\n",
       "      <th>9</th>\n",
       "      <th>10</th>\n",
       "      <th>...</th>\n",
       "      <th>27</th>\n",
       "      <th>28</th>\n",
       "      <th>32</th>\n",
       "      <th>35</th>\n",
       "      <th>36</th>\n",
       "      <th>41</th>\n",
       "      <th>106</th>\n",
       "      <th>2126</th>\n",
       "      <th>4349</th>\n",
       "      <th>201593</th>\n",
       "    </tr>\n",
       "  </thead>\n",
       "  <tbody>\n",
       "    <tr>\n",
       "      <th>cran</th>\n",
       "      <td>7119.0</td>\n",
       "      <td>76.0</td>\n",
       "      <td>30.0</td>\n",
       "      <td>8.0</td>\n",
       "      <td>1.0</td>\n",
       "      <td>2.0</td>\n",
       "      <td>2.0</td>\n",
       "      <td>0.0</td>\n",
       "      <td>2.0</td>\n",
       "      <td>0.0</td>\n",
       "      <td>...</td>\n",
       "      <td>0.0</td>\n",
       "      <td>0.0</td>\n",
       "      <td>0.0</td>\n",
       "      <td>0.0</td>\n",
       "      <td>0.0</td>\n",
       "      <td>0.0</td>\n",
       "      <td>0.0</td>\n",
       "      <td>1.0</td>\n",
       "      <td>0.0</td>\n",
       "      <td>0.0</td>\n",
       "    </tr>\n",
       "    <tr>\n",
       "      <th>npm</th>\n",
       "      <td>109810.0</td>\n",
       "      <td>1486.0</td>\n",
       "      <td>296.0</td>\n",
       "      <td>119.0</td>\n",
       "      <td>40.0</td>\n",
       "      <td>32.0</td>\n",
       "      <td>9.0</td>\n",
       "      <td>11.0</td>\n",
       "      <td>11.0</td>\n",
       "      <td>1.0</td>\n",
       "      <td>...</td>\n",
       "      <td>1.0</td>\n",
       "      <td>2.0</td>\n",
       "      <td>1.0</td>\n",
       "      <td>1.0</td>\n",
       "      <td>1.0</td>\n",
       "      <td>1.0</td>\n",
       "      <td>1.0</td>\n",
       "      <td>0.0</td>\n",
       "      <td>0.0</td>\n",
       "      <td>1.0</td>\n",
       "    </tr>\n",
       "    <tr>\n",
       "      <th>pypi</th>\n",
       "      <td>77349.0</td>\n",
       "      <td>140.0</td>\n",
       "      <td>17.0</td>\n",
       "      <td>4.0</td>\n",
       "      <td>3.0</td>\n",
       "      <td>3.0</td>\n",
       "      <td>1.0</td>\n",
       "      <td>2.0</td>\n",
       "      <td>1.0</td>\n",
       "      <td>0.0</td>\n",
       "      <td>...</td>\n",
       "      <td>0.0</td>\n",
       "      <td>0.0</td>\n",
       "      <td>0.0</td>\n",
       "      <td>0.0</td>\n",
       "      <td>0.0</td>\n",
       "      <td>0.0</td>\n",
       "      <td>0.0</td>\n",
       "      <td>0.0</td>\n",
       "      <td>1.0</td>\n",
       "      <td>0.0</td>\n",
       "    </tr>\n",
       "  </tbody>\n",
       "</table>\n",
       "<p>3 rows × 32 columns</p>\n",
       "</div>"
      ],
      "text/plain": [
       "        1       2       3       4       5       6       7       8       \\\n",
       "cran    7119.0    76.0    30.0     8.0     1.0     2.0     2.0     0.0   \n",
       "npm   109810.0  1486.0   296.0   119.0    40.0    32.0     9.0    11.0   \n",
       "pypi   77349.0   140.0    17.0     4.0     3.0     3.0     1.0     2.0   \n",
       "\n",
       "      9       10       ...    27      28      32      35      36      41      \\\n",
       "cran     2.0     0.0   ...       0.0     0.0     0.0     0.0     0.0     0.0   \n",
       "npm     11.0     1.0   ...       1.0     2.0     1.0     1.0     1.0     1.0   \n",
       "pypi     1.0     0.0   ...       0.0     0.0     0.0     0.0     0.0     0.0   \n",
       "\n",
       "      106     2126    4349    201593  \n",
       "cran     0.0     1.0     0.0     0.0  \n",
       "npm      1.0     0.0     0.0     1.0  \n",
       "pypi     0.0     0.0     1.0     0.0  \n",
       "\n",
       "[3 rows x 32 columns]"
      ]
     },
     "execution_count": 9,
     "metadata": {},
     "output_type": "execute_result"
    }
   ],
   "source": [
    "data = {ecos: {} for ecos in graphs.keys()}\n",
    "for ecos, graph in graphs.items():\n",
    "    for component, size in Counter(len(component) for component in graph.components(mode=igraph.WEAK)).items():\n",
    "        data[ecos][component] = size\n",
    "df = pandas.DataFrame.from_dict(data)\n",
    "print('Number of (weakly) connected components by component size')\n",
    "df.T.fillna(0)"
   ]
  },
  {
   "cell_type": "code",
   "execution_count": 10,
   "metadata": {
    "collapsed": false
   },
   "outputs": [
    {
     "data": {
      "text/plain": [
       "(0.83695179574305245, 1000000.0)"
      ]
     },
     "execution_count": 10,
     "metadata": {},
     "output_type": "execute_result"
    },
    {
     "data": {
      "image/png": "[encoded data removed]",
      "text/plain": [
       "<matplotlib.figure.Figure at 0x7fd08fce04e0>"
      ]
     },
     "metadata": {},
     "output_type": "display_data"
    }
   ],
   "source": [
    "d = df.reset_index().rename(columns={'index': 'component'})\n",
    "d = pandas.melt(d, id_vars='component', value_vars=['cran', 'npm', 'pypi'], var_name='ecosystem', value_name='size').dropna()\n",
    "\n",
    "ax = None\n",
    "for i, ecos in enumerate(graphs.keys()):\n",
    "    kwargs = {\n",
    "        'x': 'component', \n",
    "        'y': 'size',\n",
    "        'label': ecos,\n",
    "        'logx': True,\n",
    "        'logy': True,\n",
    "        's': 30,\n",
    "        'color': COLORS[ecos]\n",
    "    }\n",
    "    if ax:\n",
    "        kwargs['ax'] = ax\n",
    "        \n",
    "    ax = d.query('ecosystem == \"{}\"'.format(ecos)).plot.scatter(**kwargs)\n",
    "ax.set_xlabel('Size of the component')\n",
    "ax.set_ylabel('Number of components')\n",
    "ax.set_title('Number of (weakly) connected components by component size')\n",
    "ax.set_xlim(left=0)\n",
    "ax.set_ylim(bottom=0)"
   ]
  },
  {
   "cell_type": "markdown",
   "metadata": {},
   "source": [
    "**Next cell ignores the biggest component of NPM!!**"
   ]
  },
  {
   "cell_type": "code",
   "execution_count": 11,
   "metadata": {
    "collapsed": false
   },
   "outputs": [],
   "source": [
    "data = []\n",
    "for ecos, graph in graphs.items():\n",
    "    # Convert igraph to networkx\n",
    "    graph = igraph_to_networkx(graph).to_undirected()\n",
    "    components = networkx.connected_components(graph)\n",
    "    for component in filter(lambda c: 200000 > len(c) > 1, components):\n",
    "        subgraph = graph.subgraph(component)\n",
    "        apl = networkx.average_shortest_path_length(subgraph)\n",
    "        data.append((ecos, len(component), apl))"
   ]
  },
  {
   "cell_type": "markdown",
   "metadata": {},
   "source": [
    "**The biggest component of NPM was NOT considered by the previous cell. The computation for this component takes far too long (several weeks). Thus, an estimation based on a subset of source nodes is done. This estimation takes on average 10 minutes. Following cell can be parametrized to avoid this computation and to use the latest estimation which is hard-written in the code.**"
   ]
  },
  {
   "cell_type": "code",
   "execution_count": 12,
   "metadata": {
    "collapsed": false
   },
   "outputs": [],
   "source": [
    "use_cache = True\n",
    "\n",
    "if not use_cache:\n",
    "    from random import sample\n",
    "    graph = igraph_to_networkx(graphs['npm']).to_undirected()\n",
    "    max_component = max(networkx.connected_components(graph), key=len)\n",
    "    subgraph = graph.subgraph(max_component)\n",
    "\n",
    "    print('--')\n",
    "\n",
    "    n_paths = 0\n",
    "    sum_of_lengths = 0\n",
    "    #sources = sample(subgraph.nodes(), 2000)\n",
    "    sources = sorted(subgraph.degree_iter(), key=lambda x: x[1], reverse=True)[:2500]\n",
    "\n",
    "    for source, degree in tqdm.tqdm_notebook(sources, desc='source'):\n",
    "        for target, length in networkx.shortest_path_length(subgraph, source).items():\n",
    "            n_paths += 1\n",
    "            sum_of_lengths += length\n",
    "\n",
    "    print(sum_of_lengths / n_paths)\n",
    "    data.append(('npm', len(max_component), sum_of_lengths / n_paths))\n",
    "else:\n",
    "    data.append(('npm', 201593, 3.46244392))"
   ]
  },
  {
   "cell_type": "code",
   "execution_count": 13,
   "metadata": {
    "collapsed": false
   },
   "outputs": [
    {
     "data": {
      "text/html": [
       "<div>\n",
       "<table border=\"1\" class=\"dataframe\">\n",
       "  <thead>\n",
       "    <tr style=\"text-align: right;\">\n",
       "      <th></th>\n",
       "      <th>ecosystem</th>\n",
       "      <th>component</th>\n",
       "      <th>aspl</th>\n",
       "    </tr>\n",
       "  </thead>\n",
       "  <tbody>\n",
       "    <tr>\n",
       "      <th>2214</th>\n",
       "      <td>cran</td>\n",
       "      <td>2126</td>\n",
       "      <td>4.771730</td>\n",
       "    </tr>\n",
       "    <tr>\n",
       "      <th>2272</th>\n",
       "      <td>cran</td>\n",
       "      <td>9</td>\n",
       "      <td>2.194444</td>\n",
       "    </tr>\n",
       "    <tr>\n",
       "      <th>2217</th>\n",
       "      <td>cran</td>\n",
       "      <td>9</td>\n",
       "      <td>2.361111</td>\n",
       "    </tr>\n",
       "    <tr>\n",
       "      <th>2252</th>\n",
       "      <td>cran</td>\n",
       "      <td>7</td>\n",
       "      <td>1.428571</td>\n",
       "    </tr>\n",
       "    <tr>\n",
       "      <th>2280</th>\n",
       "      <td>cran</td>\n",
       "      <td>7</td>\n",
       "      <td>2.095238</td>\n",
       "    </tr>\n",
       "    <tr>\n",
       "      <th>2336</th>\n",
       "      <td>npm</td>\n",
       "      <td>201593</td>\n",
       "      <td>3.462444</td>\n",
       "    </tr>\n",
       "    <tr>\n",
       "      <th>14</th>\n",
       "      <td>npm</td>\n",
       "      <td>106</td>\n",
       "      <td>2.604672</td>\n",
       "    </tr>\n",
       "    <tr>\n",
       "      <th>56</th>\n",
       "      <td>npm</td>\n",
       "      <td>41</td>\n",
       "      <td>2.108537</td>\n",
       "    </tr>\n",
       "    <tr>\n",
       "      <th>72</th>\n",
       "      <td>npm</td>\n",
       "      <td>36</td>\n",
       "      <td>2.217460</td>\n",
       "    </tr>\n",
       "    <tr>\n",
       "      <th>69</th>\n",
       "      <td>npm</td>\n",
       "      <td>35</td>\n",
       "      <td>2.979832</td>\n",
       "    </tr>\n",
       "    <tr>\n",
       "      <th>2041</th>\n",
       "      <td>pypi</td>\n",
       "      <td>4349</td>\n",
       "      <td>4.523081</td>\n",
       "    </tr>\n",
       "    <tr>\n",
       "      <th>2050</th>\n",
       "      <td>pypi</td>\n",
       "      <td>24</td>\n",
       "      <td>1.992754</td>\n",
       "    </tr>\n",
       "    <tr>\n",
       "      <th>2045</th>\n",
       "      <td>pypi</td>\n",
       "      <td>9</td>\n",
       "      <td>2.444444</td>\n",
       "    </tr>\n",
       "    <tr>\n",
       "      <th>2080</th>\n",
       "      <td>pypi</td>\n",
       "      <td>8</td>\n",
       "      <td>1.928571</td>\n",
       "    </tr>\n",
       "    <tr>\n",
       "      <th>2062</th>\n",
       "      <td>pypi</td>\n",
       "      <td>8</td>\n",
       "      <td>2.142857</td>\n",
       "    </tr>\n",
       "  </tbody>\n",
       "</table>\n",
       "</div>"
      ],
      "text/plain": [
       "     ecosystem  component      aspl\n",
       "2214      cran       2126  4.771730\n",
       "2272      cran          9  2.194444\n",
       "2217      cran          9  2.361111\n",
       "2252      cran          7  1.428571\n",
       "2280      cran          7  2.095238\n",
       "2336       npm     201593  3.462444\n",
       "14         npm        106  2.604672\n",
       "56         npm         41  2.108537\n",
       "72         npm         36  2.217460\n",
       "69         npm         35  2.979832\n",
       "2041      pypi       4349  4.523081\n",
       "2050      pypi         24  1.992754\n",
       "2045      pypi          9  2.444444\n",
       "2080      pypi          8  1.928571\n",
       "2062      pypi          8  2.142857"
      ]
     },
     "execution_count": 13,
     "metadata": {},
     "output_type": "execute_result"
    }
   ],
   "source": [
    "df = pandas.DataFrame.from_records(data, columns=['ecosystem', 'component', 'aspl'])\n",
    "df.sort_values('component', ascending=False).groupby('ecosystem').head(5).sort_values('ecosystem')"
   ]
  },
  {
   "cell_type": "code",
   "execution_count": 14,
   "metadata": {
    "collapsed": false
   },
   "outputs": [
    {
     "data": {
      "text/plain": [
       "<matplotlib.text.Text at 0x7fd0920ef320>"
      ]
     },
     "execution_count": 14,
     "metadata": {},
     "output_type": "execute_result"
    },
    {
     "data": {
      "image/png": "[encoded data removed]",
      "text/plain": [
       "<matplotlib.figure.Figure at 0x7fd08d1ea048>"
      ]
     },
     "metadata": {},
     "output_type": "display_data"
    }
   ],
   "source": [
    "ax = seaborn.stripplot('ecosystem', 'aspl', data=df, jitter=0.3, \n",
    "                      order=COLORS.keys(), palette=list(COLORS.values()))\n",
    "ax.set_title('Average shortest path length for each\\nweakly connected component (size > 1)')"
   ]
  },
  {
   "cell_type": "markdown",
   "metadata": {},
   "source": [
    "## Hubs and Authorities"
   ]
  },
  {
   "cell_type": "code",
   "execution_count": 19,
   "metadata": {
    "collapsed": false
   },
   "outputs": [
    {
     "data": {
      "image/png": "[encoded data removed]",
      "text/plain": [
       "<matplotlib.figure.Figure at 0x7fd08e4192b0>"
      ]
     },
     "metadata": {},
     "output_type": "display_data"
    },
    {
     "data": {
      "image/png": "[encoded data removed]",
      "text/plain": [
       "<matplotlib.figure.Figure at 0x7fd08cdf0080>"
      ]
     },
     "metadata": {},
     "output_type": "display_data"
    }
   ],
   "source": [
    "fig_hubs, ax_hubs = matplotlib.pyplot.subplots(ncols=3, sharey=True)\n",
    "fig_hubs.set_size_inches((12, 3))\n",
    "\n",
    "fig_auth, ax_authorities = matplotlib.pyplot.subplots(ncols=3)\n",
    "fig_auth.set_size_inches((12, 3))\n",
    "\n",
    "for i, (ecos, graph) in enumerate(graphs.items()):\n",
    "    hubs, authorities = graph.hub_score(), graph.authority_score()\n",
    "    hubs, authorities = pandas.Series(hubs), pandas.Series(authorities)\n",
    "    hubs.plot.hist(label=ecos, ax=ax_hubs[i], bins=25, logy=True, color=COLORS[ecos])\n",
    "    authorities.plot.hist(label=ecos, ax=ax_authorities[i], bins=25, logy=True, color=COLORS[ecos])\n",
    "    ax_hubs[i].set_title('Hubs for {}'.format(ecos))\n",
    "    ax_authorities[i].set_title('Authorities for {}'.format(ecos))"
   ]
  },
  {
   "cell_type": "markdown",
   "metadata": {},
   "source": [
    "## Pagerank"
   ]
  },
  {
   "cell_type": "code",
   "execution_count": 16,
   "metadata": {
    "collapsed": false
   },
   "outputs": [
    {
     "data": {
      "image/png": "[encoded data removed]",
      "text/plain": [
       "<matplotlib.figure.Figure at 0x7fd08f4ab588>"
      ]
     },
     "metadata": {},
     "output_type": "display_data"
    }
   ],
   "source": [
    "fig, axes = matplotlib.pyplot.subplots(ncols=3, sharey=True)\n",
    "fig.set_size_inches((12, 4))\n",
    "\n",
    "for i, (ecos, graph) in enumerate(graphs.items()):\n",
    "    pagerank = graph.pagerank()\n",
    "    pandas.Series(pagerank).plot.hist(label=ecos, ax=axes[i], bins=25, logy=True, color=COLORS[ecos])\n",
    "    axes[i].set_title(ecos)\n",
    "    axes[i].set_xlabel('Pagerank value')"
   ]
  }
 ],
 "metadata": {
  "kernelspec": {
   "display_name": "Python 3",
   "language": "python",
   "name": "python3"
  },
  "language_info": {
   "codemirror_mode": {
    "name": "ipython",
    "version": 3
   },
   "file_extension": ".py",
   "mimetype": "text/x-python",
   "name": "python",
   "nbconvert_exporter": "python",
   "pygments_lexer": "ipython3",
   "version": "3.5.1"
  }
 },
 "nbformat": 4,
 "nbformat_minor": 1
}
