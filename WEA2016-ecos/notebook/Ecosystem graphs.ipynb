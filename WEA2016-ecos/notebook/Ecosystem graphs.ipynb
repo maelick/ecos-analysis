{
 "cells": [
  {
   "cell_type": "code",
   "execution_count": 1,
   "metadata": {
    "collapsed": false
   },
   "outputs": [],
   "source": [
    "import matplotlib\n",
    "import seaborn\n",
    "import pandas\n",
    "import networkx\n",
    "import tqdm\n",
    "import gzip\n",
    "\n",
    "from collections import Counter\n",
    "\n",
    "%matplotlib inline"
   ]
  },
  {
   "cell_type": "code",
   "execution_count": 2,
   "metadata": {
    "collapsed": false
   },
   "outputs": [],
   "source": [
    "ecosystems = ['pypi', 'npm', 'cran']\n",
    "\n",
    "COLORS = {ecos: seaborn.color_palette()[i] for i, ecos in enumerate(ecosystems)}"
   ]
  },
  {
   "cell_type": "code",
   "execution_count": 3,
   "metadata": {
    "collapsed": false
   },
   "outputs": [],
   "source": [
    "graphs = {}\n",
    "\n",
    "for ecos in ecosystems:\n",
    "    with gzip.GzipFile('../../{}/data/packages.csv.gz'.format(ecos)) as f:\n",
    "        packages = pandas.read_csv(f, index_col=[0,1])\n",
    "    with gzip.GzipFile('../../{}/data/deps.csv.gz'.format(ecos)) as f:\n",
    "        deps = pandas.read_csv(f)\n",
    "\n",
    "    # Take latest version of each packages\n",
    "    packages = packages.sort_values('time').groupby(level=0, sort=False).tail(1)\n",
    "    deps = packages.merge(deps, how='inner', left_index=True, right_on=['package', 'version']).dropna()\n",
    "\n",
    "    # Filter dependencies that are not registered packages\n",
    "    deps = packages.reset_index().merge(deps, how='inner', left_on='package', right_on='dependency', suffixes=('_2', ''))\n",
    "    \n",
    "    # Construct graph\n",
    "    graph = networkx.DiGraph()\n",
    "    graph.add_nodes_from(packages.index.get_level_values('package'))\n",
    "    edges = ((row.package, row.dependency) for row in deps[['package', 'dependency']].itertuples())\n",
    "    graph.add_edges_from(edges)\n",
    "    \n",
    "    graphs[ecos] = graph"
   ]
  },
  {
   "cell_type": "markdown",
   "metadata": {},
   "source": [
    "## Packages and Dependencies"
   ]
  },
  {
   "cell_type": "code",
   "execution_count": 4,
   "metadata": {
    "collapsed": false
   },
   "outputs": [
    {
     "data": {
      "text/html": [
       "<div>\n",
       "<table border=\"1\" class=\"dataframe\">\n",
       "  <thead>\n",
       "    <tr style=\"text-align: right;\">\n",
       "      <th></th>\n",
       "      <th>dependencies</th>\n",
       "      <th>pkg_isolated</th>\n",
       "      <th>packages</th>\n",
       "      <th>pkg_non_isolated</th>\n",
       "      <th>pkg_with_rev_deps</th>\n",
       "      <th>pkg_with_deps</th>\n",
       "    </tr>\n",
       "  </thead>\n",
       "  <tbody>\n",
       "    <tr>\n",
       "      <th>cran</th>\n",
       "      <td>3770</td>\n",
       "      <td>7119</td>\n",
       "      <td>9568</td>\n",
       "      <td>2449</td>\n",
       "      <td>872</td>\n",
       "      <td>1921</td>\n",
       "    </tr>\n",
       "    <tr>\n",
       "      <th>npm</th>\n",
       "      <td>725450</td>\n",
       "      <td>109796</td>\n",
       "      <td>317160</td>\n",
       "      <td>207364</td>\n",
       "      <td>66129</td>\n",
       "      <td>185228</td>\n",
       "    </tr>\n",
       "    <tr>\n",
       "      <th>pypi</th>\n",
       "      <td>9214</td>\n",
       "      <td>77349</td>\n",
       "      <td>82134</td>\n",
       "      <td>4785</td>\n",
       "      <td>1739</td>\n",
       "      <td>3344</td>\n",
       "    </tr>\n",
       "  </tbody>\n",
       "</table>\n",
       "</div>"
      ],
      "text/plain": [
       "      dependencies  pkg_isolated  packages  pkg_non_isolated  \\\n",
       "cran          3770          7119      9568              2449   \n",
       "npm         725450        109796    317160            207364   \n",
       "pypi          9214         77349     82134              4785   \n",
       "\n",
       "      pkg_with_rev_deps  pkg_with_deps  \n",
       "cran                872           1921  \n",
       "npm               66129         185228  \n",
       "pypi               1739           3344  "
      ]
     },
     "execution_count": 4,
     "metadata": {},
     "output_type": "execute_result"
    }
   ],
   "source": [
    "data = {ecos: {} for ecos in graphs.keys()}\n",
    "for ecos, graph in graphs.items():\n",
    "    data[ecos]['packages'] = graph.order()\n",
    "    data[ecos]['dependencies'] = graph.size()\n",
    "    data[ecos]['pkg_with_deps'] = len([n for n, d in graph.out_degree_iter() if d > 0])\n",
    "    data[ecos]['pkg_with_rev_deps'] = len([n for n, d in graph.in_degree_iter() if d > 0])\n",
    "    data[ecos]['pkg_non_isolated'] = len([True for n, d in graph.degree_iter() if d > 0])\n",
    "    data[ecos]['pkg_isolated'] = len([True for n, d in graph.degree_iter() if d == 0])\n",
    "df = pandas.DataFrame.from_dict(data, orient='index')\n",
    "df"
   ]
  },
  {
   "cell_type": "code",
   "execution_count": 5,
   "metadata": {
    "collapsed": false
   },
   "outputs": [
    {
     "data": {
      "text/plain": [
       "<matplotlib.axes._subplots.AxesSubplot at 0x7faa35ce6128>"
      ]
     },
     "execution_count": 5,
     "metadata": {},
     "output_type": "execute_result"
    },
    {
     "data": {
      "image/png": "[encoded data removed]",
      "text/plain": [
       "<matplotlib.figure.Figure at 0x7faa39937400>"
      ]
     },
     "metadata": {},
     "output_type": "display_data"
    }
   ],
   "source": [
    "df['with_deps'] = df['pkg_with_deps'] / df['packages']\n",
    "df['with_rev_deps'] = df['pkg_with_rev_deps'] / df['packages']\n",
    "df['isolated'] = df['pkg_isolated'] / df['packages']\n",
    "df[['with_deps', 'with_rev_deps', 'isolated']].plot.bar(title='Proportion of packages', color=seaborn.color_palette()[3:])"
   ]
  },
  {
   "cell_type": "markdown",
   "metadata": {},
   "source": [
    "## Connected components"
   ]
  },
  {
   "cell_type": "code",
   "execution_count": 6,
   "metadata": {
    "collapsed": false
   },
   "outputs": [
    {
     "name": "stdout",
     "output_type": "stream",
     "text": [
      "Number of (weakly) connected components by component size\n"
     ]
    },
    {
     "data": {
      "text/html": [
       "<div>\n",
       "<table border=\"1\" class=\"dataframe\">\n",
       "  <thead>\n",
       "    <tr style=\"text-align: right;\">\n",
       "      <th></th>\n",
       "      <th>1</th>\n",
       "      <th>2</th>\n",
       "      <th>3</th>\n",
       "      <th>4</th>\n",
       "      <th>5</th>\n",
       "      <th>6</th>\n",
       "      <th>7</th>\n",
       "      <th>8</th>\n",
       "      <th>9</th>\n",
       "      <th>10</th>\n",
       "      <th>...</th>\n",
       "      <th>27</th>\n",
       "      <th>28</th>\n",
       "      <th>32</th>\n",
       "      <th>35</th>\n",
       "      <th>36</th>\n",
       "      <th>41</th>\n",
       "      <th>106</th>\n",
       "      <th>2126</th>\n",
       "      <th>4349</th>\n",
       "      <th>201593</th>\n",
       "    </tr>\n",
       "  </thead>\n",
       "  <tbody>\n",
       "    <tr>\n",
       "      <th>cran</th>\n",
       "      <td>7119.0</td>\n",
       "      <td>76.0</td>\n",
       "      <td>30.0</td>\n",
       "      <td>8.0</td>\n",
       "      <td>1.0</td>\n",
       "      <td>2.0</td>\n",
       "      <td>2.0</td>\n",
       "      <td>0.0</td>\n",
       "      <td>2.0</td>\n",
       "      <td>0.0</td>\n",
       "      <td>...</td>\n",
       "      <td>0.0</td>\n",
       "      <td>0.0</td>\n",
       "      <td>0.0</td>\n",
       "      <td>0.0</td>\n",
       "      <td>0.0</td>\n",
       "      <td>0.0</td>\n",
       "      <td>0.0</td>\n",
       "      <td>1.0</td>\n",
       "      <td>0.0</td>\n",
       "      <td>0.0</td>\n",
       "    </tr>\n",
       "    <tr>\n",
       "      <th>npm</th>\n",
       "      <td>109810.0</td>\n",
       "      <td>1486.0</td>\n",
       "      <td>296.0</td>\n",
       "      <td>119.0</td>\n",
       "      <td>40.0</td>\n",
       "      <td>32.0</td>\n",
       "      <td>9.0</td>\n",
       "      <td>11.0</td>\n",
       "      <td>11.0</td>\n",
       "      <td>1.0</td>\n",
       "      <td>...</td>\n",
       "      <td>1.0</td>\n",
       "      <td>2.0</td>\n",
       "      <td>1.0</td>\n",
       "      <td>1.0</td>\n",
       "      <td>1.0</td>\n",
       "      <td>1.0</td>\n",
       "      <td>1.0</td>\n",
       "      <td>0.0</td>\n",
       "      <td>0.0</td>\n",
       "      <td>1.0</td>\n",
       "    </tr>\n",
       "    <tr>\n",
       "      <th>pypi</th>\n",
       "      <td>77349.0</td>\n",
       "      <td>140.0</td>\n",
       "      <td>17.0</td>\n",
       "      <td>4.0</td>\n",
       "      <td>3.0</td>\n",
       "      <td>3.0</td>\n",
       "      <td>1.0</td>\n",
       "      <td>2.0</td>\n",
       "      <td>1.0</td>\n",
       "      <td>0.0</td>\n",
       "      <td>...</td>\n",
       "      <td>0.0</td>\n",
       "      <td>0.0</td>\n",
       "      <td>0.0</td>\n",
       "      <td>0.0</td>\n",
       "      <td>0.0</td>\n",
       "      <td>0.0</td>\n",
       "      <td>0.0</td>\n",
       "      <td>0.0</td>\n",
       "      <td>1.0</td>\n",
       "      <td>0.0</td>\n",
       "    </tr>\n",
       "  </tbody>\n",
       "</table>\n",
       "<p>3 rows × 32 columns</p>\n",
       "</div>"
      ],
      "text/plain": [
       "        1       2       3       4       5       6       7       8       \\\n",
       "cran    7119.0    76.0    30.0     8.0     1.0     2.0     2.0     0.0   \n",
       "npm   109810.0  1486.0   296.0   119.0    40.0    32.0     9.0    11.0   \n",
       "pypi   77349.0   140.0    17.0     4.0     3.0     3.0     1.0     2.0   \n",
       "\n",
       "      9       10       ...    27      28      32      35      36      41      \\\n",
       "cran     2.0     0.0   ...       0.0     0.0     0.0     0.0     0.0     0.0   \n",
       "npm     11.0     1.0   ...       1.0     2.0     1.0     1.0     1.0     1.0   \n",
       "pypi     1.0     0.0   ...       0.0     0.0     0.0     0.0     0.0     0.0   \n",
       "\n",
       "      106     2126    4349    201593  \n",
       "cran     0.0     1.0     0.0     0.0  \n",
       "npm      1.0     0.0     0.0     1.0  \n",
       "pypi     0.0     0.0     1.0     0.0  \n",
       "\n",
       "[3 rows x 32 columns]"
      ]
     },
     "execution_count": 6,
     "metadata": {},
     "output_type": "execute_result"
    }
   ],
   "source": [
    "data = {ecos: {} for ecos in graphs.keys()}\n",
    "for ecos, graph in graphs.items():\n",
    "    for component, size in Counter(len(component) for component in networkx.weakly_connected_components(graph)).items():\n",
    "        data[ecos][component] = size\n",
    "df = pandas.DataFrame.from_dict(data)\n",
    "print('Number of (weakly) connected components by component size')\n",
    "df.T.fillna(0)"
   ]
  },
  {
   "cell_type": "code",
   "execution_count": 7,
   "metadata": {
    "collapsed": false
   },
   "outputs": [
    {
     "data": {
      "text/plain": [
       "<matplotlib.text.Text at 0x7faa3549dba8>"
      ]
     },
     "execution_count": 7,
     "metadata": {},
     "output_type": "execute_result"
    },
    {
     "data": {
      "image/png": "[encoded data removed]",
      "text/plain": [
       "<matplotlib.figure.Figure at 0x7faa38b09978>"
      ]
     },
     "metadata": {},
     "output_type": "display_data"
    }
   ],
   "source": [
    "d = df.reset_index().rename(columns={'index': 'component'})\n",
    "d = pandas.melt(d, id_vars='component', value_vars=['cran', 'npm', 'pypi'], var_name='ecosystem', value_name='size').dropna()\n",
    "\n",
    "ax = None\n",
    "for i, ecos in enumerate(graphs.keys()):\n",
    "    kwargs = {\n",
    "        'x': 'component', \n",
    "        'y': 'size',\n",
    "        'label': ecos,\n",
    "        'logx': True,\n",
    "        'logy': True,\n",
    "        'color': COLORS[ecos]\n",
    "    }\n",
    "    if ax:\n",
    "        kwargs['ax'] = ax\n",
    "        \n",
    "    ax = d.query('ecosystem == \"{}\"'.format(ecos)).plot.scatter(**kwargs)\n",
    "ax.set_xlabel('Size of the component')\n",
    "ax.set_ylabel('Number of components')\n",
    "ax.set_title('Number of (weakly) connected components by component size')"
   ]
  },
  {
   "cell_type": "markdown",
   "metadata": {},
   "source": [
    "## Hubs and Authorities"
   ]
  },
  {
   "cell_type": "code",
   "execution_count": 8,
   "metadata": {
    "collapsed": false
   },
   "outputs": [
    {
     "data": {
      "image/png": "[encoded data removed]",
      "text/plain": [
       "<matplotlib.figure.Figure at 0x7faa37841550>"
      ]
     },
     "metadata": {},
     "output_type": "display_data"
    },
    {
     "data": {
      "image/png": "[encoded data removed]",
      "text/plain": [
       "<matplotlib.figure.Figure at 0x7faa372caf28>"
      ]
     },
     "metadata": {},
     "output_type": "display_data"
    }
   ],
   "source": [
    "fig_hubs, ax_hubs = matplotlib.pyplot.subplots(ncols=3, sharey=True)\n",
    "fig_hubs.set_size_inches((12, 3))\n",
    "\n",
    "fig_auth, ax_authorities = matplotlib.pyplot.subplots(ncols=3)\n",
    "fig_auth.set_size_inches((12, 3))\n",
    "\n",
    "for i, (ecos, graph) in enumerate(graphs.items()):\n",
    "    hubs, authorities = networkx.hits_scipy(graph)\n",
    "    hubs, authorities = pandas.Series(hubs), pandas.Series(authorities)\n",
    "    hubs.plot.hist(label=ecos, ax=ax_hubs[i], bins=25, logy=True, color=COLORS[ecos])\n",
    "    authorities.plot.hist(label=ecos, ax=ax_authorities[i], bins=25, logy=True, color=COLORS[ecos])\n",
    "    ax_hubs[i].set_title('Hubs for {}'.format(ecos))\n",
    "    ax_authorities[i].set_title('Authorities for {}'.format(ecos))"
   ]
  },
  {
   "cell_type": "markdown",
   "metadata": {},
   "source": [
    "## Pagerank"
   ]
  },
  {
   "cell_type": "code",
   "execution_count": 9,
   "metadata": {
    "collapsed": false
   },
   "outputs": [
    {
     "data": {
      "image/png": "[encoded data removed]",
      "text/plain": [
       "<matplotlib.figure.Figure at 0x7faa354ad2b0>"
      ]
     },
     "metadata": {},
     "output_type": "display_data"
    }
   ],
   "source": [
    "fig, axes = matplotlib.pyplot.subplots(ncols=3, sharey=True)\n",
    "fig.set_size_inches((12, 4))\n",
    "\n",
    "for i, (ecos, graph) in enumerate(graphs.items()):\n",
    "    pagerank = networkx.pagerank(graph)\n",
    "    pandas.Series(pagerank).plot.hist(label=ecos, ax=axes[i], bins=25, logy=True, color=COLORS[ecos])\n",
    "    axes[i].set_title(ecos)\n",
    "    axes[i].set_xlabel('Pagerank value')"
   ]
  }
 ],
 "metadata": {
  "kernelspec": {
   "display_name": "Python 3",
   "language": "python",
   "name": "python3"
  },
  "language_info": {
   "codemirror_mode": {
    "name": "ipython",
    "version": 3
   },
   "file_extension": ".py",
   "mimetype": "text/x-python",
   "name": "python",
   "nbconvert_exporter": "python",
   "pygments_lexer": "ipython3",
   "version": "3.5.1"
  }
 },
 "nbformat": 4,
 "nbformat_minor": 1
}
