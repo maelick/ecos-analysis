{
 "cells": [
  {
   "cell_type": "code",
   "execution_count": 23,
   "metadata": {
    "collapsed": false
   },
   "outputs": [],
   "source": [
    "import matplotlib\n",
    "import seaborn\n",
    "import pandas\n",
    "import networkx\n",
    "import tqdm\n",
    "import gzip\n",
    "import igraph\n",
    "\n",
    "from collections import Counter\n",
    "\n",
    "%matplotlib inline"
   ]
  },
  {
   "cell_type": "code",
   "execution_count": 24,
   "metadata": {
    "collapsed": false
   },
   "outputs": [],
   "source": [
    "ecosystems = ['pypi', 'npm', 'cran']\n",
    "\n",
    "COLORS = {ecos: seaborn.color_palette()[i] for i, ecos in enumerate(ecosystems)}"
   ]
  },
  {
   "cell_type": "code",
   "execution_count": 25,
   "metadata": {
    "collapsed": true
   },
   "outputs": [],
   "source": [
    "def igraph_to_networkx(graph):\n",
    "    ngraph = networkx.DiGraph() if graph.is_directed() else networkx.Graph()\n",
    "    nodes = graph.vs['name']\n",
    "    edges = ((nodes[source], nodes[target]) for source, target in graph.get_edgelist())\n",
    "    ngraph.add_nodes_from(nodes)\n",
    "    ngraph.add_edges_from(edges)\n",
    "    return ngraph"
   ]
  },
  {
   "cell_type": "code",
   "execution_count": 26,
   "metadata": {
    "collapsed": false
   },
   "outputs": [],
   "source": [
    "graphs = {}\n",
    "\n",
    "for ecos in ecosystems:\n",
    "    with gzip.GzipFile('../../{}/data/packages.csv.gz'.format(ecos)) as f:\n",
    "        packages = pandas.read_csv(f, index_col=[0,1])\n",
    "    with gzip.GzipFile('../../{}/data/deps.csv.gz'.format(ecos)) as f:\n",
    "        deps = pandas.read_csv(f)\n",
    "\n",
    "    # Take latest version of each package\n",
    "    packages = packages.sort_values('time').groupby(level=0, sort=False).tail(1)\n",
    "    deps = packages.merge(deps, how='inner', left_index=True, right_on=['package', 'version']).dropna()\n",
    "\n",
    "    # Filter out dependencies that are not registered packages\n",
    "    deps = packages.reset_index().merge(deps, how='inner', left_on='package', right_on='dependency', suffixes=('_2', ''))\n",
    "    \n",
    "    # Construct graph\n",
    "    graph = igraph.Graph(directed=True)\n",
    "    graph.add_vertices(packages.index.get_level_values('package'))\n",
    "    edges = [(row.package, row.dependency) for row in deps[['package', 'dependency']].itertuples()]\n",
    "    graph.add_edges(edges)\n",
    "    \n",
    "    graphs[ecos] = graph\n",
    "    "
   ]
  },
  {
   "cell_type": "markdown",
   "metadata": {},
   "source": [
    "## Packages and Dependencies"
   ]
  },
  {
   "cell_type": "code",
   "execution_count": 27,
   "metadata": {
    "collapsed": false
   },
   "outputs": [
    {
     "data": {
      "text/html": [
       "<div>\n",
       "<table border=\"1\" class=\"dataframe\">\n",
       "  <thead>\n",
       "    <tr style=\"text-align: right;\">\n",
       "      <th></th>\n",
       "      <th>pkg_isolated</th>\n",
       "      <th>dependencies</th>\n",
       "      <th>pkg_non_isolated</th>\n",
       "      <th>pkg_with_rev_deps</th>\n",
       "      <th>pkg_with_deps</th>\n",
       "      <th>packages</th>\n",
       "    </tr>\n",
       "  </thead>\n",
       "  <tbody>\n",
       "    <tr>\n",
       "      <th>cran</th>\n",
       "      <td>7119</td>\n",
       "      <td>3770</td>\n",
       "      <td>2449</td>\n",
       "      <td>872</td>\n",
       "      <td>1921</td>\n",
       "      <td>9568</td>\n",
       "    </tr>\n",
       "    <tr>\n",
       "      <th>npm</th>\n",
       "      <td>109796</td>\n",
       "      <td>725450</td>\n",
       "      <td>207364</td>\n",
       "      <td>66129</td>\n",
       "      <td>185228</td>\n",
       "      <td>317160</td>\n",
       "    </tr>\n",
       "    <tr>\n",
       "      <th>pypi</th>\n",
       "      <td>77349</td>\n",
       "      <td>10063</td>\n",
       "      <td>4785</td>\n",
       "      <td>1739</td>\n",
       "      <td>3344</td>\n",
       "      <td>82134</td>\n",
       "    </tr>\n",
       "  </tbody>\n",
       "</table>\n",
       "</div>"
      ],
      "text/plain": [
       "      pkg_isolated  dependencies  pkg_non_isolated  pkg_with_rev_deps  \\\n",
       "cran          7119          3770              2449                872   \n",
       "npm         109796        725450            207364              66129   \n",
       "pypi         77349         10063              4785               1739   \n",
       "\n",
       "      pkg_with_deps  packages  \n",
       "cran           1921      9568  \n",
       "npm          185228    317160  \n",
       "pypi           3344     82134  "
      ]
     },
     "execution_count": 27,
     "metadata": {},
     "output_type": "execute_result"
    }
   ],
   "source": [
    "data = {ecos: {} for ecos in graphs.keys()}\n",
    "for ecos, graph in graphs.items():\n",
    "    data[ecos]['packages'] = graph.vcount()\n",
    "    data[ecos]['dependencies'] = graph.ecount()\n",
    "    data[ecos]['pkg_with_deps'] = len([True for d in graph.outdegree() if d > 0])\n",
    "    data[ecos]['pkg_with_rev_deps'] = len([True for d in graph.indegree() if d > 0])\n",
    "    data[ecos]['pkg_non_isolated'] = len([True for d in graph.degree() if d > 0])\n",
    "    data[ecos]['pkg_isolated'] = len([True for d in graph.degree() if d == 0])\n",
    "df = pandas.DataFrame.from_dict(data, orient='index')\n",
    "df"
   ]
  },
  {
   "cell_type": "code",
   "execution_count": 28,
   "metadata": {
    "collapsed": false
   },
   "outputs": [
    {
     "data": {
      "text/plain": [
       "<matplotlib.axes._subplots.AxesSubplot at 0x7f5288337978>"
      ]
     },
     "execution_count": 28,
     "metadata": {},
     "output_type": "execute_result"
    },
    {
     "data": {
      "image/png": "[encoded data removed]",
      "text/plain": [
       "<matplotlib.figure.Figure at 0x7f528834b198>"
      ]
     },
     "metadata": {},
     "output_type": "display_data"
    }
   ],
   "source": [
    "df['with_deps'] = df['pkg_with_deps'] / df['packages']\n",
    "df['with_rev_deps'] = df['pkg_with_rev_deps'] / df['packages']\n",
    "df['isolated'] = df['pkg_isolated'] / df['packages']\n",
    "df[['with_deps', 'with_rev_deps', 'isolated']].plot.bar(title='Proportion of packages', color=seaborn.color_palette()[3:])"
   ]
  },
  {
   "cell_type": "code",
   "execution_count": 29,
   "metadata": {
    "collapsed": false
   },
   "outputs": [
    {
     "data": {
      "text/plain": [
       "<matplotlib.text.Text at 0x7f5278c87a20>"
      ]
     },
     "execution_count": 29,
     "metadata": {},
     "output_type": "execute_result"
    },
    {
     "data": {
      "image/png": "[encoded data removed]",
      "text/plain": [
       "<matplotlib.figure.Figure at 0x7f5279c3c828>"
      ]
     },
     "metadata": {},
     "output_type": "display_data"
    },
    {
     "data": {
      "image/png": "[encoded data removed]",
      "text/plain": [
       "<matplotlib.figure.Figure at 0x7f5286c14a20>"
      ]
     },
     "metadata": {},
     "output_type": "display_data"
    }
   ],
   "source": [
    "data_in = []\n",
    "data_in_p = []\n",
    "data_out = []\n",
    "data_out_p = []\n",
    "\n",
    "for ecos, graph in graphs.items():\n",
    "    n = graph.vcount()\n",
    "    for d in graph.outdegree():\n",
    "        if d > 0:\n",
    "            data_out.append((ecos, d))\n",
    "            data_out_p.append((ecos, 100 * d / n))\n",
    "            \n",
    "    for d in graph.indegree():\n",
    "        if d > 0:\n",
    "            data_in.append((ecos, d))\n",
    "            data_in_p.append((ecos, 100 * d / n))\n",
    "\n",
    "fig, axes = matplotlib.pyplot.subplots(ncols=2, sharey=True, sharex=True)            \n",
    "fig.suptitle('Distribution of the number of (reverse) dependencies')\n",
    "\n",
    "ax = seaborn.boxplot(0, 1, data=pandas.DataFrame.from_records(data_out), ax=axes[0])\n",
    "ax.set_ylim(0, 10)\n",
    "ax.set_xlabel('')\n",
    "ax.set_ylabel('# deps')\n",
    "ax.set_title('Dependencies (non-zero)')\n",
    "\n",
    "ax = seaborn.boxplot(0, 1, data=pandas.DataFrame.from_records(data_in), ax=axes[1])\n",
    "ax.set_ylim(0, 10)\n",
    "ax.set_xlabel('')\n",
    "ax.set_ylabel('# rev deps')\n",
    "ax.set_title('Reverse dependencies (non-zero)')\n",
    "\n",
    "\n",
    "fig, axes = matplotlib.pyplot.subplots(ncols=2, sharey=True, sharex=True)            \n",
    "fig.suptitle('Distribution of the proportion of (reverse) dependencies wrt. total packages')\n",
    "\n",
    "ax = seaborn.boxplot(0, 1, data=pandas.DataFrame.from_records(data_out_p), ax=axes[0])\n",
    "ax.set_ylim(0, 0.05)\n",
    "ax.set_xlabel('')\n",
    "ax.set_ylabel('%')\n",
    "ax.set_title('Dependencies (non-zero)')\n",
    "\n",
    "ax = seaborn.boxplot(0, 1, data=pandas.DataFrame.from_records(data_in_p), ax=axes[1])\n",
    "ax.set_ylim(0, 0.05)\n",
    "ax.set_xlabel('')\n",
    "ax.set_ylabel('%')\n",
    "ax.set_title('Reverse dependencies (non-zero)')"
   ]
  },
  {
   "cell_type": "code",
   "execution_count": 30,
   "metadata": {
    "collapsed": false
   },
   "outputs": [
    {
     "name": "stdout",
     "output_type": "stream",
     "text": [
      "Most required packages\n",
      "cran : Rcpp (468), ggplot2 (126), httr (84), dplyr (74), rJava (62), Matrix (55), stringr (51), data.table (49), jsonlite (43), plyr (42), \n",
      "pypi : requests (593), numpy (526), six (435), pytest (259), coverage (245), scipy (221), matplotlib (179), pytest-cov (158), check-manifest (154), mock (144), \n",
      "npm : lodash (23306), request (14571), async (14089), underscore (11976), commander (9409), express (9365), chalk (8964), debug (8463), bluebird (7261), mkdirp (6326), \n",
      "\n",
      "Most dependent packages\n",
      "cran : radiant (19), AFM (18), SSDM (15), btergm (14), SurvRank (13), Luminescence (13), toaster (13), hyfo (12), spocc (12), CorReg (11), \n",
      "pypi : invenio-records-rest (50), invenio-migrator (49), invenio-openaire (48), invenio-previewer (47), invenio-communities (46), gnocchi (43), invenio-logging (40), cameo (40), invenio-files-rest (39), jsonresolver (38), \n",
      "npm : mikolalysenko-hoarders (389), terrible-lodash (309), smasher (130), lodash-modularized (129), compute.io (122), bb-lp-cli (115), smashing-dev-tool (114), brainfock (114), cordova-plugin-require-bluetoothle (112), files-and-folders-server (110), \n"
     ]
    }
   ],
   "source": [
    "print('Most required packages')\n",
    "for ecos, graph in graphs.items():\n",
    "    print(ecos, ':', end=' ')\n",
    "    for vertex, degree in sorted(zip(graph.vs, graph.indegree()), key=lambda x: x[1], reverse=True)[:10]:\n",
    "        print('{} ({})'.format(vertex['name'], degree), end=', ')\n",
    "    print()\n",
    "\n",
    "print()\n",
    "\n",
    "print('Most dependent packages')\n",
    "for ecos, graph in graphs.items():\n",
    "    print(ecos, ':', end=' ')\n",
    "    for vertex, degree in sorted(zip(graph.vs, graph.outdegree()), key=lambda x: x[1], reverse=True)[:10]:\n",
    "        print('{} ({})'.format(vertex['name'], degree), end=', ')\n",
    "    print()"
   ]
  },
  {
   "cell_type": "markdown",
   "metadata": {},
   "source": [
    "## Connected components"
   ]
  },
  {
   "cell_type": "code",
   "execution_count": 31,
   "metadata": {
    "collapsed": false
   },
   "outputs": [
    {
     "name": "stdout",
     "output_type": "stream",
     "text": [
      "Number of (weakly) connected components by component size\n"
     ]
    },
    {
     "data": {
      "text/html": [
       "<div>\n",
       "<table border=\"1\" class=\"dataframe\">\n",
       "  <thead>\n",
       "    <tr style=\"text-align: right;\">\n",
       "      <th></th>\n",
       "      <th>1</th>\n",
       "      <th>2</th>\n",
       "      <th>3</th>\n",
       "      <th>4</th>\n",
       "      <th>5</th>\n",
       "      <th>6</th>\n",
       "      <th>7</th>\n",
       "      <th>8</th>\n",
       "      <th>9</th>\n",
       "      <th>10</th>\n",
       "      <th>...</th>\n",
       "      <th>27</th>\n",
       "      <th>28</th>\n",
       "      <th>32</th>\n",
       "      <th>35</th>\n",
       "      <th>36</th>\n",
       "      <th>41</th>\n",
       "      <th>106</th>\n",
       "      <th>2126</th>\n",
       "      <th>4349</th>\n",
       "      <th>201593</th>\n",
       "    </tr>\n",
       "  </thead>\n",
       "  <tbody>\n",
       "    <tr>\n",
       "      <th>cran</th>\n",
       "      <td>7119.0</td>\n",
       "      <td>76.0</td>\n",
       "      <td>30.0</td>\n",
       "      <td>8.0</td>\n",
       "      <td>1.0</td>\n",
       "      <td>2.0</td>\n",
       "      <td>2.0</td>\n",
       "      <td>0.0</td>\n",
       "      <td>2.0</td>\n",
       "      <td>0.0</td>\n",
       "      <td>...</td>\n",
       "      <td>0.0</td>\n",
       "      <td>0.0</td>\n",
       "      <td>0.0</td>\n",
       "      <td>0.0</td>\n",
       "      <td>0.0</td>\n",
       "      <td>0.0</td>\n",
       "      <td>0.0</td>\n",
       "      <td>1.0</td>\n",
       "      <td>0.0</td>\n",
       "      <td>0.0</td>\n",
       "    </tr>\n",
       "    <tr>\n",
       "      <th>npm</th>\n",
       "      <td>109810.0</td>\n",
       "      <td>1486.0</td>\n",
       "      <td>296.0</td>\n",
       "      <td>119.0</td>\n",
       "      <td>40.0</td>\n",
       "      <td>32.0</td>\n",
       "      <td>9.0</td>\n",
       "      <td>11.0</td>\n",
       "      <td>11.0</td>\n",
       "      <td>1.0</td>\n",
       "      <td>...</td>\n",
       "      <td>1.0</td>\n",
       "      <td>2.0</td>\n",
       "      <td>1.0</td>\n",
       "      <td>1.0</td>\n",
       "      <td>1.0</td>\n",
       "      <td>1.0</td>\n",
       "      <td>1.0</td>\n",
       "      <td>0.0</td>\n",
       "      <td>0.0</td>\n",
       "      <td>1.0</td>\n",
       "    </tr>\n",
       "    <tr>\n",
       "      <th>pypi</th>\n",
       "      <td>77349.0</td>\n",
       "      <td>140.0</td>\n",
       "      <td>17.0</td>\n",
       "      <td>4.0</td>\n",
       "      <td>3.0</td>\n",
       "      <td>3.0</td>\n",
       "      <td>1.0</td>\n",
       "      <td>2.0</td>\n",
       "      <td>1.0</td>\n",
       "      <td>0.0</td>\n",
       "      <td>...</td>\n",
       "      <td>0.0</td>\n",
       "      <td>0.0</td>\n",
       "      <td>0.0</td>\n",
       "      <td>0.0</td>\n",
       "      <td>0.0</td>\n",
       "      <td>0.0</td>\n",
       "      <td>0.0</td>\n",
       "      <td>0.0</td>\n",
       "      <td>1.0</td>\n",
       "      <td>0.0</td>\n",
       "    </tr>\n",
       "  </tbody>\n",
       "</table>\n",
       "<p>3 rows × 32 columns</p>\n",
       "</div>"
      ],
      "text/plain": [
       "        1       2       3       4       5       6       7       8       \\\n",
       "cran    7119.0    76.0    30.0     8.0     1.0     2.0     2.0     0.0   \n",
       "npm   109810.0  1486.0   296.0   119.0    40.0    32.0     9.0    11.0   \n",
       "pypi   77349.0   140.0    17.0     4.0     3.0     3.0     1.0     2.0   \n",
       "\n",
       "      9       10       ...    27      28      32      35      36      41      \\\n",
       "cran     2.0     0.0   ...       0.0     0.0     0.0     0.0     0.0     0.0   \n",
       "npm     11.0     1.0   ...       1.0     2.0     1.0     1.0     1.0     1.0   \n",
       "pypi     1.0     0.0   ...       0.0     0.0     0.0     0.0     0.0     0.0   \n",
       "\n",
       "      106     2126    4349    201593  \n",
       "cran     0.0     1.0     0.0     0.0  \n",
       "npm      1.0     0.0     0.0     1.0  \n",
       "pypi     0.0     0.0     1.0     0.0  \n",
       "\n",
       "[3 rows x 32 columns]"
      ]
     },
     "execution_count": 31,
     "metadata": {},
     "output_type": "execute_result"
    }
   ],
   "source": [
    "data = {ecos: {} for ecos in graphs.keys()}\n",
    "for ecos, graph in graphs.items():\n",
    "    for component, size in Counter(len(component) for component in graph.components(mode=igraph.WEAK)).items():\n",
    "        data[ecos][component] = size\n",
    "df = pandas.DataFrame.from_dict(data)\n",
    "print('Number of (weakly) connected components by component size')\n",
    "df.T.fillna(0)"
   ]
  },
  {
   "cell_type": "code",
   "execution_count": 32,
   "metadata": {
    "collapsed": false
   },
   "outputs": [
    {
     "data": {
      "text/plain": [
       "(0.85850581076176424, 1000000.0)"
      ]
     },
     "execution_count": 32,
     "metadata": {},
     "output_type": "execute_result"
    },
    {
     "data": {
      "image/png": "[encoded data removed]",
      "text/plain": [
       "<matplotlib.figure.Figure at 0x7f528571e978>"
      ]
     },
     "metadata": {},
     "output_type": "display_data"
    }
   ],
   "source": [
    "d = df.reset_index().rename(columns={'index': 'component'})\n",
    "d = pandas.melt(d, id_vars='component', value_vars=['cran', 'npm', 'pypi'], var_name='ecosystem', value_name='size').dropna()\n",
    "\n",
    "ax = None\n",
    "for i, ecos in enumerate(graphs.keys()):\n",
    "    kwargs = {\n",
    "        'x': 'component', \n",
    "        'y': 'size',\n",
    "        'label': ecos,\n",
    "        'logx': True,\n",
    "        'logy': True,\n",
    "        's': 30,\n",
    "        'color': COLORS[ecos]\n",
    "    }\n",
    "    if ax:\n",
    "        kwargs['ax'] = ax\n",
    "        \n",
    "    ax = d.query('ecosystem == \"{}\"'.format(ecos)).plot.scatter(**kwargs)\n",
    "ax.set_xlabel('Size of the component')\n",
    "ax.set_ylabel('Number of components')\n",
    "ax.set_title('Number of (weakly) connected components by component size')\n",
    "ax.set_xlim(left=0)\n",
    "ax.set_ylim(bottom=0)"
   ]
  },
  {
   "cell_type": "code",
   "execution_count": 33,
   "metadata": {
    "collapsed": false
   },
   "outputs": [
    {
     "name": "stderr",
     "output_type": "stream",
     "text": [
      "cran: 100%|██████████| 7241/7241 [00:00<00:00, 9813.29it/s]\n",
      "pypi: 100%|██████████| 77522/77522 [00:12<00:00, 6399.61it/s]\n",
      "npm: 100%|██████████| 111852/111852 [00:52<00:00, 2111.33it/s]\n"
     ]
    }
   ],
   "source": [
    "data = []\n",
    "for ecos, graph in graphs.items():\n",
    "    clusters = graph.clusters(mode=igraph.WEAK)\n",
    "    \n",
    "    for component in tqdm.tqdm(clusters, desc=ecos):\n",
    "        subgraph = graph.subgraph(component)\n",
    "        n = subgraph.vcount()\n",
    "        \n",
    "        if 1 < n < 200000:\n",
    "            n_paths = 0\n",
    "            sum_paths = 0\n",
    "            for paths in subgraph.shortest_paths_dijkstra(mode=igraph.ALL):\n",
    "                n_paths += len(paths)\n",
    "                sum_paths += sum(paths)\n",
    "            \n",
    "            data.append((ecos, n, sum_paths / n_paths))\n",
    "\n",
    "# NPM's largest component was ignored during the computation here above\n",
    "# because it takes a while to compute its aspl. The result was previously \n",
    "# computed, and is now hard-coded here:\n",
    "data.append(('npm', 201593, 4.1))            "
   ]
  },
  {
   "cell_type": "code",
   "execution_count": 34,
   "metadata": {
    "collapsed": false
   },
   "outputs": [
    {
     "data": {
      "text/html": [
       "<div>\n",
       "<table border=\"1\" class=\"dataframe\">\n",
       "  <thead>\n",
       "    <tr style=\"text-align: right;\">\n",
       "      <th></th>\n",
       "      <th>ecosystem</th>\n",
       "      <th>component</th>\n",
       "      <th>aspl</th>\n",
       "    </tr>\n",
       "  </thead>\n",
       "  <tbody>\n",
       "    <tr>\n",
       "      <th>0</th>\n",
       "      <td>cran</td>\n",
       "      <td>2126</td>\n",
       "      <td>4.769485</td>\n",
       "    </tr>\n",
       "    <tr>\n",
       "      <th>59</th>\n",
       "      <td>cran</td>\n",
       "      <td>9</td>\n",
       "      <td>2.098765</td>\n",
       "    </tr>\n",
       "    <tr>\n",
       "      <th>64</th>\n",
       "      <td>cran</td>\n",
       "      <td>9</td>\n",
       "      <td>1.950617</td>\n",
       "    </tr>\n",
       "    <tr>\n",
       "      <th>28</th>\n",
       "      <td>cran</td>\n",
       "      <td>7</td>\n",
       "      <td>1.795918</td>\n",
       "    </tr>\n",
       "    <tr>\n",
       "      <th>42</th>\n",
       "      <td>cran</td>\n",
       "      <td>7</td>\n",
       "      <td>1.224490</td>\n",
       "    </tr>\n",
       "    <tr>\n",
       "      <th>2336</th>\n",
       "      <td>npm</td>\n",
       "      <td>201593</td>\n",
       "      <td>4.100000</td>\n",
       "    </tr>\n",
       "    <tr>\n",
       "      <th>904</th>\n",
       "      <td>npm</td>\n",
       "      <td>106</td>\n",
       "      <td>2.580100</td>\n",
       "    </tr>\n",
       "    <tr>\n",
       "      <th>1039</th>\n",
       "      <td>npm</td>\n",
       "      <td>41</td>\n",
       "      <td>2.057109</td>\n",
       "    </tr>\n",
       "    <tr>\n",
       "      <th>1893</th>\n",
       "      <td>npm</td>\n",
       "      <td>36</td>\n",
       "      <td>2.155864</td>\n",
       "    </tr>\n",
       "    <tr>\n",
       "      <th>1263</th>\n",
       "      <td>npm</td>\n",
       "      <td>35</td>\n",
       "      <td>2.894694</td>\n",
       "    </tr>\n",
       "    <tr>\n",
       "      <th>122</th>\n",
       "      <td>pypi</td>\n",
       "      <td>4349</td>\n",
       "      <td>4.522041</td>\n",
       "    </tr>\n",
       "    <tr>\n",
       "      <th>246</th>\n",
       "      <td>pypi</td>\n",
       "      <td>24</td>\n",
       "      <td>1.909722</td>\n",
       "    </tr>\n",
       "    <tr>\n",
       "      <th>134</th>\n",
       "      <td>pypi</td>\n",
       "      <td>9</td>\n",
       "      <td>2.172840</td>\n",
       "    </tr>\n",
       "    <tr>\n",
       "      <th>125</th>\n",
       "      <td>pypi</td>\n",
       "      <td>8</td>\n",
       "      <td>1.875000</td>\n",
       "    </tr>\n",
       "    <tr>\n",
       "      <th>260</th>\n",
       "      <td>pypi</td>\n",
       "      <td>8</td>\n",
       "      <td>1.687500</td>\n",
       "    </tr>\n",
       "  </tbody>\n",
       "</table>\n",
       "</div>"
      ],
      "text/plain": [
       "     ecosystem  component      aspl\n",
       "0         cran       2126  4.769485\n",
       "59        cran          9  2.098765\n",
       "64        cran          9  1.950617\n",
       "28        cran          7  1.795918\n",
       "42        cran          7  1.224490\n",
       "2336       npm     201593  4.100000\n",
       "904        npm        106  2.580100\n",
       "1039       npm         41  2.057109\n",
       "1893       npm         36  2.155864\n",
       "1263       npm         35  2.894694\n",
       "122       pypi       4349  4.522041\n",
       "246       pypi         24  1.909722\n",
       "134       pypi          9  2.172840\n",
       "125       pypi          8  1.875000\n",
       "260       pypi          8  1.687500"
      ]
     },
     "execution_count": 34,
     "metadata": {},
     "output_type": "execute_result"
    }
   ],
   "source": [
    "df = pandas.DataFrame.from_records(data, columns=['ecosystem', 'component', 'aspl'])\n",
    "df.sort_values('component', ascending=False).groupby('ecosystem').head(5).sort_values('ecosystem')"
   ]
  },
  {
   "cell_type": "markdown",
   "metadata": {
    "collapsed": false
   },
   "source": [
    "ax = seaborn.stripplot('ecosystem', 'aspl', data=df, jitter=0.3, \n",
    "                      order=COLORS.keys(), palette=list(COLORS.values()))\n",
    "ax.set_title('Average shortest path length for each\\nweakly connected component (size > 1)')"
   ]
  },
  {
   "cell_type": "markdown",
   "metadata": {},
   "source": [
    "## Hubs and Authorities"
   ]
  },
  {
   "cell_type": "code",
   "execution_count": 35,
   "metadata": {
    "collapsed": false
   },
   "outputs": [
    {
     "data": {
      "image/png": "[encoded data removed]",
      "text/plain": [
       "<matplotlib.figure.Figure at 0x7f5279c95550>"
      ]
     },
     "metadata": {},
     "output_type": "display_data"
    },
    {
     "data": {
      "image/png": "[encoded data removed]",
      "text/plain": [
       "<matplotlib.figure.Figure at 0x7f5278f45518>"
      ]
     },
     "metadata": {},
     "output_type": "display_data"
    }
   ],
   "source": [
    "fig_hubs, ax_hubs = matplotlib.pyplot.subplots(ncols=3, sharey=True)\n",
    "fig_hubs.set_size_inches((12, 3))\n",
    "\n",
    "fig_auth, ax_authorities = matplotlib.pyplot.subplots(ncols=3)\n",
    "fig_auth.set_size_inches((12, 3))\n",
    "\n",
    "for i, (ecos, graph) in enumerate(graphs.items()):\n",
    "    hubs, authorities = graph.hub_score(), graph.authority_score()\n",
    "    hubs, authorities = pandas.Series(hubs), pandas.Series(authorities)\n",
    "    hubs.plot.hist(label=ecos, ax=ax_hubs[i], bins=25, logy=True, color=COLORS[ecos])\n",
    "    authorities.plot.hist(label=ecos, ax=ax_authorities[i], bins=25, logy=True, color=COLORS[ecos])\n",
    "    ax_hubs[i].set_title('Hubs for {}'.format(ecos))\n",
    "    ax_authorities[i].set_title('Authorities for {}'.format(ecos))"
   ]
  },
  {
   "cell_type": "markdown",
   "metadata": {},
   "source": [
    "## Pagerank"
   ]
  },
  {
   "cell_type": "code",
   "execution_count": 36,
   "metadata": {
    "collapsed": false
   },
   "outputs": [
    {
     "data": {
      "image/png": "[encoded data removed]",
      "text/plain": [
       "<matplotlib.figure.Figure at 0x7f5278b4ff28>"
      ]
     },
     "metadata": {},
     "output_type": "display_data"
    }
   ],
   "source": [
    "fig, axes = matplotlib.pyplot.subplots(ncols=3, sharey=True)\n",
    "fig.set_size_inches((12, 4))\n",
    "\n",
    "for i, (ecos, graph) in enumerate(graphs.items()):\n",
    "    pagerank = graph.pagerank()\n",
    "    pandas.Series(pagerank).plot.hist(label=ecos, ax=axes[i], bins=25, logy=True, color=COLORS[ecos])\n",
    "    axes[i].set_title(ecos)\n",
    "    axes[i].set_xlabel('Pagerank value')"
   ]
  }
 ],
 "metadata": {
  "kernelspec": {
   "display_name": "Python 3",
   "language": "python",
   "name": "python3"
  },
  "language_info": {
   "codemirror_mode": {
    "name": "ipython",
    "version": 3
   },
   "file_extension": ".py",
   "mimetype": "text/x-python",
   "name": "python",
   "nbconvert_exporter": "python",
   "pygments_lexer": "ipython3",
   "version": "3.5.1"
  },
  "widgets": {
   "state": {
    "025d00d76ccc48809ee1c4aed7d5a3cf": {
     "views": [
      {
       "cell_index": 13
      }
     ]
    },
    "07ddc3b317c246d09aa6e82c5b22365b": {
     "views": [
      {
       "cell_index": 13
      }
     ]
    },
    "15902254bdef4d9ab5a322d994bfd0e9": {
     "views": [
      {
       "cell_index": 13
      }
     ]
    },
    "185c5729113b45feb950f12e4048a933": {
     "views": [
      {
       "cell_index": 13
      }
     ]
    },
    "1c0a35d197104cda99afcb8e0bfd119c": {
     "views": [
      {
       "cell_index": 13
      }
     ]
    },
    "228ee06b9d814b5bbe74edb76c4538f0": {
     "views": [
      {
       "cell_index": 13
      }
     ]
    },
    "241ec37bc730438d9c549115f920b880": {
     "views": [
      {
       "cell_index": 13
      }
     ]
    },
    "30d1f0d528704b0eb5ec6d62ae448098": {
     "views": [
      {
       "cell_index": 13
      }
     ]
    },
    "3283afd4618d47e9b81b4ac787607a3f": {
     "views": [
      {
       "cell_index": 13
      }
     ]
    },
    "3a0e299c3d4d40f3b26ee2bebfa10fa5": {
     "views": [
      {
       "cell_index": 13
      }
     ]
    },
    "400bef6273084c35a066f92eb3b96708": {
     "views": [
      {
       "cell_index": 13
      }
     ]
    },
    "42bd5caf109243a692c495460b9eab4e": {
     "views": [
      {
       "cell_index": 13
      }
     ]
    },
    "46eac4b0b6414795a4a30465d85e8515": {
     "views": [
      {
       "cell_index": 13
      }
     ]
    },
    "4889124273684bb593e1001e363693f5": {
     "views": [
      {
       "cell_index": 13
      }
     ]
    },
    "4d2952462bca4c9f9b295c2415cee4dd": {
     "views": [
      {
       "cell_index": 13
      }
     ]
    },
    "4d4f6cf26ee74dffb0380f2b9c89e192": {
     "views": [
      {
       "cell_index": 13
      }
     ]
    },
    "52fe66cc117e43b89951e9c9264c23ec": {
     "views": [
      {
       "cell_index": 13
      }
     ]
    },
    "57b07898ce034260bcb13a383624d09c": {
     "views": [
      {
       "cell_index": 13
      }
     ]
    },
    "589f0e8141d740eab1dacdc6a8537478": {
     "views": [
      {
       "cell_index": 13
      }
     ]
    },
    "5d5cca7ee2b34019bac86f6891cfefd5": {
     "views": [
      {
       "cell_index": 13
      }
     ]
    },
    "5e4f2fab2d6344dab330cd9a24ecb951": {
     "views": [
      {
       "cell_index": 13
      }
     ]
    },
    "6093c25c646d483a89e2667214cec1dc": {
     "views": [
      {
       "cell_index": 13
      }
     ]
    },
    "61aeeb7353ed4aac81544d0e9df693bf": {
     "views": [
      {
       "cell_index": 13
      }
     ]
    },
    "65a63bf4757a4fe6ae15558b388bfd70": {
     "views": [
      {
       "cell_index": 13
      }
     ]
    },
    "669d13d1fee84c98a0fb3ce4e2b5d368": {
     "views": [
      {
       "cell_index": 13
      }
     ]
    },
    "6a44be3cc5fb4acc91a859c76be1eba6": {
     "views": [
      {
       "cell_index": 13
      }
     ]
    },
    "6ae98a9231124547b19576252c367e99": {
     "views": [
      {
       "cell_index": 13
      }
     ]
    },
    "76e90f0c16f74ba2957bf3b4c00c401e": {
     "views": [
      {
       "cell_index": 13
      }
     ]
    },
    "78ec9323504143f7899a4c08c5a4edbe": {
     "views": [
      {
       "cell_index": 13
      }
     ]
    },
    "78ffcf9862834a2baf0cc032be0fbc5c": {
     "views": [
      {
       "cell_index": 14
      }
     ]
    },
    "7a032c7e2b444dcfa3e8e94a34e5418a": {
     "views": [
      {
       "cell_index": 13
      }
     ]
    },
    "7ef7f809385a4e15b593d177eda93c90": {
     "views": [
      {
       "cell_index": 13
      }
     ]
    },
    "82fc0ad19ee94f46acd5566a004df9d0": {
     "views": [
      {
       "cell_index": 14
      }
     ]
    },
    "87cfa37a33ca4b86bb8dc8c33920b67c": {
     "views": [
      {
       "cell_index": 13
      }
     ]
    },
    "909be5bb19aa41189ecdcbb8c2619313": {
     "views": [
      {
       "cell_index": 13
      }
     ]
    },
    "968d49f0705b48d3a600a63cf47c5d28": {
     "views": [
      {
       "cell_index": 13
      }
     ]
    },
    "978f3aacfebc4933a7fa6a1c269c19fd": {
     "views": [
      {
       "cell_index": 13
      }
     ]
    },
    "9f6056e3cff44a9ebb8dc42ff357bc39": {
     "views": [
      {
       "cell_index": 13
      }
     ]
    },
    "a074a0eca14b44bf879e761fa9781ffc": {
     "views": [
      {
       "cell_index": 13
      }
     ]
    },
    "a0cfd1d3ce3149ea91c407954061c4b1": {
     "views": [
      {
       "cell_index": 13
      }
     ]
    },
    "adc6dc5ce9e74cc6bf837b2f4d835504": {
     "views": [
      {
       "cell_index": 13
      }
     ]
    },
    "ae4f5adca2a34660b0ad17e0e129384a": {
     "views": [
      {
       "cell_index": 13
      }
     ]
    },
    "afd8099c1b274fc2b38e06925e3422e6": {
     "views": [
      {
       "cell_index": 13
      }
     ]
    },
    "bc943fe449d440e9b881fefbf91b9127": {
     "views": [
      {
       "cell_index": 13
      }
     ]
    },
    "c0b6cb1105ee4dd3b7d388881a8664f3": {
     "views": [
      {
       "cell_index": 14
      }
     ]
    },
    "c2fea14866d740f6b10860a83e3fcc14": {
     "views": [
      {
       "cell_index": 13
      }
     ]
    },
    "c9c567e6b05e4e6ca6ac132a423741c3": {
     "views": [
      {
       "cell_index": 13
      }
     ]
    },
    "cf499b29a86048258664105aed738ee4": {
     "views": [
      {
       "cell_index": 13
      }
     ]
    },
    "d1528c3cfd6b495bb2a1183588db1ac2": {
     "views": [
      {
       "cell_index": 13
      }
     ]
    },
    "d41eb8cc401740e083d430213b188b32": {
     "views": [
      {
       "cell_index": 13
      }
     ]
    },
    "d64ae85dfe4f451ab4e2a93d02f1b2f7": {
     "views": [
      {
       "cell_index": 13
      }
     ]
    },
    "d723c29493ba4bd6aae0981fb9a8d527": {
     "views": [
      {
       "cell_index": 13
      }
     ]
    },
    "d83bae0bbc974556aae015fbafc09fab": {
     "views": [
      {
       "cell_index": 13
      }
     ]
    },
    "daa91270b0914ba3936ec97149abfac6": {
     "views": [
      {
       "cell_index": 13
      }
     ]
    },
    "ddff37919a544c289e0f77d9fac6a9e6": {
     "views": [
      {
       "cell_index": 13
      }
     ]
    },
    "e604765d57e541028ced6ea0915403aa": {
     "views": [
      {
       "cell_index": 13
      }
     ]
    },
    "e777c49ea6294dfba5cde649ac0a5ed6": {
     "views": [
      {
       "cell_index": 13
      }
     ]
    },
    "e83c7cda723c4d1b9bdcb979c143f3fc": {
     "views": [
      {
       "cell_index": 13
      }
     ]
    },
    "eefeb014c30a49eb8e9bbae4177aaca9": {
     "views": [
      {
       "cell_index": 13
      }
     ]
    },
    "ef170fe208864b5689cbb5eeb8648115": {
     "views": [
      {
       "cell_index": 13
      }
     ]
    },
    "f2c6b460674046a189440f1fe1bd7e57": {
     "views": [
      {
       "cell_index": 13
      }
     ]
    },
    "f6b769705f274d2dace4cb8c53639baf": {
     "views": [
      {
       "cell_index": 13
      }
     ]
    },
    "fa6b52e50653448faf588a9cdbf192a9": {
     "views": [
      {
       "cell_index": 13
      }
     ]
    }
   },
   "version": "1.2.0"
  }
 },
 "nbformat": 4,
 "nbformat_minor": 1
}
