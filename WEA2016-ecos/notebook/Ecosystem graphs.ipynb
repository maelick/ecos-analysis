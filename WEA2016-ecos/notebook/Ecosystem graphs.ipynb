{
 "cells": [
  {
   "cell_type": "code",
   "execution_count": 19,
   "metadata": {
    "collapsed": false
   },
   "outputs": [],
   "source": [
    "import matplotlib\n",
    "import seaborn\n",
    "import pandas\n",
    "import networkx\n",
    "import tqdm\n",
    "import gzip\n",
    "\n",
    "from collections import Counter\n",
    "\n",
    "%matplotlib inline"
   ]
  },
  {
   "cell_type": "code",
   "execution_count": 20,
   "metadata": {
    "collapsed": false
   },
   "outputs": [],
   "source": [
    "ecosystems = ['pypi', 'npm', 'cran']\n",
    "\n",
    "COLORS = {ecos: seaborn.color_palette()[i] for i, ecos in enumerate(ecosystems)}"
   ]
  },
  {
   "cell_type": "code",
   "execution_count": 3,
   "metadata": {
    "collapsed": false
   },
   "outputs": [],
   "source": [
    "graphs = {}\n",
    "\n",
    "for ecos in ecosystems:\n",
    "    with gzip.GzipFile('../../{}/data/packages.csv.gz'.format(ecos)) as f:\n",
    "        packages = pandas.read_csv(f, index_col=[0,1])\n",
    "    with gzip.GzipFile('../../{}/data/deps.csv.gz'.format(ecos)) as f:\n",
    "        deps = pandas.read_csv(f)\n",
    "\n",
    "    # Take latest version of each packages\n",
    "    packages = packages.sort_values('time').groupby(level=0, sort=False).tail(1)\n",
    "    deps = packages.merge(deps, how='inner', left_index=True, right_on=['package', 'version']).dropna()\n",
    "\n",
    "    # Filter dependencies that are not registered packages\n",
    "    deps = packages.reset_index().merge(deps, how='inner', left_on='package', right_on='dependency', suffixes=('_2', ''))\n",
    "    \n",
    "    # Construct graph\n",
    "    graph = networkx.DiGraph()\n",
    "    graph.add_nodes_from(packages.index.get_level_values('package'))\n",
    "    edges = ((row.package, row.dependency) for row in deps[['package', 'dependency']].itertuples())\n",
    "    graph.add_edges_from(edges)\n",
    "    \n",
    "    graphs[ecos] = graph"
   ]
  },
  {
   "cell_type": "markdown",
   "metadata": {},
   "source": [
    "## Packages and Dependencies"
   ]
  },
  {
   "cell_type": "code",
   "execution_count": 4,
   "metadata": {
    "collapsed": false
   },
   "outputs": [
    {
     "data": {
      "text/html": [
       "<div>\n",
       "<table border=\"1\" class=\"dataframe\">\n",
       "  <thead>\n",
       "    <tr style=\"text-align: right;\">\n",
       "      <th></th>\n",
       "      <th>pkg_isolated</th>\n",
       "      <th>pkg_with_deps</th>\n",
       "      <th>pkg_non_isolated</th>\n",
       "      <th>pkg_with_rev_deps</th>\n",
       "      <th>packages</th>\n",
       "      <th>dependencies</th>\n",
       "    </tr>\n",
       "  </thead>\n",
       "  <tbody>\n",
       "    <tr>\n",
       "      <th>cran</th>\n",
       "      <td>7119</td>\n",
       "      <td>1921</td>\n",
       "      <td>2449</td>\n",
       "      <td>872</td>\n",
       "      <td>9568</td>\n",
       "      <td>3770</td>\n",
       "    </tr>\n",
       "    <tr>\n",
       "      <th>npm</th>\n",
       "      <td>109796</td>\n",
       "      <td>185228</td>\n",
       "      <td>207364</td>\n",
       "      <td>66129</td>\n",
       "      <td>317160</td>\n",
       "      <td>725450</td>\n",
       "    </tr>\n",
       "    <tr>\n",
       "      <th>pypi</th>\n",
       "      <td>77349</td>\n",
       "      <td>3344</td>\n",
       "      <td>4785</td>\n",
       "      <td>1739</td>\n",
       "      <td>82134</td>\n",
       "      <td>9214</td>\n",
       "    </tr>\n",
       "  </tbody>\n",
       "</table>\n",
       "</div>"
      ],
      "text/plain": [
       "      pkg_isolated  pkg_with_deps  pkg_non_isolated  pkg_with_rev_deps  \\\n",
       "cran          7119           1921              2449                872   \n",
       "npm         109796         185228            207364              66129   \n",
       "pypi         77349           3344              4785               1739   \n",
       "\n",
       "      packages  dependencies  \n",
       "cran      9568          3770  \n",
       "npm     317160        725450  \n",
       "pypi     82134          9214  "
      ]
     },
     "execution_count": 4,
     "metadata": {},
     "output_type": "execute_result"
    }
   ],
   "source": [
    "data = {ecos: {} for ecos in graphs.keys()}\n",
    "for ecos, graph in graphs.items():\n",
    "    data[ecos]['packages'] = graph.order()\n",
    "    data[ecos]['dependencies'] = graph.size()\n",
    "    data[ecos]['pkg_with_deps'] = len([n for n, d in graph.out_degree_iter() if d > 0])\n",
    "    data[ecos]['pkg_with_rev_deps'] = len([n for n, d in graph.in_degree_iter() if d > 0])\n",
    "    data[ecos]['pkg_non_isolated'] = len([True for n, d in graph.degree_iter() if d > 0])\n",
    "    data[ecos]['pkg_isolated'] = len([True for n, d in graph.degree_iter() if d == 0])\n",
    "df = pandas.DataFrame.from_dict(data, orient='index')\n",
    "df"
   ]
  },
  {
   "cell_type": "code",
   "execution_count": 5,
   "metadata": {
    "collapsed": false
   },
   "outputs": [
    {
     "data": {
      "text/plain": [
       "<matplotlib.axes._subplots.AxesSubplot at 0x7f90844f51d0>"
      ]
     },
     "execution_count": 5,
     "metadata": {},
     "output_type": "execute_result"
    },
    {
     "data": {
      "image/png": "[encoded data removed]",
      "text/plain": [
       "<matplotlib.figure.Figure at 0x7f90844f5358>"
      ]
     },
     "metadata": {},
     "output_type": "display_data"
    }
   ],
   "source": [
    "df['with_deps'] = df['pkg_with_deps'] / df['packages']\n",
    "df['with_rev_deps'] = df['pkg_with_rev_deps'] / df['packages']\n",
    "df['isolated'] = df['pkg_isolated'] / df['packages']\n",
    "df[['with_deps', 'with_rev_deps', 'isolated']].plot.bar(title='Proportion of packages', color=seaborn.color_palette()[3:])"
   ]
  },
  {
   "cell_type": "code",
   "execution_count": 6,
   "metadata": {
    "collapsed": false
   },
   "outputs": [
    {
     "data": {
      "text/plain": [
       "<matplotlib.text.Text at 0x7f9082141978>"
      ]
     },
     "execution_count": 6,
     "metadata": {},
     "output_type": "execute_result"
    },
    {
     "data": {
      "image/png": "[encoded data removed]",
      "text/plain": [
       "<matplotlib.figure.Figure at 0x7f9082470908>"
      ]
     },
     "metadata": {},
     "output_type": "display_data"
    },
    {
     "data": {
      "image/png": "[encoded data removed]",
      "text/plain": [
       "<matplotlib.figure.Figure at 0x7f90811607b8>"
      ]
     },
     "metadata": {},
     "output_type": "display_data"
    }
   ],
   "source": [
    "data_in = []\n",
    "data_in_p = []\n",
    "data_out = []\n",
    "data_out_p = []\n",
    "\n",
    "for ecos, graph in graphs.items():\n",
    "    n = graph.order()\n",
    "    for package, d in graph.out_degree_iter():\n",
    "        if d > 0:\n",
    "            data_out.append((ecos, d))\n",
    "            data_out_p.append((ecos, 100 * d / n))\n",
    "            \n",
    "    for package, d in graph.in_degree_iter():\n",
    "        if d > 0:\n",
    "            data_in.append((ecos, d))\n",
    "            data_in_p.append((ecos, 100 * d / n))\n",
    "\n",
    "fig, axes = matplotlib.pyplot.subplots(ncols=2, sharey=True, sharex=True)            \n",
    "fig.suptitle('Distribution of the number of (reverse) dependencies')\n",
    "\n",
    "ax = seaborn.boxplot(0, 1, data=pandas.DataFrame.from_records(data_out), ax=axes[0])\n",
    "ax.set_ylim(0, 10)\n",
    "ax.set_xlabel('')\n",
    "ax.set_ylabel('# deps')\n",
    "ax.set_title('Dependencies (non-zero)')\n",
    "\n",
    "ax = seaborn.boxplot(0, 1, data=pandas.DataFrame.from_records(data_in), ax=axes[1])\n",
    "ax.set_ylim(0, 10)\n",
    "ax.set_xlabel('')\n",
    "ax.set_ylabel('# rev deps')\n",
    "ax.set_title('Reverse dependencies (non-zero)')\n",
    "\n",
    "\n",
    "fig, axes = matplotlib.pyplot.subplots(ncols=2, sharey=True, sharex=True)            \n",
    "fig.suptitle('Distribution of the proportion of (reverse) dependencies wrt. total packages')\n",
    "\n",
    "ax = seaborn.boxplot(0, 1, data=pandas.DataFrame.from_records(data_out_p), ax=axes[0])\n",
    "ax.set_ylim(0, 0.05)\n",
    "ax.set_xlabel('')\n",
    "ax.set_ylabel('%')\n",
    "ax.set_title('Dependencies (non-zero)')\n",
    "\n",
    "ax = seaborn.boxplot(0, 1, data=pandas.DataFrame.from_records(data_in_p), ax=axes[1])\n",
    "ax.set_ylim(0, 0.05)\n",
    "ax.set_xlabel('')\n",
    "ax.set_ylabel('%')\n",
    "ax.set_title('Reverse dependencies (non-zero)')"
   ]
  },
  {
   "cell_type": "code",
   "execution_count": 7,
   "metadata": {
    "collapsed": false
   },
   "outputs": [
    {
     "name": "stdout",
     "output_type": "stream",
     "text": [
      "Most required packages\n",
      "cran : Rcpp (468), ggplot2 (126), httr (84), dplyr (74), rJava (62), Matrix (55), stringr (51), data.table (49), jsonlite (43), plyr (42), \n",
      "npm : lodash (23306), request (14571), async (14089), underscore (11976), commander (9409), express (9365), chalk (8964), debug (8463), bluebird (7261), mkdirp (6326), \n",
      "pypi : requests (588), numpy (517), six (432), scipy (219), pytest (184), matplotlib (175), coverage (172), lxml (136), click (129), setuptools (104), \n",
      "\n",
      "Most dependent packages\n",
      "cran : radiant (19), AFM (18), SSDM (15), btergm (14), SurvRank (13), Luminescence (13), toaster (13), hyfo (12), spocc (12), CorReg (11), \n",
      "npm : mikolalysenko-hoarders (389), terrible-lodash (309), smasher (130), lodash-modularized (129), compute.io (122), bb-lp-cli (115), brainfock (114), smashing-dev-tool (114), cordova-plugin-require-bluetoothle (112), files-and-folders-server (110), \n",
      "pypi : onegov.core (35), mitmproxy (35), gnocchi (34), wheresyourtrash (30), socorrolib (30), invenio-ext (29), riko (28), cameo (27), stackdio-server (27), cord (26), \n"
     ]
    }
   ],
   "source": [
    "print('Most required packages')\n",
    "for ecos, graph in graphs.items():\n",
    "    print(ecos, ':', end=' ')\n",
    "    for package, degree in sorted(graph.in_degree_iter(), key=lambda x: x[1], reverse=True)[:10]:\n",
    "        print('{} ({})'.format(package, degree), end=', ')\n",
    "    print()\n",
    "\n",
    "print()\n",
    "\n",
    "print('Most dependent packages')\n",
    "for ecos, graph in graphs.items():\n",
    "    print(ecos, ':', end=' ')\n",
    "    for package, degree in sorted(graph.out_degree_iter(), key=lambda x: x[1], reverse=True)[:10]:\n",
    "        print('{} ({})'.format(package, degree), end=', ')\n",
    "    print()    "
   ]
  },
  {
   "cell_type": "markdown",
   "metadata": {},
   "source": [
    "## Connected components"
   ]
  },
  {
   "cell_type": "code",
   "execution_count": 8,
   "metadata": {
    "collapsed": false
   },
   "outputs": [
    {
     "name": "stdout",
     "output_type": "stream",
     "text": [
      "Number of (weakly) connected components by component size\n"
     ]
    },
    {
     "data": {
      "text/html": [
       "<div>\n",
       "<table border=\"1\" class=\"dataframe\">\n",
       "  <thead>\n",
       "    <tr style=\"text-align: right;\">\n",
       "      <th></th>\n",
       "      <th>1</th>\n",
       "      <th>2</th>\n",
       "      <th>3</th>\n",
       "      <th>4</th>\n",
       "      <th>5</th>\n",
       "      <th>6</th>\n",
       "      <th>7</th>\n",
       "      <th>8</th>\n",
       "      <th>9</th>\n",
       "      <th>10</th>\n",
       "      <th>...</th>\n",
       "      <th>27</th>\n",
       "      <th>28</th>\n",
       "      <th>32</th>\n",
       "      <th>35</th>\n",
       "      <th>36</th>\n",
       "      <th>41</th>\n",
       "      <th>106</th>\n",
       "      <th>2126</th>\n",
       "      <th>4349</th>\n",
       "      <th>201593</th>\n",
       "    </tr>\n",
       "  </thead>\n",
       "  <tbody>\n",
       "    <tr>\n",
       "      <th>cran</th>\n",
       "      <td>7119.0</td>\n",
       "      <td>76.0</td>\n",
       "      <td>30.0</td>\n",
       "      <td>8.0</td>\n",
       "      <td>1.0</td>\n",
       "      <td>2.0</td>\n",
       "      <td>2.0</td>\n",
       "      <td>0.0</td>\n",
       "      <td>2.0</td>\n",
       "      <td>0.0</td>\n",
       "      <td>...</td>\n",
       "      <td>0.0</td>\n",
       "      <td>0.0</td>\n",
       "      <td>0.0</td>\n",
       "      <td>0.0</td>\n",
       "      <td>0.0</td>\n",
       "      <td>0.0</td>\n",
       "      <td>0.0</td>\n",
       "      <td>1.0</td>\n",
       "      <td>0.0</td>\n",
       "      <td>0.0</td>\n",
       "    </tr>\n",
       "    <tr>\n",
       "      <th>npm</th>\n",
       "      <td>109810.0</td>\n",
       "      <td>1486.0</td>\n",
       "      <td>296.0</td>\n",
       "      <td>119.0</td>\n",
       "      <td>40.0</td>\n",
       "      <td>32.0</td>\n",
       "      <td>9.0</td>\n",
       "      <td>11.0</td>\n",
       "      <td>11.0</td>\n",
       "      <td>1.0</td>\n",
       "      <td>...</td>\n",
       "      <td>1.0</td>\n",
       "      <td>2.0</td>\n",
       "      <td>1.0</td>\n",
       "      <td>1.0</td>\n",
       "      <td>1.0</td>\n",
       "      <td>1.0</td>\n",
       "      <td>1.0</td>\n",
       "      <td>0.0</td>\n",
       "      <td>0.0</td>\n",
       "      <td>1.0</td>\n",
       "    </tr>\n",
       "    <tr>\n",
       "      <th>pypi</th>\n",
       "      <td>77349.0</td>\n",
       "      <td>140.0</td>\n",
       "      <td>17.0</td>\n",
       "      <td>4.0</td>\n",
       "      <td>3.0</td>\n",
       "      <td>3.0</td>\n",
       "      <td>1.0</td>\n",
       "      <td>2.0</td>\n",
       "      <td>1.0</td>\n",
       "      <td>0.0</td>\n",
       "      <td>...</td>\n",
       "      <td>0.0</td>\n",
       "      <td>0.0</td>\n",
       "      <td>0.0</td>\n",
       "      <td>0.0</td>\n",
       "      <td>0.0</td>\n",
       "      <td>0.0</td>\n",
       "      <td>0.0</td>\n",
       "      <td>0.0</td>\n",
       "      <td>1.0</td>\n",
       "      <td>0.0</td>\n",
       "    </tr>\n",
       "  </tbody>\n",
       "</table>\n",
       "<p>3 rows × 32 columns</p>\n",
       "</div>"
      ],
      "text/plain": [
       "        1       2       3       4       5       6       7       8       \\\n",
       "cran    7119.0    76.0    30.0     8.0     1.0     2.0     2.0     0.0   \n",
       "npm   109810.0  1486.0   296.0   119.0    40.0    32.0     9.0    11.0   \n",
       "pypi   77349.0   140.0    17.0     4.0     3.0     3.0     1.0     2.0   \n",
       "\n",
       "      9       10       ...    27      28      32      35      36      41      \\\n",
       "cran     2.0     0.0   ...       0.0     0.0     0.0     0.0     0.0     0.0   \n",
       "npm     11.0     1.0   ...       1.0     2.0     1.0     1.0     1.0     1.0   \n",
       "pypi     1.0     0.0   ...       0.0     0.0     0.0     0.0     0.0     0.0   \n",
       "\n",
       "      106     2126    4349    201593  \n",
       "cran     0.0     1.0     0.0     0.0  \n",
       "npm      1.0     0.0     0.0     1.0  \n",
       "pypi     0.0     0.0     1.0     0.0  \n",
       "\n",
       "[3 rows x 32 columns]"
      ]
     },
     "execution_count": 8,
     "metadata": {},
     "output_type": "execute_result"
    }
   ],
   "source": [
    "data = {ecos: {} for ecos in graphs.keys()}\n",
    "for ecos, graph in graphs.items():\n",
    "    for component, size in Counter(len(component) for component in networkx.weakly_connected_components(graph)).items():\n",
    "        data[ecos][component] = size\n",
    "df = pandas.DataFrame.from_dict(data)\n",
    "print('Number of (weakly) connected components by component size')\n",
    "df.T.fillna(0)"
   ]
  },
  {
   "cell_type": "code",
   "execution_count": 9,
   "metadata": {
    "collapsed": false
   },
   "outputs": [
    {
     "data": {
      "text/plain": [
       "(0.83695179574305245, 1000000.0)"
      ]
     },
     "execution_count": 9,
     "metadata": {},
     "output_type": "execute_result"
    },
    {
     "data": {
      "image/png": "[encoded data removed]",
      "text/plain": [
       "<matplotlib.figure.Figure at 0x7f90c9f0e6d8>"
      ]
     },
     "metadata": {},
     "output_type": "display_data"
    }
   ],
   "source": [
    "d = df.reset_index().rename(columns={'index': 'component'})\n",
    "d = pandas.melt(d, id_vars='component', value_vars=['cran', 'npm', 'pypi'], var_name='ecosystem', value_name='size').dropna()\n",
    "\n",
    "ax = None\n",
    "for i, ecos in enumerate(graphs.keys()):\n",
    "    kwargs = {\n",
    "        'x': 'component', \n",
    "        'y': 'size',\n",
    "        'label': ecos,\n",
    "        'logx': True,\n",
    "        'logy': True,\n",
    "        's': 30,\n",
    "        'color': COLORS[ecos]\n",
    "    }\n",
    "    if ax:\n",
    "        kwargs['ax'] = ax\n",
    "        \n",
    "    ax = d.query('ecosystem == \"{}\"'.format(ecos)).plot.scatter(**kwargs)\n",
    "ax.set_xlabel('Size of the component')\n",
    "ax.set_ylabel('Number of components')\n",
    "ax.set_title('Number of (weakly) connected components by component size')\n",
    "ax.set_xlim(left=0)\n",
    "ax.set_ylim(bottom=0)"
   ]
  },
  {
   "cell_type": "markdown",
   "metadata": {},
   "source": [
    "**Next cell ignores the biggest component of NPM!!**"
   ]
  },
  {
   "cell_type": "code",
   "execution_count": 23,
   "metadata": {
    "collapsed": false
   },
   "outputs": [
    {
     "name": "stdout",
     "output_type": "stream",
     "text": [
      "Dealing with cran\n",
      "Undirected done\n",
      "Components computed\n",
      "Dealing with npm\n",
      "Undirected done\n",
      "Components computed\n",
      "Dealing with pypi\n",
      "Undirected done\n",
      "Components computed\n"
     ]
    }
   ],
   "source": [
    "data = []\n",
    "for ecos, graph in graphs.items():\n",
    "    graph = graph.to_undirected()\n",
    "    components = networkx.connected_components(graph)\n",
    "    for component in filter(lambda c: 200000 > len(c) > 1, components):\n",
    "        subgraph = graph.subgraph(component)\n",
    "        apl = networkx.average_shortest_path_length(subgraph)\n",
    "        data.append((ecos, len(component), apl))"
   ]
  },
  {
   "cell_type": "code",
   "execution_count": 44,
   "metadata": {
    "collapsed": false
   },
   "outputs": [],
   "source": [
    "compute_max_component = False\n",
    "if compute_max_component:\n",
    "    npm = graphs['npm'].to_undirected()\n",
    "    component = max(networkx.connected_components(npm), key=len)\n",
    "    subgraph = npm.subgraph(component)\n",
    "    aspl = networkx.average_shortest_path_length(subgraph)"
   ]
  },
  {
   "cell_type": "code",
   "execution_count": 33,
   "metadata": {
    "collapsed": false
   },
   "outputs": [
    {
     "data": {
      "text/html": [
       "<div>\n",
       "<table border=\"1\" class=\"dataframe\">\n",
       "  <thead>\n",
       "    <tr style=\"text-align: right;\">\n",
       "      <th></th>\n",
       "      <th>ecosystem</th>\n",
       "      <th>component</th>\n",
       "      <th>aspl</th>\n",
       "    </tr>\n",
       "  </thead>\n",
       "  <tbody>\n",
       "    <tr>\n",
       "      <th>0</th>\n",
       "      <td>cran</td>\n",
       "      <td>2126</td>\n",
       "      <td>4.771730</td>\n",
       "    </tr>\n",
       "    <tr>\n",
       "      <th>16</th>\n",
       "      <td>cran</td>\n",
       "      <td>9</td>\n",
       "      <td>2.194444</td>\n",
       "    </tr>\n",
       "    <tr>\n",
       "      <th>12</th>\n",
       "      <td>cran</td>\n",
       "      <td>9</td>\n",
       "      <td>2.361111</td>\n",
       "    </tr>\n",
       "    <tr>\n",
       "      <th>60</th>\n",
       "      <td>cran</td>\n",
       "      <td>7</td>\n",
       "      <td>1.428571</td>\n",
       "    </tr>\n",
       "    <tr>\n",
       "      <th>10</th>\n",
       "      <td>cran</td>\n",
       "      <td>7</td>\n",
       "      <td>2.095238</td>\n",
       "    </tr>\n",
       "    <tr>\n",
       "      <th>2336</th>\n",
       "      <td>npm</td>\n",
       "      <td>201593</td>\n",
       "      <td>0.001144</td>\n",
       "    </tr>\n",
       "    <tr>\n",
       "      <th>204</th>\n",
       "      <td>npm</td>\n",
       "      <td>106</td>\n",
       "      <td>2.604672</td>\n",
       "    </tr>\n",
       "    <tr>\n",
       "      <th>401</th>\n",
       "      <td>npm</td>\n",
       "      <td>41</td>\n",
       "      <td>2.108537</td>\n",
       "    </tr>\n",
       "    <tr>\n",
       "      <th>262</th>\n",
       "      <td>npm</td>\n",
       "      <td>36</td>\n",
       "      <td>2.217460</td>\n",
       "    </tr>\n",
       "    <tr>\n",
       "      <th>573</th>\n",
       "      <td>npm</td>\n",
       "      <td>35</td>\n",
       "      <td>2.979832</td>\n",
       "    </tr>\n",
       "    <tr>\n",
       "      <th>2163</th>\n",
       "      <td>pypi</td>\n",
       "      <td>4349</td>\n",
       "      <td>4.523081</td>\n",
       "    </tr>\n",
       "    <tr>\n",
       "      <th>2174</th>\n",
       "      <td>pypi</td>\n",
       "      <td>24</td>\n",
       "      <td>1.992754</td>\n",
       "    </tr>\n",
       "    <tr>\n",
       "      <th>2183</th>\n",
       "      <td>pypi</td>\n",
       "      <td>9</td>\n",
       "      <td>2.444444</td>\n",
       "    </tr>\n",
       "    <tr>\n",
       "      <th>2165</th>\n",
       "      <td>pypi</td>\n",
       "      <td>8</td>\n",
       "      <td>1.928571</td>\n",
       "    </tr>\n",
       "    <tr>\n",
       "      <th>2238</th>\n",
       "      <td>pypi</td>\n",
       "      <td>8</td>\n",
       "      <td>2.142857</td>\n",
       "    </tr>\n",
       "  </tbody>\n",
       "</table>\n",
       "</div>"
      ],
      "text/plain": [
       "     ecosystem  component      aspl\n",
       "0         cran       2126  4.771730\n",
       "16        cran          9  2.194444\n",
       "12        cran          9  2.361111\n",
       "60        cran          7  1.428571\n",
       "10        cran          7  2.095238\n",
       "2336       npm     201593  0.001144\n",
       "204        npm        106  2.604672\n",
       "401        npm         41  2.108537\n",
       "262        npm         36  2.217460\n",
       "573        npm         35  2.979832\n",
       "2163      pypi       4349  4.523081\n",
       "2174      pypi         24  1.992754\n",
       "2183      pypi          9  2.444444\n",
       "2165      pypi          8  1.928571\n",
       "2238      pypi          8  2.142857"
      ]
     },
     "execution_count": 33,
     "metadata": {},
     "output_type": "execute_result"
    }
   ],
   "source": [
    "df = pandas.DataFrame.from_records(data, columns=['ecosystem', 'component', 'aspl'])\n",
    "df.sort_values('component', ascending=False).groupby('ecosystem').head(5).sort_values('ecosystem')"
   ]
  },
  {
   "cell_type": "code",
   "execution_count": 25,
   "metadata": {
    "collapsed": false
   },
   "outputs": [
    {
     "data": {
      "text/plain": [
       "<matplotlib.text.Text at 0x7f9081c9ec88>"
      ]
     },
     "execution_count": 25,
     "metadata": {},
     "output_type": "execute_result"
    },
    {
     "data": {
      "image/png": "[encoded data removed]",
      "text/plain": [
       "<matplotlib.figure.Figure at 0x7f9082021908>"
      ]
     },
     "metadata": {},
     "output_type": "display_data"
    }
   ],
   "source": [
    "ax = seaborn.stripplot('ecosystem', 'aspl', data=df, jitter=0.3, \n",
    "                      order=COLORS.keys(), palette=list(COLORS.values()))\n",
    "ax.set_title('Average shortest path length for each\\nweakly connected component (size > 1)')"
   ]
  },
  {
   "cell_type": "markdown",
   "metadata": {},
   "source": [
    "## Hubs and Authorities"
   ]
  },
  {
   "cell_type": "code",
   "execution_count": 21,
   "metadata": {
    "collapsed": false
   },
   "outputs": [
    {
     "data": {
      "image/png": "[encoded data removed]",
      "text/plain": [
       "<matplotlib.figure.Figure at 0x7fee6cf6de48>"
      ]
     },
     "metadata": {},
     "output_type": "display_data"
    },
    {
     "data": {
      "image/png": "[encoded data removed]",
      "text/plain": [
       "<matplotlib.figure.Figure at 0x7fee6c2252b0>"
      ]
     },
     "metadata": {},
     "output_type": "display_data"
    }
   ],
   "source": [
    "fig_hubs, ax_hubs = matplotlib.pyplot.subplots(ncols=3, sharey=True)\n",
    "fig_hubs.set_size_inches((12, 3))\n",
    "\n",
    "fig_auth, ax_authorities = matplotlib.pyplot.subplots(ncols=3)\n",
    "fig_auth.set_size_inches((12, 3))\n",
    "\n",
    "for i, (ecos, graph) in enumerate(graphs.items()):\n",
    "    hubs, authorities = networkx.hits_scipy(graph)\n",
    "    hubs, authorities = pandas.Series(hubs), pandas.Series(authorities)\n",
    "    hubs.plot.hist(label=ecos, ax=ax_hubs[i], bins=25, logy=True, color=COLORS[ecos])\n",
    "    authorities.plot.hist(label=ecos, ax=ax_authorities[i], bins=25, logy=True, color=COLORS[ecos])\n",
    "    ax_hubs[i].set_title('Hubs for {}'.format(ecos))\n",
    "    ax_authorities[i].set_title('Authorities for {}'.format(ecos))"
   ]
  },
  {
   "cell_type": "markdown",
   "metadata": {},
   "source": [
    "## Pagerank"
   ]
  },
  {
   "cell_type": "code",
   "execution_count": 22,
   "metadata": {
    "collapsed": false
   },
   "outputs": [
    {
     "data": {
      "image/png": "[encoded data removed]",
      "text/plain": [
       "<matplotlib.figure.Figure at 0x7fee6cc7fda0>"
      ]
     },
     "metadata": {},
     "output_type": "display_data"
    }
   ],
   "source": [
    "fig, axes = matplotlib.pyplot.subplots(ncols=3, sharey=True)\n",
    "fig.set_size_inches((12, 4))\n",
    "\n",
    "for i, (ecos, graph) in enumerate(graphs.items()):\n",
    "    pagerank = networkx.pagerank(graph)\n",
    "    pandas.Series(pagerank).plot.hist(label=ecos, ax=axes[i], bins=25, logy=True, color=COLORS[ecos])\n",
    "    axes[i].set_title(ecos)\n",
    "    axes[i].set_xlabel('Pagerank value')"
   ]
  }
 ],
 "metadata": {
  "kernelspec": {
   "display_name": "Python 3",
   "language": "python",
   "name": "python3"
  },
  "language_info": {
   "codemirror_mode": {
    "name": "ipython",
    "version": 3
   },
   "file_extension": ".py",
   "mimetype": "text/x-python",
   "name": "python",
   "nbconvert_exporter": "python",
   "pygments_lexer": "ipython3",
   "version": "3.5.1"
  }
 },
 "nbformat": 4,
 "nbformat_minor": 1
}
