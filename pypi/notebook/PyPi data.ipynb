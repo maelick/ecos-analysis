{
 "cells": [
  {
   "cell_type": "code",
   "execution_count": 6,
   "metadata": {
    "collapsed": true
   },
   "outputs": [],
   "source": [
    "import pandas\n",
    "from packaging.requirements import Requirement, InvalidRequirement\n",
    "from packaging.utils import canonicalize_name\n",
    "import tqdm"
   ]
  },
  {
   "cell_type": "code",
   "execution_count": 7,
   "metadata": {
    "collapsed": false
   },
   "outputs": [],
   "source": [
    "INPUT_PACKAGES = '../data/metadata.csv'\n",
    "\n",
    "data = pandas.read_csv(INPUT_PACKAGES, \n",
    "                    usecols=['info_name', 'info_version', 'info_requires', 'info_requires_dist', 'urls_upload_time', 'urls_size'], \n",
    "                    parse_dates=['urls_upload_time'])"
   ]
  },
  {
   "cell_type": "code",
   "execution_count": 8,
   "metadata": {
    "collapsed": false
   },
   "outputs": [],
   "source": [
    "packages = (data\n",
    "            .rename(columns={'info_name': 'package',\n",
    "                             'info_version': 'version', \n",
    "                             'urls_upload_time': 'time'})\n",
    "            [['package', 'version', 'time']]\n",
    "            .set_index(['package', 'version'])\n",
    ")"
   ]
  },
  {
   "cell_type": "code",
   "execution_count": 9,
   "metadata": {
    "collapsed": false
   },
   "outputs": [
    {
     "name": "stdout",
     "output_type": "stream",
     "text": [
      "\n"
     ]
    }
   ],
   "source": [
    "rows = []\n",
    "\n",
    "for row in tqdm.tqdm_notebook(data.itertuples(), total=len(data)):\n",
    "    deps = []\n",
    "    # Parse requirements\n",
    "    try:\n",
    "        deps.extend(eval(row.info_requires))\n",
    "    except Exception:\n",
    "        pass\n",
    "    try:\n",
    "        deps.extend(eval(row.info_requires_dist))\n",
    "    except Exception:\n",
    "        pass\n",
    "    \n",
    "    # Clean requirements\n",
    "    for dep in deps:\n",
    "        try:\n",
    "            dep = canonicalize_name(Requirement(dep).name)\n",
    "        except InvalidRequirement:\n",
    "            pass\n",
    "        rows.append((row.info_name, row.info_version, dep))\n",
    "    \n",
    "deps = pandas.DataFrame(rows, columns=['package', 'version', 'dependency'])    "
   ]
  },
  {
   "cell_type": "code",
   "execution_count": 10,
   "metadata": {
    "collapsed": false
   },
   "outputs": [],
   "source": [
    "sizes = (data\n",
    "            .rename(columns={'info_name': 'package',\n",
    "                             'info_version': 'version', \n",
    "                             'urls_size': 'size'})\n",
    "            [['package', 'version', 'size']]\n",
    "            .set_index(['package', 'version'])\n",
    ")"
   ]
  },
  {
   "cell_type": "code",
   "execution_count": 12,
   "metadata": {
    "collapsed": true
   },
   "outputs": [],
   "source": [
    "packages.to_csv('../data/packages.csv')\n",
    "deps.to_csv('../data/deps.csv', index=False)\n",
    "sizes.to_csv('../data/sizes.csv')"
   ]
  }
 ],
 "metadata": {
  "kernelspec": {
   "display_name": "Python 3",
   "language": "python",
   "name": "python3"
  },
  "language_info": {
   "codemirror_mode": {
    "name": "ipython",
    "version": 3
   },
   "file_extension": ".py",
   "mimetype": "text/x-python",
   "name": "python",
   "nbconvert_exporter": "python",
   "pygments_lexer": "ipython3",
   "version": "3.5.1"
  },
  "widgets": {
   "state": {
    "9d1ab3ba6b1843e68f8676e56004e94f": {
     "views": [
      {
       "cell_index": 3
      }
     ]
    }
   },
   "version": "1.2.0"
  }
 },
 "nbformat": 4,
 "nbformat_minor": 1
}
