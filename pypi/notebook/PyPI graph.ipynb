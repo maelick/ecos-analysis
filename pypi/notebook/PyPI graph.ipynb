{
 "cells": [
  {
   "cell_type": "code",
   "execution_count": 76,
   "metadata": {
    "collapsed": true
   },
   "outputs": [],
   "source": [
    "import pandas\n",
    "import networkx\n",
    "import matplotlib\n",
    "import seaborn\n",
    "\n",
    "from packaging.requirements import Requirement, InvalidRequirement\n",
    "from packaging.utils import canonicalize_name\n",
    "\n",
    "from collections import Counter\n",
    "\n",
    "%matplotlib inline"
   ]
  },
  {
   "cell_type": "code",
   "execution_count": 61,
   "metadata": {
    "collapsed": false
   },
   "outputs": [],
   "source": [
    "INPUT_PACKAGES = '../data/metadata.csv'\n",
    "OUTPUT_GRAPH = '../data/latest-graph.gml'\n",
    "\n",
    "df = pandas.read_csv(INPUT_PACKAGES, \n",
    "                    usecols=['info_name', 'info_requires', 'info_requires_dist', 'urls_upload_time'], \n",
    "                    parse_dates=['urls_upload_time'])"
   ]
  },
  {
   "cell_type": "code",
   "execution_count": 62,
   "metadata": {
    "collapsed": false
   },
   "outputs": [],
   "source": [
    "latests = df.dropna(subset=['urls_upload_time']).groupby('info_name').urls_upload_time.max()\n",
    "data = latests.reset_index().merge(df, how='left', on=['info_name', 'urls_upload_time'])"
   ]
  },
  {
   "cell_type": "code",
   "execution_count": 63,
   "metadata": {
    "collapsed": false
   },
   "outputs": [],
   "source": [
    "packages = {}\n",
    "\n",
    "for row in data.itertuples():\n",
    "    deps = []\n",
    "    # Parse requirements\n",
    "    try:\n",
    "        deps.extend(eval(row.info_requires))\n",
    "    except Exception:\n",
    "        pass\n",
    "    try:\n",
    "        deps.extend(eval(row.info_requires_dist))\n",
    "    except Exception:\n",
    "        pass\n",
    "    \n",
    "    # Clean requirements\n",
    "    cleaned_deps = set()\n",
    "    for dep in deps:\n",
    "        try:\n",
    "            cleaned_deps.add(canonicalize_name(Requirement(dep).name))\n",
    "        except InvalidRequirement:\n",
    "            pass\n",
    "        \n",
    "    packages[row.info_name] = cleaned_deps"
   ]
  },
  {
   "cell_type": "code",
   "execution_count": 67,
   "metadata": {
    "collapsed": false
   },
   "outputs": [],
   "source": [
    "graph = networkx.DiGraph()\n",
    "graph.add_nodes_from(packages.keys())\n",
    "for source, deps in packages.items():\n",
    "    graph.add_edges_from((source, target) for target in deps)\n",
    "networkx.write_gml(graph, OUTPUT_GRAPH)"
   ]
  },
  {
   "cell_type": "markdown",
   "metadata": {},
   "source": [
    "# Overview"
   ]
  },
  {
   "cell_type": "code",
   "execution_count": 91,
   "metadata": {
    "collapsed": false
   },
   "outputs": [
    {
     "name": "stdout",
     "output_type": "stream",
     "text": [
      "Number of packages 75029\n",
      "Number of dependencies 17877\n",
      "Strongly connected components 75015\n",
      "(Weakly) connected components 67502\n",
      "Number of non-isolated package 7735\n",
      "Number of packages with dependencies 5198\n",
      "Number of packages with reverse dependencies 3067\n"
     ]
    }
   ],
   "source": [
    "print('Number of packages', graph.order())\n",
    "print('Number of dependencies', graph.size())\n",
    "print('Strongly connected components', networkx.number_strongly_connected_components(graph))\n",
    "print('(Weakly) connected components', networkx.number_weakly_connected_components(graph))\n",
    "print('Number of non-isolated package', len([True for n, d in graph.degree_iter() if d > 0]))\n",
    "print('Number of packages with dependencies', len([True for n, d in graph.out_degree_iter() if d > 0]))\n",
    "print('Number of packages with reverse dependencies', len([True for n, d in graph.in_degree_iter() if d > 0]))"
   ]
  },
  {
   "cell_type": "code",
   "execution_count": 92,
   "metadata": {
    "collapsed": false
   },
   "outputs": [
    {
     "name": "stdout",
     "output_type": "stream",
     "text": [
      "Weakly connected components size: Counter({1: 67295, 2: 167, 3: 23, 4: 7, 5: 5, 6: 2, 9: 1, 7226: 1, 31: 1})\n",
      "Strongly connected components size: Counter({1: 75007, 2: 5, 3: 2, 6: 1})\n"
     ]
    }
   ],
   "source": [
    "print('Weakly connected components size:', \n",
    "      Counter(len(component) for component in networkx.weakly_connected_components(graph)))\n",
    "print('Strongly connected components size:', \n",
    "      Counter(len(component) for component in networkx.strongly_connected_components(graph)))"
   ]
  },
  {
   "cell_type": "code",
   "execution_count": 97,
   "metadata": {
    "collapsed": false
   },
   "outputs": [
    {
     "name": "stdout",
     "output_type": "stream",
     "text": [
      "Average shortest path length for weakly connected components:\n",
      "0.0010609515618819774 0.5 0.5 0.5 0.035483870967741936 0.5 0.25 0.5 0.5 0.5 0.3333333333333333 0.3333333333333333 0.3333333333333333 0.5 0.25 0.2 0.3333333333333333 0.5 0.5 0.5 0.5 0.5 0.5 0.5 0.5 0.3333333333333333 0.3333333333333333 0.3333333333333333 0.5 0.25 0.5 0.5 0.5 0.5 0.2 0.5 0.4166666666666667 0.2 0.5 0.5 0.16666666666666666 0.5 0.3333333333333333 0.5 0.5 0.5 0.5 0.5 0.5 0.5 0.5 0.5 0.5 0.3333333333333333 0.3333333333333333 0.5 0.3333333333333333 0.5 0.5 0.5 0.3333333333333333 0.2 0.5 0.5 0.5 0.5 0.5 0.5 0.3333333333333333 0.5 0.3333333333333333 0.5 0.5 0.5 0.5 0.5 0.5 0.5 0.5 0.25 0.5 0.5 0.5 0.5 0.5 0.5 0.1111111111111111 0.5 0.5 0.2 0.5 0.16666666666666666 0.5 0.5 0.5 0.5 0.3333333333333333 0.5 0.3333333333333333 0.3333333333333333 0.5 0.5 0.5 0.5 0.5 0.5 0.5 0.5 0.5 0.5 0.5 0.5 0.3333333333333333 0.5 0.5 0.5 0.3333333333333333 0.5 0.5 0.5 0.5 0.5 0.5 0.5 0.5 0.5 0.5 0.5 0.5 0.6666666666666666 0.5 0.5 0.5 0.5 0.5 0.5 0.5833333333333334 0.5 0.5 0.5 0.5 0.5 0.3333333333333333 0.5 0.5 0.5 0.5 0.3333333333333333 0.5 0.5 0.5 0.5 0.5 0.5 0.5 0.5 0.5 0.5 0.5 0.5 0.5 0.5 0.5 0.5 0.5 0.5 0.5 0.5 0.5 0.5 0.5 0.5 0.5 0.3333333333333333 0.5 0.5 0.5 0.5 0.5 0.5 0.5 0.5 0.5 0.5 0.3333333333333333 0.5 0.5 0.5 0.5 0.5 0.5 0.5 0.5 0.5 0.5 0.5 0.5 0.5 0.5 0.5 0.5 0.5 0.5 0.5 0.5 0.5 0.5 "
     ]
    }
   ],
   "source": [
    "print('Average shortest path length for weakly connected components:')\n",
    "for component in networkx.weakly_connected_component_subgraphs(graph):\n",
    "    try:\n",
    "        print(networkx.average_shortest_path_length(component), end=' ')\n",
    "    except ZeroDivisionError:\n",
    "        pass"
   ]
  },
  {
   "cell_type": "code",
   "execution_count": 99,
   "metadata": {
    "collapsed": false
   },
   "outputs": [
    {
     "name": "stdout",
     "output_type": "stream",
     "text": [
      "Average clustering coefficient: 0.0049766830210980755\n"
     ]
    }
   ],
   "source": [
    "print('Average clustering coefficient:', networkx.average_clustering(graph.to_undirected()))"
   ]
  }
 ],
 "metadata": {
  "kernelspec": {
   "display_name": "Python 3",
   "language": "python",
   "name": "python3"
  },
  "language_info": {
   "codemirror_mode": {
    "name": "ipython",
    "version": 3
   },
   "file_extension": ".py",
   "mimetype": "text/x-python",
   "name": "python",
   "nbconvert_exporter": "python",
   "pygments_lexer": "ipython3",
   "version": "3.5.1"
  }
 },
 "nbformat": 4,
 "nbformat_minor": 1
}
